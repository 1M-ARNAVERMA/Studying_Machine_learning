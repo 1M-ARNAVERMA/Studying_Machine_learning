{
 "cells": [
  {
   "cell_type": "markdown",
   "id": "583f503e-c77d-4606-8c01-c837f26fdb80",
   "metadata": {},
   "source": [
    "To begin, let's download the data using the urlretrieve function from urllib.request."
   ]
  },
  {
   "cell_type": "code",
   "execution_count": 1,
   "id": "0b824111-4a9c-4c68-83fa-d73e73ff2848",
   "metadata": {},
   "outputs": [],
   "source": [
    "medical_charges_url = 'https://raw.githubusercontent.com/JovianML/opendatasets/master/data/medical-charges.csv'"
   ]
  },
  {
   "cell_type": "code",
   "execution_count": 2,
   "id": "a9467fe1-83a0-46dc-b613-314635f5f559",
   "metadata": {},
   "outputs": [],
   "source": [
    "from urllib.request import urlretrieve # This helps in retrieving dataset from a link"
   ]
  },
  {
   "cell_type": "code",
   "execution_count": 3,
   "id": "7729beb6-9d2c-4bda-b6f4-3dd909196163",
   "metadata": {},
   "outputs": [
    {
     "data": {
      "text/plain": [
       "('medical.csv', <http.client.HTTPMessage at 0x1a6f389fa90>)"
      ]
     },
     "execution_count": 3,
     "metadata": {},
     "output_type": "execute_result"
    }
   ],
   "source": [
    "urlretrieve(medical_charges_url, 'medical.csv') # medical charges url has been called and data has been saved to medical.csv"
   ]
  },
  {
   "cell_type": "code",
   "execution_count": 4,
   "id": "df271023-d255-4b74-bfc3-6d384d8e16c4",
   "metadata": {},
   "outputs": [
    {
     "name": "stderr",
     "output_type": "stream",
     "text": [
      "\n",
      "[notice] A new release of pip is available: 25.1.1 -> 25.2\n",
      "[notice] To update, run: python.exe -m pip install --upgrade pip\n"
     ]
    }
   ],
   "source": [
    "!pip install pandas --quiet"
   ]
  },
  {
   "cell_type": "code",
   "execution_count": 5,
   "id": "f9d21948-05a0-43d0-b8d2-4fd1a1a2b46c",
   "metadata": {},
   "outputs": [],
   "source": [
    "import pandas as pd"
   ]
  },
  {
   "cell_type": "code",
   "execution_count": 6,
   "id": "d1fe0931-ef21-46f3-b3a1-fefe596f0440",
   "metadata": {},
   "outputs": [],
   "source": [
    "medical_df = pd.read_csv('medical.csv')"
   ]
  },
  {
   "cell_type": "code",
   "execution_count": 7,
   "id": "a4c2a1bd-ca62-4361-80cd-6c65b7f6fff5",
   "metadata": {},
   "outputs": [
    {
     "data": {
      "text/html": [
       "<div>\n",
       "<style scoped>\n",
       "    .dataframe tbody tr th:only-of-type {\n",
       "        vertical-align: middle;\n",
       "    }\n",
       "\n",
       "    .dataframe tbody tr th {\n",
       "        vertical-align: top;\n",
       "    }\n",
       "\n",
       "    .dataframe thead th {\n",
       "        text-align: right;\n",
       "    }\n",
       "</style>\n",
       "<table border=\"1\" class=\"dataframe\">\n",
       "  <thead>\n",
       "    <tr style=\"text-align: right;\">\n",
       "      <th></th>\n",
       "      <th>age</th>\n",
       "      <th>sex</th>\n",
       "      <th>bmi</th>\n",
       "      <th>children</th>\n",
       "      <th>smoker</th>\n",
       "      <th>region</th>\n",
       "      <th>charges</th>\n",
       "    </tr>\n",
       "  </thead>\n",
       "  <tbody>\n",
       "    <tr>\n",
       "      <th>0</th>\n",
       "      <td>19</td>\n",
       "      <td>female</td>\n",
       "      <td>27.900</td>\n",
       "      <td>0</td>\n",
       "      <td>yes</td>\n",
       "      <td>southwest</td>\n",
       "      <td>16884.92400</td>\n",
       "    </tr>\n",
       "    <tr>\n",
       "      <th>1</th>\n",
       "      <td>18</td>\n",
       "      <td>male</td>\n",
       "      <td>33.770</td>\n",
       "      <td>1</td>\n",
       "      <td>no</td>\n",
       "      <td>southeast</td>\n",
       "      <td>1725.55230</td>\n",
       "    </tr>\n",
       "    <tr>\n",
       "      <th>2</th>\n",
       "      <td>28</td>\n",
       "      <td>male</td>\n",
       "      <td>33.000</td>\n",
       "      <td>3</td>\n",
       "      <td>no</td>\n",
       "      <td>southeast</td>\n",
       "      <td>4449.46200</td>\n",
       "    </tr>\n",
       "    <tr>\n",
       "      <th>3</th>\n",
       "      <td>33</td>\n",
       "      <td>male</td>\n",
       "      <td>22.705</td>\n",
       "      <td>0</td>\n",
       "      <td>no</td>\n",
       "      <td>northwest</td>\n",
       "      <td>21984.47061</td>\n",
       "    </tr>\n",
       "    <tr>\n",
       "      <th>4</th>\n",
       "      <td>32</td>\n",
       "      <td>male</td>\n",
       "      <td>28.880</td>\n",
       "      <td>0</td>\n",
       "      <td>no</td>\n",
       "      <td>northwest</td>\n",
       "      <td>3866.85520</td>\n",
       "    </tr>\n",
       "    <tr>\n",
       "      <th>...</th>\n",
       "      <td>...</td>\n",
       "      <td>...</td>\n",
       "      <td>...</td>\n",
       "      <td>...</td>\n",
       "      <td>...</td>\n",
       "      <td>...</td>\n",
       "      <td>...</td>\n",
       "    </tr>\n",
       "    <tr>\n",
       "      <th>1333</th>\n",
       "      <td>50</td>\n",
       "      <td>male</td>\n",
       "      <td>30.970</td>\n",
       "      <td>3</td>\n",
       "      <td>no</td>\n",
       "      <td>northwest</td>\n",
       "      <td>10600.54830</td>\n",
       "    </tr>\n",
       "    <tr>\n",
       "      <th>1334</th>\n",
       "      <td>18</td>\n",
       "      <td>female</td>\n",
       "      <td>31.920</td>\n",
       "      <td>0</td>\n",
       "      <td>no</td>\n",
       "      <td>northeast</td>\n",
       "      <td>2205.98080</td>\n",
       "    </tr>\n",
       "    <tr>\n",
       "      <th>1335</th>\n",
       "      <td>18</td>\n",
       "      <td>female</td>\n",
       "      <td>36.850</td>\n",
       "      <td>0</td>\n",
       "      <td>no</td>\n",
       "      <td>southeast</td>\n",
       "      <td>1629.83350</td>\n",
       "    </tr>\n",
       "    <tr>\n",
       "      <th>1336</th>\n",
       "      <td>21</td>\n",
       "      <td>female</td>\n",
       "      <td>25.800</td>\n",
       "      <td>0</td>\n",
       "      <td>no</td>\n",
       "      <td>southwest</td>\n",
       "      <td>2007.94500</td>\n",
       "    </tr>\n",
       "    <tr>\n",
       "      <th>1337</th>\n",
       "      <td>61</td>\n",
       "      <td>female</td>\n",
       "      <td>29.070</td>\n",
       "      <td>0</td>\n",
       "      <td>yes</td>\n",
       "      <td>northwest</td>\n",
       "      <td>29141.36030</td>\n",
       "    </tr>\n",
       "  </tbody>\n",
       "</table>\n",
       "<p>1338 rows × 7 columns</p>\n",
       "</div>"
      ],
      "text/plain": [
       "      age     sex     bmi  children smoker     region      charges\n",
       "0      19  female  27.900         0    yes  southwest  16884.92400\n",
       "1      18    male  33.770         1     no  southeast   1725.55230\n",
       "2      28    male  33.000         3     no  southeast   4449.46200\n",
       "3      33    male  22.705         0     no  northwest  21984.47061\n",
       "4      32    male  28.880         0     no  northwest   3866.85520\n",
       "...   ...     ...     ...       ...    ...        ...          ...\n",
       "1333   50    male  30.970         3     no  northwest  10600.54830\n",
       "1334   18  female  31.920         0     no  northeast   2205.98080\n",
       "1335   18  female  36.850         0     no  southeast   1629.83350\n",
       "1336   21  female  25.800         0     no  southwest   2007.94500\n",
       "1337   61  female  29.070         0    yes  northwest  29141.36030\n",
       "\n",
       "[1338 rows x 7 columns]"
      ]
     },
     "execution_count": 7,
     "metadata": {},
     "output_type": "execute_result"
    }
   ],
   "source": [
    "medical_df"
   ]
  },
  {
   "cell_type": "code",
   "execution_count": 8,
   "id": "fb1c1139-37f9-412f-8479-92eb71ac67d2",
   "metadata": {},
   "outputs": [
    {
     "name": "stdout",
     "output_type": "stream",
     "text": [
      "<class 'pandas.core.frame.DataFrame'>\n",
      "RangeIndex: 1338 entries, 0 to 1337\n",
      "Data columns (total 7 columns):\n",
      " #   Column    Non-Null Count  Dtype  \n",
      "---  ------    --------------  -----  \n",
      " 0   age       1338 non-null   int64  \n",
      " 1   sex       1338 non-null   object \n",
      " 2   bmi       1338 non-null   float64\n",
      " 3   children  1338 non-null   int64  \n",
      " 4   smoker    1338 non-null   object \n",
      " 5   region    1338 non-null   object \n",
      " 6   charges   1338 non-null   float64\n",
      "dtypes: float64(2), int64(2), object(3)\n",
      "memory usage: 73.3+ KB\n"
     ]
    }
   ],
   "source": [
    "medical_df.info() # It gives datatype for each columns and all the other details"
   ]
  },
  {
   "cell_type": "code",
   "execution_count": 9,
   "id": "048d3b45-6a81-437c-86af-fd0ec9250c0c",
   "metadata": {},
   "outputs": [
    {
     "data": {
      "text/html": [
       "<div>\n",
       "<style scoped>\n",
       "    .dataframe tbody tr th:only-of-type {\n",
       "        vertical-align: middle;\n",
       "    }\n",
       "\n",
       "    .dataframe tbody tr th {\n",
       "        vertical-align: top;\n",
       "    }\n",
       "\n",
       "    .dataframe thead th {\n",
       "        text-align: right;\n",
       "    }\n",
       "</style>\n",
       "<table border=\"1\" class=\"dataframe\">\n",
       "  <thead>\n",
       "    <tr style=\"text-align: right;\">\n",
       "      <th></th>\n",
       "      <th>age</th>\n",
       "      <th>bmi</th>\n",
       "      <th>children</th>\n",
       "      <th>charges</th>\n",
       "    </tr>\n",
       "  </thead>\n",
       "  <tbody>\n",
       "    <tr>\n",
       "      <th>count</th>\n",
       "      <td>1338.000000</td>\n",
       "      <td>1338.000000</td>\n",
       "      <td>1338.000000</td>\n",
       "      <td>1338.000000</td>\n",
       "    </tr>\n",
       "    <tr>\n",
       "      <th>mean</th>\n",
       "      <td>39.207025</td>\n",
       "      <td>30.663397</td>\n",
       "      <td>1.094918</td>\n",
       "      <td>13270.422265</td>\n",
       "    </tr>\n",
       "    <tr>\n",
       "      <th>std</th>\n",
       "      <td>14.049960</td>\n",
       "      <td>6.098187</td>\n",
       "      <td>1.205493</td>\n",
       "      <td>12110.011237</td>\n",
       "    </tr>\n",
       "    <tr>\n",
       "      <th>min</th>\n",
       "      <td>18.000000</td>\n",
       "      <td>15.960000</td>\n",
       "      <td>0.000000</td>\n",
       "      <td>1121.873900</td>\n",
       "    </tr>\n",
       "    <tr>\n",
       "      <th>25%</th>\n",
       "      <td>27.000000</td>\n",
       "      <td>26.296250</td>\n",
       "      <td>0.000000</td>\n",
       "      <td>4740.287150</td>\n",
       "    </tr>\n",
       "    <tr>\n",
       "      <th>50%</th>\n",
       "      <td>39.000000</td>\n",
       "      <td>30.400000</td>\n",
       "      <td>1.000000</td>\n",
       "      <td>9382.033000</td>\n",
       "    </tr>\n",
       "    <tr>\n",
       "      <th>75%</th>\n",
       "      <td>51.000000</td>\n",
       "      <td>34.693750</td>\n",
       "      <td>2.000000</td>\n",
       "      <td>16639.912515</td>\n",
       "    </tr>\n",
       "    <tr>\n",
       "      <th>max</th>\n",
       "      <td>64.000000</td>\n",
       "      <td>53.130000</td>\n",
       "      <td>5.000000</td>\n",
       "      <td>63770.428010</td>\n",
       "    </tr>\n",
       "  </tbody>\n",
       "</table>\n",
       "</div>"
      ],
      "text/plain": [
       "               age          bmi     children       charges\n",
       "count  1338.000000  1338.000000  1338.000000   1338.000000\n",
       "mean     39.207025    30.663397     1.094918  13270.422265\n",
       "std      14.049960     6.098187     1.205493  12110.011237\n",
       "min      18.000000    15.960000     0.000000   1121.873900\n",
       "25%      27.000000    26.296250     0.000000   4740.287150\n",
       "50%      39.000000    30.400000     1.000000   9382.033000\n",
       "75%      51.000000    34.693750     2.000000  16639.912515\n",
       "max      64.000000    53.130000     5.000000  63770.428010"
      ]
     },
     "execution_count": 9,
     "metadata": {},
     "output_type": "execute_result"
    }
   ],
   "source": [
    "medical_df.describe() # Goes though the data and gives the below details"
   ]
  },
  {
   "cell_type": "markdown",
   "id": "8d279078-eb50-4f1e-8e23-d36eecab64b4",
   "metadata": {},
   "source": [
    "Let's explore the data by visualizing the distribution of values in some columns of the dataset, and the relationships between \"charges\" and other columns.\n",
    "\n",
    "We'll use libraries Matplotlib, Seaborn and Plotly for visualization"
   ]
  },
  {
   "cell_type": "code",
   "execution_count": 10,
   "id": "4947a087-242b-476d-a99e-10240b23324e",
   "metadata": {},
   "outputs": [
    {
     "name": "stderr",
     "output_type": "stream",
     "text": [
      "\n",
      "[notice] A new release of pip is available: 25.1.1 -> 25.2\n",
      "[notice] To update, run: python.exe -m pip install --upgrade pip\n"
     ]
    }
   ],
   "source": [
    "!pip install plotly matplotlib seaborn --quiet"
   ]
  },
  {
   "cell_type": "code",
   "execution_count": 11,
   "id": "ffd3e90c-1dc0-49fd-9ea2-9b5a5f6d73bd",
   "metadata": {},
   "outputs": [],
   "source": [
    "import plotly.express as px # Plotly is a high level API that makes it really easy to create interactive charts\n",
    "import matplotlib\n",
    "import matplotlib.pyplot as plt\n",
    "import seaborn as sns\n",
    "\n",
    "# Is to ensure that any charts that you create they show as outputs within you notebook and not as pop ups\n",
    "%matplotlib inline  "
   ]
  },
  {
   "cell_type": "code",
   "execution_count": 12,
   "id": "1bbecbce-9332-4c84-a369-b61442ef96c1",
   "metadata": {},
   "outputs": [],
   "source": [
    "#The following settings will improve the default style and font sizes for our charts.\n",
    "    \n",
    "sns.set_style('darkgrid')\n",
    "matplotlib.rcParams['font.size'] = 14\n",
    "matplotlib.rcParams['figure.figsize'] = (10, 6)\n",
    "matplotlib.rcParams['figure.facecolor'] = '#00000000'"
   ]
  },
  {
   "cell_type": "markdown",
   "id": "7a31afcd-1b85-4e31-9fb8-15aeda475e47",
   "metadata": {},
   "source": [
    "### AGE"
   ]
  },
  {
   "cell_type": "code",
   "execution_count": 13,
   "id": "71ac600c-d34d-40cc-9adc-c579bc433d28",
   "metadata": {},
   "outputs": [
    {
     "data": {
      "text/plain": [
       "count    1338.000000\n",
       "mean       39.207025\n",
       "std        14.049960\n",
       "min        18.000000\n",
       "25%        27.000000\n",
       "50%        39.000000\n",
       "75%        51.000000\n",
       "max        64.000000\n",
       "Name: age, dtype: float64"
      ]
     },
     "execution_count": 13,
     "metadata": {},
     "output_type": "execute_result"
    }
   ],
   "source": [
    "medical_df.age.describe()"
   ]
  },
  {
   "cell_type": "code",
   "execution_count": 14,
   "id": "04b74225-0b74-4b65-8aaf-e40705e73ffe",
   "metadata": {},
   "outputs": [
    {
     "data": {
      "application/vnd.plotly.v1+json": {
       "config": {
        "plotlyServerURL": "https://plot.ly"
       },
       "data": [
        {
         "bingroup": "x",
         "hovertemplate": "age=%{x}<br>count=%{y}<extra></extra>",
         "legendgroup": "",
         "marker": {
          "color": "#636efa",
          "pattern": {
           "shape": ""
          }
         },
         "name": "",
         "nbinsx": 47,
         "orientation": "v",
         "showlegend": false,
         "type": "histogram",
         "x": {
          "bdata": "ExIcISAfLiUlPBk+FzgbEzQXOB48HhIiJTs/NxcfFhITPxwTPhojPBgfKSUmNxIcPCQSFTAkKDo6EjUiKxlAHBQTPSgoHBsfNTosOR0VFikfLRYwJS05OC43FTU7I0AcNjc4JikeEj0iFBMaHT82NyUVNDw6HTElLBIULC8aEzQgJjs9NRMUFhMWNhYiGiIdHh0uMzUTIzAgKigsMBIeMioSNiAlLxQgExs/MRIjGD8mNi4pOhIWLCwkGh4pHT0kGTgSEyctM0ATMDwbLhw7Iz8oFCgYIi0pNRsaGCI1IBMqNxw6KS8qOxM7JygSHxMsFyE3KD82PBgTHRI/NhsyNzgmMxM6FDQTNS4oOy0xEjIpMhkvExY7Myg2Hjc0Li4/OzQcHRkWGRITLx8wJDU4HDkdHB46KTITKzEbNDI2LCAiGiI5HSgbLUA0PTQ9OCtAPD4yLhg+PD8xIiEuJBM5Mh4hEi4uLxcSMCMTFRUxOCosEj05KhoUFycYQD4bNzcjLBM6MhoYMBMwMS4uKxVAEjMvQDEfNCEvJiATLBoZEys0JEA/QD0oGTAtJhIVGxMdKjwfPBYjNBofIRI7OC08OCgjJx4YFCA7Nzk4KDEqPjgTHjw4HBIbEhMvNj0YGRUXPzESMzAfNhMsNRM9Ej0VFB8tLD4dKzMTJiUWFRg5OBszEyc6FC0jHzIgMyYqEhMzLhI5PjslQCYhLi41IhQ/NjYxHDYZKz8gPjQZHC4iIxMuNhsyEhMmKTEwHxIePjk6Fh80GTsTJyATIRUiPSY6LxQVKS4qIis0EjM4QBMzGzscHi8mEiIULzgxEzceJTESOx0kITosNRgdKDNAEyMnOCEqPRcrMCcoEjoxNTAtOzQaGzA5JTkgEkArMSg+KB4dJCksLTc8ODEVEyc1ITUqKC8bFS8UGBsaNSk4FxUyNSIvITMxHyQSMisUGDwxPDM6MzU+EzIeKR0SKSM1GDA7MSUaFx0tGzUfMjIiEy8cJRVAOhgfJy8eEhYXIRstOS8qQCY9NSwTKTMoLSM1HhIzMh8jPBUdPicTFjUnGx4eOiEqQBUSFy0oExIZLiE2HCQUGBcvIS0aEiw8QDgkKSc/JBw6JCokOCM7FTsXOTU8MxcbNyU9LjUxFDAZGTklJjckMygSOT0ZMhoqKywXMSEpJRYXFTMZIDkkFjlAJDYvPj0rExITMTwaMTwaGyw/IBYSOywhGCstPSM+PiYiKzITOT4pGicuLSA7LCcSNRIyEhM+OColKhk5Mx4sIh82GCswEx0/LjQjMywVJzIiFhMaHTAaLSQ2Ih8bFCwrLSIYGiYyJhsnJz8hJB4YGDAvHRwvGTMwKz0wJjsTGjYVMxYvEi8VExc2JS43HhI9NhYtFhMjEhQcNysrFhkxLEAxLxs3MC0YIBg5OyQdKjAnPzYlPxU2PCAvFRw/EiAmID4nNzk0OC83FxYyEjMWNBkhNR06JTYxMhotNiYwHBc3KRkhHhcuNRsXPzcjIhMnGzk0HDIsGiETMik0JzI0PBQ3KhI6KyMwJBMXFCArIh4SKSM5HSAlEis4Jh0WNCgXHyoYGTAXLRQ+KxcfKTowHxMTKSgfJS4WMxIjOyQlOyQnEjQbEigdLiYeKDIUKSEmKjg6NBQ2Oi0aPzolGTRAFhwSHC0hEiAYExQoIiozNjc0IBwpKzFANxgULRoZKyMaORYgJxkwLxISPS8cJBQsJhMVLjoUEhwhEy0+GSsqGB0gGSkqISITHhITEiMnHz4+Kh89KjMXNDkXNDISEhU9",
          "dtype": "i1"
         },
         "xaxis": "x",
         "yaxis": "y"
        },
        {
         "hovertemplate": "age=%{x}<extra></extra>",
         "legendgroup": "",
         "marker": {
          "color": "#636efa"
         },
         "name": "",
         "notched": true,
         "showlegend": false,
         "type": "box",
         "x": {
          "bdata": "ExIcISAfLiUlPBk+FzgbEzQXOB48HhIiJTs/NxcfFhITPxwTPhojPBgfKSUmNxIcPCQSFTAkKDo6EjUiKxlAHBQTPSgoHBsfNTosOR0VFikfLRYwJS05OC43FTU7I0AcNjc4JikeEj0iFBMaHT82NyUVNDw6HTElLBIULC8aEzQgJjs9NRMUFhMWNhYiGiIdHh0uMzUTIzAgKigsMBIeMioSNiAlLxQgExs/MRIjGD8mNi4pOhIWLCwkGh4pHT0kGTgSEyctM0ATMDwbLhw7Iz8oFCgYIi0pNRsaGCI1IBMqNxw6KS8qOxM7JygSHxMsFyE3KD82PBgTHRI/NhsyNzgmMxM6FDQTNS4oOy0xEjIpMhkvExY7Myg2Hjc0Li4/OzQcHRkWGRITLx8wJDU4HDkdHB46KTITKzEbNDI2LCAiGiI5HSgbLUA0PTQ9OCtAPD4yLhg+PD8xIiEuJBM5Mh4hEi4uLxcSMCMTFRUxOCosEj05KhoUFycYQD4bNzcjLBM6MhoYMBMwMS4uKxVAEjMvQDEfNCEvJiATLBoZEys0JEA/QD0oGTAtJhIVGxMdKjwfPBYjNBofIRI7OC08OCgjJx4YFCA7Nzk4KDEqPjgTHjw4HBIbEhMvNj0YGRUXPzESMzAfNhMsNRM9Ej0VFB8tLD4dKzMTJiUWFRg5OBszEyc6FC0jHzIgMyYqEhMzLhI5PjslQCYhLi41IhQ/NjYxHDYZKz8gPjQZHC4iIxMuNhsyEhMmKTEwHxIePjk6Fh80GTsTJyATIRUiPSY6LxQVKS4qIis0EjM4QBMzGzscHi8mEiIULzgxEzceJTESOx0kITosNRgdKDNAEyMnOCEqPRcrMCcoEjoxNTAtOzQaGzA5JTkgEkArMSg+KB4dJCksLTc8ODEVEyc1ITUqKC8bFS8UGBsaNSk4FxUyNSIvITMxHyQSMisUGDwxPDM6MzU+EzIeKR0SKSM1GDA7MSUaFx0tGzUfMjIiEy8cJRVAOhgfJy8eEhYXIRstOS8qQCY9NSwTKTMoLSM1HhIzMh8jPBUdPicTFjUnGx4eOiEqQBUSFy0oExIZLiE2HCQUGBcvIS0aEiw8QDgkKSc/JBw6JCokOCM7FTsXOTU8MxcbNyU9LjUxFDAZGTklJjckMygSOT0ZMhoqKywXMSEpJRYXFTMZIDkkFjlAJDYvPj0rExITMTwaMTwaGyw/IBYSOywhGCstPSM+PiYiKzITOT4pGicuLSA7LCcSNRIyEhM+OColKhk5Mx4sIh82GCswEx0/LjQjMywVJzIiFhMaHTAaLSQ2Ih8bFCwrLSIYGiYyJhsnJz8hJB4YGDAvHRwvGTMwKz0wJjsTGjYVMxYvEi8VExc2JS43HhI9NhYtFhMjEhQcNysrFhkxLEAxLxs3MC0YIBg5OyQdKjAnPzYlPxU2PCAvFRw/EiAmID4nNzk0OC83FxYyEjMWNBkhNR06JTYxMhotNiYwHBc3KRkhHhcuNRsXPzcjIhMnGzk0HDIsGiETMik0JzI0PBQ3KhI6KyMwJBMXFCArIh4SKSM5HSAlEis4Jh0WNCgXHyoYGTAXLRQ+KxcfKTowHxMTKSgfJS4WMxIjOyQlOyQnEjQbEigdLiYeKDIUKSEmKjg6NBQ2Oi0aPzolGTRAFhwSHC0hEiAYExQoIiozNjc0IBwpKzFANxgULRoZKyMaORYgJxkwLxISPS8cJBQsJhMVLjoUEhwhEy0+GSsqGB0gGSkqISITHhITEiMnHz4+Kh89KjMXNDkXNDISEhU9",
          "dtype": "i1"
         },
         "xaxis": "x2",
         "yaxis": "y2"
        }
       ],
       "layout": {
        "bargap": 0.1,
        "barmode": "relative",
        "legend": {
         "tracegroupgap": 0
        },
        "template": {
         "data": {
          "bar": [
           {
            "error_x": {
             "color": "#2a3f5f"
            },
            "error_y": {
             "color": "#2a3f5f"
            },
            "marker": {
             "line": {
              "color": "#E5ECF6",
              "width": 0.5
             },
             "pattern": {
              "fillmode": "overlay",
              "size": 10,
              "solidity": 0.2
             }
            },
            "type": "bar"
           }
          ],
          "barpolar": [
           {
            "marker": {
             "line": {
              "color": "#E5ECF6",
              "width": 0.5
             },
             "pattern": {
              "fillmode": "overlay",
              "size": 10,
              "solidity": 0.2
             }
            },
            "type": "barpolar"
           }
          ],
          "carpet": [
           {
            "aaxis": {
             "endlinecolor": "#2a3f5f",
             "gridcolor": "white",
             "linecolor": "white",
             "minorgridcolor": "white",
             "startlinecolor": "#2a3f5f"
            },
            "baxis": {
             "endlinecolor": "#2a3f5f",
             "gridcolor": "white",
             "linecolor": "white",
             "minorgridcolor": "white",
             "startlinecolor": "#2a3f5f"
            },
            "type": "carpet"
           }
          ],
          "choropleth": [
           {
            "colorbar": {
             "outlinewidth": 0,
             "ticks": ""
            },
            "type": "choropleth"
           }
          ],
          "contour": [
           {
            "colorbar": {
             "outlinewidth": 0,
             "ticks": ""
            },
            "colorscale": [
             [
              0,
              "#0d0887"
             ],
             [
              0.1111111111111111,
              "#46039f"
             ],
             [
              0.2222222222222222,
              "#7201a8"
             ],
             [
              0.3333333333333333,
              "#9c179e"
             ],
             [
              0.4444444444444444,
              "#bd3786"
             ],
             [
              0.5555555555555556,
              "#d8576b"
             ],
             [
              0.6666666666666666,
              "#ed7953"
             ],
             [
              0.7777777777777778,
              "#fb9f3a"
             ],
             [
              0.8888888888888888,
              "#fdca26"
             ],
             [
              1,
              "#f0f921"
             ]
            ],
            "type": "contour"
           }
          ],
          "contourcarpet": [
           {
            "colorbar": {
             "outlinewidth": 0,
             "ticks": ""
            },
            "type": "contourcarpet"
           }
          ],
          "heatmap": [
           {
            "colorbar": {
             "outlinewidth": 0,
             "ticks": ""
            },
            "colorscale": [
             [
              0,
              "#0d0887"
             ],
             [
              0.1111111111111111,
              "#46039f"
             ],
             [
              0.2222222222222222,
              "#7201a8"
             ],
             [
              0.3333333333333333,
              "#9c179e"
             ],
             [
              0.4444444444444444,
              "#bd3786"
             ],
             [
              0.5555555555555556,
              "#d8576b"
             ],
             [
              0.6666666666666666,
              "#ed7953"
             ],
             [
              0.7777777777777778,
              "#fb9f3a"
             ],
             [
              0.8888888888888888,
              "#fdca26"
             ],
             [
              1,
              "#f0f921"
             ]
            ],
            "type": "heatmap"
           }
          ],
          "histogram": [
           {
            "marker": {
             "pattern": {
              "fillmode": "overlay",
              "size": 10,
              "solidity": 0.2
             }
            },
            "type": "histogram"
           }
          ],
          "histogram2d": [
           {
            "colorbar": {
             "outlinewidth": 0,
             "ticks": ""
            },
            "colorscale": [
             [
              0,
              "#0d0887"
             ],
             [
              0.1111111111111111,
              "#46039f"
             ],
             [
              0.2222222222222222,
              "#7201a8"
             ],
             [
              0.3333333333333333,
              "#9c179e"
             ],
             [
              0.4444444444444444,
              "#bd3786"
             ],
             [
              0.5555555555555556,
              "#d8576b"
             ],
             [
              0.6666666666666666,
              "#ed7953"
             ],
             [
              0.7777777777777778,
              "#fb9f3a"
             ],
             [
              0.8888888888888888,
              "#fdca26"
             ],
             [
              1,
              "#f0f921"
             ]
            ],
            "type": "histogram2d"
           }
          ],
          "histogram2dcontour": [
           {
            "colorbar": {
             "outlinewidth": 0,
             "ticks": ""
            },
            "colorscale": [
             [
              0,
              "#0d0887"
             ],
             [
              0.1111111111111111,
              "#46039f"
             ],
             [
              0.2222222222222222,
              "#7201a8"
             ],
             [
              0.3333333333333333,
              "#9c179e"
             ],
             [
              0.4444444444444444,
              "#bd3786"
             ],
             [
              0.5555555555555556,
              "#d8576b"
             ],
             [
              0.6666666666666666,
              "#ed7953"
             ],
             [
              0.7777777777777778,
              "#fb9f3a"
             ],
             [
              0.8888888888888888,
              "#fdca26"
             ],
             [
              1,
              "#f0f921"
             ]
            ],
            "type": "histogram2dcontour"
           }
          ],
          "mesh3d": [
           {
            "colorbar": {
             "outlinewidth": 0,
             "ticks": ""
            },
            "type": "mesh3d"
           }
          ],
          "parcoords": [
           {
            "line": {
             "colorbar": {
              "outlinewidth": 0,
              "ticks": ""
             }
            },
            "type": "parcoords"
           }
          ],
          "pie": [
           {
            "automargin": true,
            "type": "pie"
           }
          ],
          "scatter": [
           {
            "fillpattern": {
             "fillmode": "overlay",
             "size": 10,
             "solidity": 0.2
            },
            "type": "scatter"
           }
          ],
          "scatter3d": [
           {
            "line": {
             "colorbar": {
              "outlinewidth": 0,
              "ticks": ""
             }
            },
            "marker": {
             "colorbar": {
              "outlinewidth": 0,
              "ticks": ""
             }
            },
            "type": "scatter3d"
           }
          ],
          "scattercarpet": [
           {
            "marker": {
             "colorbar": {
              "outlinewidth": 0,
              "ticks": ""
             }
            },
            "type": "scattercarpet"
           }
          ],
          "scattergeo": [
           {
            "marker": {
             "colorbar": {
              "outlinewidth": 0,
              "ticks": ""
             }
            },
            "type": "scattergeo"
           }
          ],
          "scattergl": [
           {
            "marker": {
             "colorbar": {
              "outlinewidth": 0,
              "ticks": ""
             }
            },
            "type": "scattergl"
           }
          ],
          "scattermap": [
           {
            "marker": {
             "colorbar": {
              "outlinewidth": 0,
              "ticks": ""
             }
            },
            "type": "scattermap"
           }
          ],
          "scattermapbox": [
           {
            "marker": {
             "colorbar": {
              "outlinewidth": 0,
              "ticks": ""
             }
            },
            "type": "scattermapbox"
           }
          ],
          "scatterpolar": [
           {
            "marker": {
             "colorbar": {
              "outlinewidth": 0,
              "ticks": ""
             }
            },
            "type": "scatterpolar"
           }
          ],
          "scatterpolargl": [
           {
            "marker": {
             "colorbar": {
              "outlinewidth": 0,
              "ticks": ""
             }
            },
            "type": "scatterpolargl"
           }
          ],
          "scatterternary": [
           {
            "marker": {
             "colorbar": {
              "outlinewidth": 0,
              "ticks": ""
             }
            },
            "type": "scatterternary"
           }
          ],
          "surface": [
           {
            "colorbar": {
             "outlinewidth": 0,
             "ticks": ""
            },
            "colorscale": [
             [
              0,
              "#0d0887"
             ],
             [
              0.1111111111111111,
              "#46039f"
             ],
             [
              0.2222222222222222,
              "#7201a8"
             ],
             [
              0.3333333333333333,
              "#9c179e"
             ],
             [
              0.4444444444444444,
              "#bd3786"
             ],
             [
              0.5555555555555556,
              "#d8576b"
             ],
             [
              0.6666666666666666,
              "#ed7953"
             ],
             [
              0.7777777777777778,
              "#fb9f3a"
             ],
             [
              0.8888888888888888,
              "#fdca26"
             ],
             [
              1,
              "#f0f921"
             ]
            ],
            "type": "surface"
           }
          ],
          "table": [
           {
            "cells": {
             "fill": {
              "color": "#EBF0F8"
             },
             "line": {
              "color": "white"
             }
            },
            "header": {
             "fill": {
              "color": "#C8D4E3"
             },
             "line": {
              "color": "white"
             }
            },
            "type": "table"
           }
          ]
         },
         "layout": {
          "annotationdefaults": {
           "arrowcolor": "#2a3f5f",
           "arrowhead": 0,
           "arrowwidth": 1
          },
          "autotypenumbers": "strict",
          "coloraxis": {
           "colorbar": {
            "outlinewidth": 0,
            "ticks": ""
           }
          },
          "colorscale": {
           "diverging": [
            [
             0,
             "#8e0152"
            ],
            [
             0.1,
             "#c51b7d"
            ],
            [
             0.2,
             "#de77ae"
            ],
            [
             0.3,
             "#f1b6da"
            ],
            [
             0.4,
             "#fde0ef"
            ],
            [
             0.5,
             "#f7f7f7"
            ],
            [
             0.6,
             "#e6f5d0"
            ],
            [
             0.7,
             "#b8e186"
            ],
            [
             0.8,
             "#7fbc41"
            ],
            [
             0.9,
             "#4d9221"
            ],
            [
             1,
             "#276419"
            ]
           ],
           "sequential": [
            [
             0,
             "#0d0887"
            ],
            [
             0.1111111111111111,
             "#46039f"
            ],
            [
             0.2222222222222222,
             "#7201a8"
            ],
            [
             0.3333333333333333,
             "#9c179e"
            ],
            [
             0.4444444444444444,
             "#bd3786"
            ],
            [
             0.5555555555555556,
             "#d8576b"
            ],
            [
             0.6666666666666666,
             "#ed7953"
            ],
            [
             0.7777777777777778,
             "#fb9f3a"
            ],
            [
             0.8888888888888888,
             "#fdca26"
            ],
            [
             1,
             "#f0f921"
            ]
           ],
           "sequentialminus": [
            [
             0,
             "#0d0887"
            ],
            [
             0.1111111111111111,
             "#46039f"
            ],
            [
             0.2222222222222222,
             "#7201a8"
            ],
            [
             0.3333333333333333,
             "#9c179e"
            ],
            [
             0.4444444444444444,
             "#bd3786"
            ],
            [
             0.5555555555555556,
             "#d8576b"
            ],
            [
             0.6666666666666666,
             "#ed7953"
            ],
            [
             0.7777777777777778,
             "#fb9f3a"
            ],
            [
             0.8888888888888888,
             "#fdca26"
            ],
            [
             1,
             "#f0f921"
            ]
           ]
          },
          "colorway": [
           "#636efa",
           "#EF553B",
           "#00cc96",
           "#ab63fa",
           "#FFA15A",
           "#19d3f3",
           "#FF6692",
           "#B6E880",
           "#FF97FF",
           "#FECB52"
          ],
          "font": {
           "color": "#2a3f5f"
          },
          "geo": {
           "bgcolor": "white",
           "lakecolor": "white",
           "landcolor": "#E5ECF6",
           "showlakes": true,
           "showland": true,
           "subunitcolor": "white"
          },
          "hoverlabel": {
           "align": "left"
          },
          "hovermode": "closest",
          "mapbox": {
           "style": "light"
          },
          "paper_bgcolor": "white",
          "plot_bgcolor": "#E5ECF6",
          "polar": {
           "angularaxis": {
            "gridcolor": "white",
            "linecolor": "white",
            "ticks": ""
           },
           "bgcolor": "#E5ECF6",
           "radialaxis": {
            "gridcolor": "white",
            "linecolor": "white",
            "ticks": ""
           }
          },
          "scene": {
           "xaxis": {
            "backgroundcolor": "#E5ECF6",
            "gridcolor": "white",
            "gridwidth": 2,
            "linecolor": "white",
            "showbackground": true,
            "ticks": "",
            "zerolinecolor": "white"
           },
           "yaxis": {
            "backgroundcolor": "#E5ECF6",
            "gridcolor": "white",
            "gridwidth": 2,
            "linecolor": "white",
            "showbackground": true,
            "ticks": "",
            "zerolinecolor": "white"
           },
           "zaxis": {
            "backgroundcolor": "#E5ECF6",
            "gridcolor": "white",
            "gridwidth": 2,
            "linecolor": "white",
            "showbackground": true,
            "ticks": "",
            "zerolinecolor": "white"
           }
          },
          "shapedefaults": {
           "line": {
            "color": "#2a3f5f"
           }
          },
          "ternary": {
           "aaxis": {
            "gridcolor": "white",
            "linecolor": "white",
            "ticks": ""
           },
           "baxis": {
            "gridcolor": "white",
            "linecolor": "white",
            "ticks": ""
           },
           "bgcolor": "#E5ECF6",
           "caxis": {
            "gridcolor": "white",
            "linecolor": "white",
            "ticks": ""
           }
          },
          "title": {
           "x": 0.05
          },
          "xaxis": {
           "automargin": true,
           "gridcolor": "white",
           "linecolor": "white",
           "ticks": "",
           "title": {
            "standoff": 15
           },
           "zerolinecolor": "white",
           "zerolinewidth": 2
          },
          "yaxis": {
           "automargin": true,
           "gridcolor": "white",
           "linecolor": "white",
           "ticks": "",
           "title": {
            "standoff": 15
           },
           "zerolinecolor": "white",
           "zerolinewidth": 2
          }
         }
        },
        "title": {
         "text": "Distribution of Age"
        },
        "xaxis": {
         "anchor": "y",
         "domain": [
          0,
          1
         ],
         "title": {
          "text": "age"
         }
        },
        "xaxis2": {
         "anchor": "y2",
         "domain": [
          0,
          1
         ],
         "matches": "x",
         "showgrid": true,
         "showticklabels": false
        },
        "yaxis": {
         "anchor": "x",
         "domain": [
          0,
          0.8316
         ],
         "title": {
          "text": "count"
         }
        },
        "yaxis2": {
         "anchor": "x2",
         "domain": [
          0.8416,
          1
         ],
         "matches": "y2",
         "showgrid": false,
         "showline": false,
         "showticklabels": false,
         "ticks": ""
        }
       }
      },
      "image/png": "[encoded data removed]"
     },
     "metadata": {},
     "output_type": "display_data"
    }
   ],
   "source": [
    "fig = px.histogram(medical_df, # Pass this dataframe\n",
    "                   x='age', # Age on the x-axis\n",
    "                   marginal='box', # plotly will plot a box plot above the graph\n",
    "                   nbins=47, \n",
    "                   title='Distribution of Age')\n",
    "fig.update_layout(bargap=0.1)\n",
    "fig.show()"
   ]
  },
  {
   "cell_type": "markdown",
   "id": "6b7cf620-cc20-49e8-8d33-c841c0d2a7e1",
   "metadata": {},
   "source": [
    "## Body Mass Index"
   ]
  },
  {
   "cell_type": "code",
   "execution_count": 15,
   "id": "f1215a97-22f8-4b31-bc33-09dcccae7754",
   "metadata": {},
   "outputs": [
    {
     "data": {
      "application/vnd.plotly.v1+json": {
       "config": {
        "plotlyServerURL": "https://plot.ly"
       },
       "data": [
        {
         "bingroup": "x",
         "hovertemplate": "bmi=%{x}<br>count=%{y}<extra></extra>",
         "legendgroup": "",
         "marker": {
          "color": "red",
          "pattern": {
           "shape": ""
          }
         },
         "name": "",
         "orientation": "v",
         "showlegend": false,
         "type": "histogram",
         "x": {
          "bdata": "ZmZmZmbmO0DD9Shcj+JAQAAAAAAAgEBAFK5H4Xq0NkDhehSuR+E8QD0K16NwvTlAuB6F61G4QEA9CtejcL07QBSuR+F61D1A16NwPQrXOUC4HoXrUTg6QArXo3A9SjpAMzMzMzMzQUApXI/C9ehDQHE9CtejEEVAmpmZmZmZOEBI4XoUrsc+QLgehetR2DdAZmZmZmYmREBmZmZmZqZBQHE9CtejAEJAMzMzMzMzQEDNzMzMzAxBQOxRuB6F6z9AZmZmZmYGPEC4HoXrUbg7QPYoXI/CFTdAMzMzMzNjQEDD9Shcj2IxQGZmZmZmJkJAzczMzMzMQUBxPQrXo1A6QJqZmZmZmTxAj8L1KFxPPEAzMzMzMzNCQM3MzMzMbDRA7FG4HoV7QEDNzMzMzMw0QPYoXI/CVUJAMzMzMzPzQ0CamZmZmZk6QHE9CtejUEJASOF6FK7HNUDNzMzMzMw+QGZmZmZmhkJAZmZmZmamQkCF61G4HlVDQMP1KFyPYkFASOF6FK6HOECamZmZmZlBQAAAAAAA0EFAcT0K16PQQEAAAAAAAAA8QNejcD0KN0FAcT0K16OwPEAK16NwPXpCQDMzMzMz0z9ArkfhehSuP0DhehSuR+E2QHsUrkfhqkJAXI/C9ShcO0AUrkfhetRAQDMzMzMzszhAj8L1KFzvOUDsUbgehWs2QGZmZmZm5jxAzczMzMyMQ0BxPQrXo1A6QLgehetRGEJAexSuR+H6N0AAAAAAAMA4QAAAAAAAgDxAmpmZmZkZPEDhehSuRwFAQGZmZmZmZjtA4XoUrkcBQUDXo3A9Cpc9QKRwPQrXw0FA16NwPQrnQ0DsUbgehXtAQMP1KFyP4jpAFK5H4XokQ0CPwvUoXM9CQD0K16NwnURAZmZmZmZmQUCF61G4HuU2QClcj8L1KD9AMzMzMzMzO0A9CtejcL07QHsUrkfh+jpAH4XrUbi+Q0DsUbgehcs4QBSuR+F61D1Aw/UoXI9iQUDNzMzMzEw/QI/C9Shcz0JAzczMzMzMPkCkcD0K1yNDQDMzMzMz8zNAzczMzMxMM0CamZmZmZk/QPYoXI/CdTlAPQrXo3AdPkDsUbgehes9QAAAAAAAgDtAZmZmZmYGPEBmZmZmZmY8QAAAAAAA4D5AcT0K16PwO0DsUbgehYtBQHE9Ctej0EBAMzMzMzOzPUDNzMzMzMw+QFyPwvUo3EFACtejcD0aQEC4HoXrUZg8QEjhehSuh0hAcT0K16PwO0DsUbgehSs7QB+F61G4XjdAzczMzMyMQkAAAAAAAMA3QJqZmZmZ+TxAmpmZmZlZP0CF61G4HvVAQClcj8L1yDxAzczMzMxMPEAzMzMzM7NCQKRwPQrXwzFAmpmZmZlZQUDhehSuR4E6QArXo3A9CjZAMzMzMzPzQUCuR+F6FI45QClcj8L1yDxAzczMzMwMPEDNzMzMzAxBQM3MzMzMLDlAZmZmZmbmP0AAAAAAAABCQOxRuB6FazZAH4XrUbg+QEDNzMzMzEw5QFyPwvUovD1AcT0K16OwPEAK16NwPWpDQB+F61G4fj5APQrXo3DdQkDXo3A9CrdCQGZmZmZmZjxA4XoUrkchOEAzMzMzM7M9QMP1KFyPkkJAH4XrUbheN0D2KFyPwnU5QMP1KFyPwkNA7FG4HoVrOEDNzMzMzCw5QKRwPQrXw0FAFK5H4XrUO0CamZmZmZk6QM3MzMzMbEJAzczMzMzMQ0DNzMzMzMw9QKRwPQrXoz1A16NwPQo3PEAAAAAAAIBCQKRwPQrXk0BAMzMzMzPTP0BI4XoUrucyQFyPwvUovERAzczMzMxMPkDsUbgehesvQGZmZmZmZkFAXI/C9SisQECamZmZmdlCQPYoXI/C1TtAMzMzMzMzPUBmZmZmZuY8QKRwPQrXk0BAuB6F61GYPECkcD0K1yNDQDMzMzMz8zNAKVyPwvVoOkBxPQrXo7A+QMP1KFyP8kRA7FG4HoXrPUBmZmZmZuY+QJqZmZmZGUBArkfhehQOQEBSuB6F65E/QDMzMzMzMzpAPQrXo3C9OUCamZmZmZk6QNejcD0KN0FA16NwPQqXPkBmZmZmZmZAQJqZmZmZmTxAzczMzMwMMkAK16NwPapDQK5H4XoUDkBAPQrXo3AdQEApXI/C9Qg4QArXo3A9CkJAzczMzMxMNkDhehSuR+E8QGZmZmZmZjpAPQrXo3C9O0DNzMzMzMw/QD0K16NwnURAAAAAAACAQEAAAAAAAOA+QAAAAAAAgDxAexSuR+G6OkBmZmZmZuY+QM3MzMzMjEJAmpmZmZmZOkCamZmZmRk3QOxRuB6F6z1A9ihcj8I1N0CamZmZmdlAQAAAAAAAoEBAzczMzMzMPkBmZmZmZmZBQKRwPQrXozhAcT0K16PwQEBI4XoUrgdDQBSuR+F69ERAw/UoXI+iP0D2KFyPwnU5QClcj8L1GEJAFK5H4XrUO0DNzMzMzMwxQAAAAAAAgDtAw/UoXI+COEC4HoXrUTg2QHsUrkfhujpAUrgehesxQ0BSuB6F6xE9QEjhehSuB0NA9ihcj8JVQkDD9ShcjyI2QM3MzMzMzDpAZmZmZmamQUA9CtejcL07QIXrUbgeBT5ASOF6FK4HQ0CuR+F6FO5BQGZmZmZm5jRAmpmZmZn5PEAK16NwPUoxQJqZmZmZGUBAexSuR+EaQUDNzMzMzEw+QDMzMzMz0z9APQrXo3BdOUBxPQrXo9BAQDMzMzMzE0RACtejcD1qOEDsUbgehes/QDMzMzMzMzlA16NwPQrXOkBSuB6F61E4QArXo3A9ekJASOF6FK4HQ0DNzMzMzCxFQM3MzMzMzDNAw/UoXI8yQEAzMzMzMzM+QNejcD0K1zlAH4XrUbhePUCamZmZmRlBQGZmZmZmhkJAFK5H4Xp0O0DNzMzMzIw7QJqZmZmZmTpAPQrXo3CdNEDNzMzMzEw4QArXo3A9yj9Aj8L1KFyPNUAfhetRuB48QLgehetRSERAhetRuB6lO0DD9ShcjzJAQDMzMzMzMz9AH4XrUbieOkApXI/C9QhIQLgehetRODpAUrgehethQkBmZmZmZmY6QDMzMzMzs0BApHA9CtejPUCF61G4HsVGQFK4HoXr0TxAzczMzMzMOkA9CtejcP02QDMzMzMzsztAKVyPwvVoOUBSuB6F6zFBQOF6FK5H4TxAzczMzMyMO0Bcj8L1KJw2QOF6FK5HwUJAAAAAAACAQEAAAAAAAABDQFyPwvUorEBAAAAAAACAO0AK16NwPapAQB+F61G4bkFASOF6FK6HQECamZmZmZk6QDMzMzMzszhAXI/C9Sj8QUCuR+F6FO5BQGZmZmZmZj9AAAAAAACgQEAK16NwPRpAQDMzMzMzY0BAhetRuB6lO0B7FK5H4apCQIXrUbgeRTlApHA9CtejPUDNzMzMzMw+QClcj8L1eERAMzMzMzMzO0A9CtejcA1BQPYoXI/CNTdAPQrXo3A9QkBmZmZmZuZAQJqZmZmZWUJA4XoUrkcxQkBcj8L1KFw7QClcj8L1KD9AKVyPwvXIPEBcj8L1KNxBQAAAAAAAQEFAPQrXo3C9OUDNzMzMzIw7QGZmZmZmJkBAuB6F61G4O0CamZmZmZk7QIXrUbgeBT5AzczMzMyMO0BSuB6F62FCQFyPwvUovERAw/UoXI9CPUAAAAAAAOBBQFyPwvUorEBA7FG4HoXrPUD2KFyPwtU7QK5H4XoULjdAmpmZmZmZOUAzMzMzM7M7QI/C9Shcn0FApHA9CtcjQ0CamZmZmZk7QFK4HoXr8UVAFK5H4XrUPUAUrkfhevREQArXo3A9yjRAZmZmZmYmQEAAAAAAAIA+QDMzMzMzszVAZmZmZmZmOkCkcD0K1+M1QEjhehSuxz5AZmZmZmYmQEBcj8L1KPw4QFK4HoXrAUBAZmZmZmZmPkDXo3A9Chc1QHsUrkfhOjZApHA9CteTQEAzMzMzM3NAQArXo3A9qkBAj8L1KFxPPECkcD0K1+M4QDMzMzMzE0RAPQrXo3AdPkD2KFyPwnU/QBSuR+F69DFAj8L1KFyvPkAAAAAAAIBAQOxRuB6Fq0VAw/UoXI8iNkAzMzMzMzNBQGZmZmZmhkNAPQrXo3BdOUBcj8L1KJw2QPYoXI/CNT5AAAAAAADQQUDXo3A9CrdCQFK4HoXrcT9AmpmZmZlZP0BmZmZmZiZAQHsUrkfh2jNAMzMzMzMzQUCF61G4HgU/QJqZmZmZmTlA9ihcj8IVQ0CamZmZmZk0QMP1KFyPwkdA7FG4HoV7QEBmZmZmZiZAQGZmZmZmZjRAcT0K16MwQ0CPwvUoXE84QJqZmZmZmTdAH4XrUbgeNUBI4XoUrgc+QHsUrkfhejFAXI/C9Sg8NEBSuB6F6zExQGZmZmZm5jdAMzMzMzOTQUBSuB6F69FBQM3MzMzMDEFAmpmZmZmZNkAUrkfhepRDQHsUrkfh+jpAcT0K16PwQECuR+F6FO5BQDMzMzMzY0BA16NwPQqXPkAzMzMzMzM+QI/C9ShcTzhApHA9CtdDO0AK16NwPSo9QHE9Ctej0DBAZmZmZmZmPkDNzMzMzIxAQFyPwvUoPDRAZmZmZmbmOkAAAAAAAIA+QLgehetRmDxArkfhehSOQEB7FK5H4bo/QGZmZmZm5jxAAAAAAABgR0AzMzMzM3M9QNejcD0KV0BAAAAAAADAQEDhehSuR4FFQMP1KFyPQkJAUrgeheuxOkDNzMzMzIxAQKRwPQrXoz1AZmZmZmamOUCamZmZmZk9QM3MzMzMTENAmpmZmZmZPUDhehSuRyE4QGZmZmZmZjdAXI/C9Si8PUCkcD0K10NHQDMzMzMzs0JApHA9CtcjPkAfhetRuH4+QM3MzMzMzENAAAAAAACAQEBxPQrXo1BCQAAAAAAAAD5AXI/C9SgMQ0CPwvUoXO85QM3MzMzMLDlA4XoUrkdhPEAzMzMzM7M8QClcj8L16EBAUrgehetROEDXo3A9Chc4QPYoXI/CVUBAPQrXo3AdPkDNzMzMzMw9QFyPwvUorEBAmpmZmZkZOUCPwvUoXE88QAAAAAAAgDxAAAAAAADQQUDNzMzMzGxCQEjhehSuR0BAmpmZmZmpREDhehSuR8FCQJqZmZmZWT9AAAAAAADAQ0BmZmZmZiZBQHE9CtejED9AuB6F61F4NUAzMzMzM7M8QEjhehSuB0NAKVyPwvUoP0AzMzMzM3NAQBSuR+F6FDlAFK5H4XoUOUAzMzMzM7NFQDMzMzMzszlArkfhehTuO0CamZmZmZk3QDMzMzMzszxAexSuR+H6N0CamZmZmZlDQDMzMzMzM0FASOF6FK4HOkD2KFyPwjU3QAAAAAAAQD5ArkfhehTuPEAAAAAAAOA+QJqZmZmZWT9AAAAAAADAN0CF61G4HkU5QDMzMzMzszxArkfhehQOQEAUrkfhetRAQOxRuB6FazZAZmZmZmZmPkDNzMzMzEw8QJqZmZmZ2UFASOF6FK6nQUAfhetRuH4+QAAAAAAAAD9AAAAAAADgPkBcj8L1KFw7QFyPwvUoHEZAhetRuB71QEA9CtejcN1CQFK4HoXrETpAcT0K16PwQEDXo3A9Cpc+QM3MzMzMzDlAZmZmZma2Q0D2KFyPwnU5QHE9CtejEEVAexSuR+G6P0AzMzMzM7M9QLgehetRGEJAPQrXo3A9REBmZmZmZgY8QDMzMzMzc0NAMzMzMzMzPkDNzMzMzAw8QJqZmZmZWT9AAAAAAAAAQ0AK16NwPco/QGZmZmZmJkJAFK5H4Xq0R0D2KFyPwjU+QNejcD0K1zlASOF6FK63QUCamZmZmVlHQLgehetRmDxAmpmZmZkZR0DNzMzMzMw+QK5H4XoU7jxAZmZmZmZmNUB7FK5H4bo/QJqZmZmZqURAzczMzMzMN0C4HoXrUbhAQHsUrkfhGkFAPQrXo3ANQUCkcD0K18NBQDMzMzMz8zNA16NwPQpXQEAAAAAAAIA+QMP1KFyPYkZAj8L1KFwPQEAfhetRuH4+QLgehetRSERA16NwPQqXPkBmZmZmZuY/QLgehetRSERAmpmZmZkZPUCF61G4HqVCQI/C9Shcj0VArkfhehRuQkD2KFyPwiVBQOxRuB6FKztA16NwPQrXOkBcj8L1KAxDQDMzMzMzMz5A16NwPQp3N0D2KFyPwnU5QNejcD0Klz5A16NwPQq3RkBmZmZmZqY3QDMzMzMzszRAhetRuB5FPEBcj8L1KDw0QPYoXI/CNT5AFK5H4Xr0QUBxPQrXo7A+QAAAAAAAAD1AUrgeheuRM0DhehSuRyE/QJqZmZmZ2TVA4XoUrkchREDNzMzMzNxAQHsUrkfhej1AAAAAAACgQEDNzMzMzExAQDMzMzMzw0JAFK5H4XqUQ0DD9Shcj6I/QM3MzMzMTDlAZmZmZmaGQ0CPwvUoXE88QM3MzMzMDEFAzczMzMwsOUBI4XoUrqc3QHsUrkfh+jpAZmZmZmbmQkAfhetRuF49QGZmZmZmZkFApHA9CteTQEAAAAAAAAAzQAAAAAAAgEBAcT0K16NQQkC4HoXrUZg8QJqZmZmZmTlArkfhehSOQEDNzMzMzIxCQGZmZmZmZj9AzczMzMwMQUDNzMzMzEw1QBSuR+F6xEBAKVyPwvXIPEBI4XoUrgc6QOF6FK5H4TxAexSuR+E6RUAAAAAAAABDQJqZmZmZeUNAzczMzMwMQkDNzMzMzEw9QKRwPQrXw0FAFK5H4Xq0NkCamZmZmdlDQLgehetRGENAw/UoXI+COEBcj8L1KAxDQClcj8L1aDpAFK5H4XrUQEAzMzMzMzNFQI/C9ShcTzxAhetRuB71QEB7FK5H4XpBQEjhehSup0FASOF6FK7HPkC4HoXrUTg6QB+F61G4XjdAAAAAAACAPEDsUbgehXtAQNejcD0KV0VAzczMzMzMQ0DhehSuRyE/QGZmZmZmJkJAmpmZmZmZQUDNzMzMzEw5QDMzMzMzM0VApHA9CteTQEAUrkfhevRBQClcj8L1yDxApHA9CtdDR0B7FK5H4fo3QArXo3A9ij9AFK5H4XrUQEA9CtejcP02QEjhehSuB0NAMzMzMzOzPEAzMzMzM2NAQFK4HoXrAUBAj8L1KFzPPUBSuB6F65E/QClcj8L1KD9AMzMzMzOzPUCF61G4HgU/QFK4HoXr8UVAAAAAAABgNUBI4XoUrmdEQJqZmZmZWT9AzczMzMwMQkCuR+F6FC43QGZmZmZmZjFAzczMzMxMNEBmZmZmZqZBQFK4HoXrUThAAAAAAACAMkApXI/C9Wg6QAAAAAAAIDpAuB6F61HYRECamZmZmRk4QOF6FK5HIT9AXI/C9ShcO0CamZmZmRlCQMP1KFyPMkBASOF6FK6nN0BmZmZmZmZBQEjhehSuF0RAZmZmZmYmQEAAAAAAAOBBQM3MzMzM3EBAw/UoXI+iQ0CPwvUoXG9BQI/C9ShcX0ZAXI/C9Si8REApXI/C9Wg6QOxRuB6Fiz1AMzMzMzNzQEBI4XoUrgdDQHE9CtejsDxAH4XrUbh+PkA9CtejcL07QJqZmZmZmUFACtejcD2KN0CPwvUoXK8+QFyPwvUoPERAmpmZmZmZNkBmZmZmZuY8QFyPwvUonDZAUrgehetROED2KFyPwlVCQLgehetRuEBAFK5H4XpUREDNzMzMzExCQDMzMzMzs0JAMzMzMzOzQUAzMzMzMxM7QGZmZmZmhkNASOF6FK5nPEDhehSuR8E1QKRwPQrXI0RACtejcD0KQkDsUbgehWs4QGZmZmZmZjVAmpmZmZkZPkCkcD0K10M7QM3MzMzMDEBAw/UoXI9iQUBSuB6F6zFDQDMzMzMzszdAexSuR+G6P0AAAAAAAMBBQClcj8L1CDhAZmZmZmYmPUA9CtejcA1BQB+F61G4njpAKVyPwvVoOkA9CtejcB0+QAAAAAAAADtA4XoUrkfBNUAAAAAAAABCQAAAAAAA4D5AZmZmZmZmOkCamZmZmfk8QKRwPQrX80JAhetRuB7FNkBxPQrXo9BAQIXrUbgepTtAzczMzMzMNkAUrkfhetQ7QNejcD0Kt0JA9ihcj8IVQ0AK16NwPUpBQJqZmZmZmUFAmpmZmZkZO0BI4XoUrgc6QM3MzMzMLDlAMzMzMzPTP0BmZmZmZiZAQAAAAAAAAD1AmpmZmZnZQ0CamZmZmXkzQM3MzMzMDEJAMzMzMzOzOkA9CtejcD1CQOF6FK5H4TxAmpmZmZkZQUAK16NwPapAQGZmZmZmJkBA16NwPQrnQ0ApXI/C9ShBQOF6FK5H4TxAZmZmZmZmOEBSuB6F65FEQFyPwvUo/EFAmpmZmZmZO0DD9Shcj0I9QDMzMzMzsztACtejcD16QkCuR+F6FG5CQKRwPQrXgzZA7FG4HoXrPUBmZmZmZuZEQJqZmZmZmTtArkfhehQuN0BmZmZmZuY0QOxRuB6F6z9AAAAAAACAPEBcj8L1KBxGQIXrUbge5TZAzczMzMyMQEDsUbgehcs4QK5H4XoULjpAXI/C9Sj8QUDNzMzMzEw2QB+F61G4HkVAw/UoXI+COkC4HoXrUehBQPYoXI/CtURAmpmZmZlJQkCkcD0K1yM+QNejcD0K1zlAzczMzMzMPkC4HoXrUXhFQMP1KFyPAjVApHA9CteDNkDXo3A9CjdBQPYoXI/CdT9AmpmZmZk5OEDNzMzMzIxCQAAAAAAAIDpApHA9CtfDQUCamZmZmdlAQOxRuB6FqzFA4XoUrkchP0CPwvUoXM89QFK4HoXrUThAMzMzMzPTP0AK16NwPco/QGZmZmZmBjxASOF6FK7HPkCamZmZmdk1QM3MzMzMjEBA16NwPQrXOUC4HoXrUdg3QFK4HoXrMUFAKVyPwvXoQEBcj8L1KPxBQAAAAAAAgD9Aj8L1KFxPPEDXo3A9Cnc3QJqZmZmZWT9AmpmZmZkZP0AzMzMzM7M4QKRwPQrXY0BAj8L1KFzPPUAfhetRuH4+QJqZmZmZOUBAmpmZmZkZQUBxPQrXozBJQJqZmZmZGThAMzMzMzNjQEBI4XoUrsc+QGZmZmZmJkBApHA9CtfDQUAAAAAAAMA3QLgehetR2DdAmpmZmZmZPUCuR+F6FI5AQOF6FK5HIThAPQrXo3AdQECamZmZmRk8QM3MzMzMzEdAAAAAAAAAPEAUrkfhesRAQHsUrkfh2jNAZmZmZmZmOUBmZmZmZuY9QIXrUbgepUJAmpmZmZnZRUBI4XoUrqc3QM3MzMzMTDhAmpmZmZkZQkB7FK5H4Xo9QFyPwvUo3DhAmpmZmZkZPkCamZmZmdk1QB+F61G4HjxAmpmZmZkZO0C4HoXrUbhAQM3MzMzMzDxAAAAAAACAPUBmZmZmZmZBQFyPwvUoXDtAw/UoXI8iNkBmZmZmZoZCQFK4HoXrsTpArkfhehTuPECamZmZmfk8QIXrUbgeBT5AAAAAAADAQ0BxPQrXo9BAQMP1KFyP4jpACtejcD0KPUApXI/C9Qg4QLgehetReENArkfhehQOQEAAAAAAAABGQOxRuB6FCzRArkfhehSOOUDhehSuRyFEQKRwPQrXgzZApHA9CteDNkD2KFyPwnVEQKRwPQrXQztAzczMzMxsQkDNzMzMzIxBQHsUrkfhWj1AexSuR+FKQEDsUbgehStAQGZmZmZm5kNAmpmZmZmZOECPwvUoXE88QHsUrkfhuj9AUrgeheuxOkAAAAAAAIA7QHsUrkfhmjhAH4XrUbj+QEDD9Shcj+I6QIXrUbge5TZAMzMzMzMzPEB7FK5H4RpBQAAAAAAAADlAmpmZmZmZQEAAAAAAAAA/QLgehetR6EFAMzMzMzMzN0CuR+F6FA5AQGZmZmZmZjdAmpmZmZkZNEAUrkfhepRDQHsUrkfhGkFApHA9CtdDR0AAAAAAAEBAQM3MzMzMzDlAZmZmZmamQUDXo3A9CpdCQAAAAAAAgDtAXI/C9Si8PUCamZmZmTk4QK5H4XoULjpAexSuR+F6PUD2KFyPwjU3QOxRuB6FC0dASOF6FK4XREBcj8L1KJw2QNejcD0K90NAZmZmZmbmQUBmZmZmZuZBQJqZmZmZGUFA4XoUrkdBP0AzMzMzM7M9QPYoXI/CVTJAMzMzMzNzRUBI4XoUrmc8QDMzMzMzMz5A9ihcj8LVO0AfhetRuL5DQM3MzMzMzD5ACtejcD3KOkB7FK5H4XpBQPYoXI/CVUJAH4XrUbjOQ0BmZmZmZuY5QJqZmZmZmUFA7FG4HoXLOEBSuB6F62FCQJqZmZmZGTtA7FG4HoXLOEA9CtejcF05QB+F61G4vjlAKVyPwvUoQUApXI/C9Sg8QI/C9ShcjzdAXI/C9Sg8NEAAAAAAAEBEQPYoXI/CtUFAhetRuB7lNkAzMzMzMxNEQGZmZmZmJj1Aj8L1KFz/Q0DsUbgehes9QPYoXI/CdTlAAAAAAABgNUBmZmZmZuY5QNejcD0Klz5APQrXo3AdPkDNzMzMzMw5QD0K16NwHT5AhetRuB6lO0BmZmZmZlZBQIXrUbgehTRAzczMzMzMM0D2KFyPwtU7QJqZmZmZmT9AhetRuB5FPEDsUbgehQs0QGZmZmZmRjdAzczMzMwMQUDNzMzMzGxCQIXrUbgeJUJAw/UoXI/iOkA9CtejcP02QJqZmZmZWUBAzczMzMzMOUCamZmZmZk9QHE9CtejMDNAexSuR+G6P0DD9Shcj0I9QNejcD0KNzxAXI/C9Sj8OEA9CtejcL07QM3MzMzMzDZA4XoUrkchNEAK16NwPapAQGZmZmZmJkBAmpmZmZmZO0D2KFyPwnU5QHsUrkfhmjhAmpmZmZkZQUC4HoXrUehBQNejcD0KV0BAAAAAAACAQkCF61G4HgU/QArXo3A9CkJAUrgehetRN0ApXI/C9ahGQM3MzMzMTEFASOF6FK4HOkDXo3A9CrcyQJqZmZmZmT9ACtejcD1KMUBI4XoUrqc3QJqZmZmZmUFArkfhehTuO0BxPQrXo5A1QHE9CtejMENAAAAAAAAAN0ApXI/C9YhCQB+F61G4fj5A4XoUrkfhPECkcD0K10M7QGZmZmZmBjxA9ihcj8IVN0CPwvUoXK8+QM3MzMzMzDlAj8L1KFyfQUAzMzMzM7M4QBSuR+F6FDlACtejcD1KSkCkcD0K14M2QGZmZmZm5j5ACtejcD16QkApXI/C9Wg6QBSuR+F61D1AzczMzMzMPUC4HoXrUXg1QIXrUbgepTtAZmZmZmbmPEAK16NwPco/QB+F61G4vkNAKVyPwvXoQEDhehSuRwFAQHE9Ctej8DtAUrgeheuRREC4HoXrUZg8QJqZmZmZmTlAzczMzMxMOUCF61G4HqVCQKRwPQrXU0VAKVyPwvWoNUBmZmZmZuY/QClcj8L1iEJAUrgehetxP0DhehSuR0E/QOF6FK5H4TxA9ihcj8JVMkDXo3A9Cpc9QAAAAAAAAEBASOF6FK4HOkCuR+F6FK4/QBSuR+F61EBASOF6FK7HNUD2KFyPwtU7QDMzMzMz8zNAAAAAAACAP0AfhetRuH4+QM3MzMzMTDJAmpmZmZn5PEAK16NwPYo/QB+F61G43kdAmpmZmZkZNkC4HoXrURhCQBSuR+F61D1AmpmZmZlZQEBmZmZmZmY+QJqZmZmZ2UBAmpmZmZlZP0B7FK5H4XpBQMP1KFyP4kBAAAAAAADgPkAfhetRuP5AQLgehetRGDNAmpmZmZmZPEC4HoXrUXhDQArXo3A9CkJAzczMzMzMPUA9CtejcD0/QM3MzMzM7D1AuB6F61E4OkAAAAAAAAA+QJqZmZmZWTRAZmZmZmYmQEBSuB6F6zFDQJqZmZmZ2TlAcT0K16NQOkDD9Shcj4I4QPYoXI/CVUBApHA9CtejPUAK16NwPapAQAAAAAAA4EFAMzMzMzPzM0BmZmZmZmY/QPYoXI/CFUNArkfhehRuQkDD9ShcjzJAQAAAAAAAYEVAFK5H4XoUOUBmZmZmZuY9QK5H4XoU7kFAZmZmZmZmQECamZmZmZkyQB+F61G43jdAMzMzMzPzRkCkcD0K1yNEQPYoXI/CVTJAKVyPwvXoQEAfhetRuB48QAAAAAAAADlAexSuR+E6NkAAAAAAAEA+QB+F61G4PkBAKVyPwvWIQkDNzMzMzExAQFyPwvUo3DhA7FG4HoUrQEBmZmZmZiZAQDMzMzMzY0BAZmZmZmZmQEDsUbgehes/QAAAAAAAgDVAzczMzMwMQUCuR+F6FE4+QD0K16NwPUJASOF6FK5HQEC4HoXrUehBQK5H4XoU7jtAw/UoXI8iNkBxPQrXo3BGQK5H4XoULjdA16NwPQqXPkDNzMzMzIxEQArXo3A9SkFAcT0K16MQRUAK16NwPWpDQNejcD0KNzxAj8L1KFxPPEAAAAAAACA6QI/C9ShcL0RAmpmZmZmZOECamZmZmZlBQD0K16NwDUFAXI/C9ShcO0AzMzMzM7M6QBSuR+F69ERAw/UoXI9CPUCuR+F6FA5AQJqZmZmZGTtA4XoUrkchOEBmZmZmZmY7QB+F61G4bkFAj8L1KFzPPUCamZmZmalEQM3MzMzM7D1AzczMzMxMPkBcj8L1KFw7QD0K16NwfTxAj8L1KFyPN0AAAAAAANBBQNejcD0KV0BAhetRuB5FOUAAAAAAAAA8QDMzMzMzY0BA4XoUrkfBNUDD9ShcjzJAQJqZmZmZSUJA4XoUrkfBNUCuR+F6FO47QIXrUbgeBT5AZmZmZmbGQEB7FK5H4Vo9QM3MzMzMzDlAUrgehetROEAAAAAAADBEQK5H4XoUDkBAZmZmZmYmQEBI4XoUrkc7QFyPwvUo3DFAZmZmZmZmQUAzMzMzM7NAQK5H4XoUjjlAzczMzMyMQkAAAAAAAOA+QM3MzMzMDEFAuB6F61F4NUBmZmZmZqZAQOF6FK5HQT9AUrgeheuRQ0AUrkfhehQ5QIXrUbgepUJAzczMzMxMQUD2KFyPwjU+QFK4HoXr8TVAuB6F61H4OEDNzMzMzEw5QOxRuB6FazhAcT0K16PwN0ApXI/C9ehDQHE9Ctej0DBA16NwPQqXQkDXo3A9CjdBQK5H4XoUTj5ArkfhehQ+QUDNzMzMzMw1QHsUrkfhmjhAzczMzMxMN0AUrkfhetQ7QHE9CtejED9AKVyPwvWoNUDXo3A9Cjc8QBSuR+F6tDZAcT0K16MQRUBmZmZmZuZEQHsUrkfhekJASOF6FK5HNUCuR+F6FI5AQArXo3A9qkBAzczMzMxMOEAzMzMzM7M5QGZmZmZmZj1AKVyPwvXoQ0BxPQrXo9BAQBSuR+F61D1AzczMzMzMM0DNzMzMzEw7QM3MzMzMTD1AuB6F61G4O0AzMzMzM/NCQOF6FK5HMUJAhetRuB6lO0DsUbgehdtCQK5H4XoULjdAhetRuB6FNEDNzMzMzIxCQM3MzMzMDDxAZmZmZmbmPUBcj8L1KKxAQMP1KFyPwjdAAAAAAACAPkBxPQrXoxA/QGZmZmZmpkBAAAAAAACAO0CF61G4HvVAQK5H4XoUPkFAhetRuB6FOUBcj8L1KJw7QI/C9ShcDztAMzMzMzOzN0BmZmZmZmY+QFyPwvUovD1AzczMzMzsPUAK16NwPco6QArXo3A9qkBAhetRuB6lO0ApXI/C9ag1QEjhehSuBz5AZmZmZmYmQkBSuB6F61E4QArXo3A9SjFAZmZmZmbmOUAzMzMzM7NDQClcj8L1KEFAMzMzMzPzM0AzMzMzM3NBQPYoXI/CNTdAH4XrUbi+OUDNzMzMzCw5QAAAAAAAADZAAAAAAAAgOkDD9Shcj4I6QBSuR+F6dDtAH4XrUbi+OUBcj8L1KFw+QAAAAAAA4D5AzczMzMzMNEDNzMzMzMw7QHsUrkfhmjhAuB6F61G4O0CamZmZmdk1QB+F61G4HjxAMzMzMzMzPkCamZmZmRlAQHE9CtejUDpAUrgeheuxOkAzMzMzM3NFQJqZmZmZWUFASOF6FK6nN0CPwvUoXE88QJqZmZmZmTRAcT0K16OQSkB7FK5H4dpDQHE9CtejUDpAcT0K16MQP0BSuB6F67E6QArXo3A9akNAj8L1KFwvRECPwvUoXO85QBSuR+F6xEBAj8L1KFxvQEBI4XoUrgc+QJqZmZmZOThAzczMzMxMQ0A9CtejcL05QDMzMzMzs0BAmpmZmZlZRkC4HoXrUfg+QOxRuB6F6z9AzczMzMxsQkDNzMzMzMw5QFK4HoXrET1A",
          "dtype": "f8"
         },
         "xaxis": "x",
         "yaxis": "y"
        },
        {
         "hovertemplate": "bmi=%{x}<extra></extra>",
         "legendgroup": "",
         "marker": {
          "color": "red"
         },
         "name": "",
         "notched": true,
         "showlegend": false,
         "type": "box",
         "x": {
          "bdata": "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",
          "dtype": "f8"
         },
         "xaxis": "x2",
         "yaxis": "y2"
        }
       ],
       "layout": {
        "bargap": 0.1,
        "barmode": "relative",
        "legend": {
         "tracegroupgap": 0
        },
        "template": {
         "data": {
          "bar": [
           {
            "error_x": {
             "color": "#2a3f5f"
            },
            "error_y": {
             "color": "#2a3f5f"
            },
            "marker": {
             "line": {
              "color": "#E5ECF6",
              "width": 0.5
             },
             "pattern": {
              "fillmode": "overlay",
              "size": 10,
              "solidity": 0.2
             }
            },
            "type": "bar"
           }
          ],
          "barpolar": [
           {
            "marker": {
             "line": {
              "color": "#E5ECF6",
              "width": 0.5
             },
             "pattern": {
              "fillmode": "overlay",
              "size": 10,
              "solidity": 0.2
             }
            },
            "type": "barpolar"
           }
          ],
          "carpet": [
           {
            "aaxis": {
             "endlinecolor": "#2a3f5f",
             "gridcolor": "white",
             "linecolor": "white",
             "minorgridcolor": "white",
             "startlinecolor": "#2a3f5f"
            },
            "baxis": {
             "endlinecolor": "#2a3f5f",
             "gridcolor": "white",
             "linecolor": "white",
             "minorgridcolor": "white",
             "startlinecolor": "#2a3f5f"
            },
            "type": "carpet"
           }
          ],
          "choropleth": [
           {
            "colorbar": {
             "outlinewidth": 0,
             "ticks": ""
            },
            "type": "choropleth"
           }
          ],
          "contour": [
           {
            "colorbar": {
             "outlinewidth": 0,
             "ticks": ""
            },
            "colorscale": [
             [
              0,
              "#0d0887"
             ],
             [
              0.1111111111111111,
              "#46039f"
             ],
             [
              0.2222222222222222,
              "#7201a8"
             ],
             [
              0.3333333333333333,
              "#9c179e"
             ],
             [
              0.4444444444444444,
              "#bd3786"
             ],
             [
              0.5555555555555556,
              "#d8576b"
             ],
             [
              0.6666666666666666,
              "#ed7953"
             ],
             [
              0.7777777777777778,
              "#fb9f3a"
             ],
             [
              0.8888888888888888,
              "#fdca26"
             ],
             [
              1,
              "#f0f921"
             ]
            ],
            "type": "contour"
           }
          ],
          "contourcarpet": [
           {
            "colorbar": {
             "outlinewidth": 0,
             "ticks": ""
            },
            "type": "contourcarpet"
           }
          ],
          "heatmap": [
           {
            "colorbar": {
             "outlinewidth": 0,
             "ticks": ""
            },
            "colorscale": [
             [
              0,
              "#0d0887"
             ],
             [
              0.1111111111111111,
              "#46039f"
             ],
             [
              0.2222222222222222,
              "#7201a8"
             ],
             [
              0.3333333333333333,
              "#9c179e"
             ],
             [
              0.4444444444444444,
              "#bd3786"
             ],
             [
              0.5555555555555556,
              "#d8576b"
             ],
             [
              0.6666666666666666,
              "#ed7953"
             ],
             [
              0.7777777777777778,
              "#fb9f3a"
             ],
             [
              0.8888888888888888,
              "#fdca26"
             ],
             [
              1,
              "#f0f921"
             ]
            ],
            "type": "heatmap"
           }
          ],
          "histogram": [
           {
            "marker": {
             "pattern": {
              "fillmode": "overlay",
              "size": 10,
              "solidity": 0.2
             }
            },
            "type": "histogram"
           }
          ],
          "histogram2d": [
           {
            "colorbar": {
             "outlinewidth": 0,
             "ticks": ""
            },
            "colorscale": [
             [
              0,
              "#0d0887"
             ],
             [
              0.1111111111111111,
              "#46039f"
             ],
             [
              0.2222222222222222,
              "#7201a8"
             ],
             [
              0.3333333333333333,
              "#9c179e"
             ],
             [
              0.4444444444444444,
              "#bd3786"
             ],
             [
              0.5555555555555556,
              "#d8576b"
             ],
             [
              0.6666666666666666,
              "#ed7953"
             ],
             [
              0.7777777777777778,
              "#fb9f3a"
             ],
             [
              0.8888888888888888,
              "#fdca26"
             ],
             [
              1,
              "#f0f921"
             ]
            ],
            "type": "histogram2d"
           }
          ],
          "histogram2dcontour": [
           {
            "colorbar": {
             "outlinewidth": 0,
             "ticks": ""
            },
            "colorscale": [
             [
              0,
              "#0d0887"
             ],
             [
              0.1111111111111111,
              "#46039f"
             ],
             [
              0.2222222222222222,
              "#7201a8"
             ],
             [
              0.3333333333333333,
              "#9c179e"
             ],
             [
              0.4444444444444444,
              "#bd3786"
             ],
             [
              0.5555555555555556,
              "#d8576b"
             ],
             [
              0.6666666666666666,
              "#ed7953"
             ],
             [
              0.7777777777777778,
              "#fb9f3a"
             ],
             [
              0.8888888888888888,
              "#fdca26"
             ],
             [
              1,
              "#f0f921"
             ]
            ],
            "type": "histogram2dcontour"
           }
          ],
          "mesh3d": [
           {
            "colorbar": {
             "outlinewidth": 0,
             "ticks": ""
            },
            "type": "mesh3d"
           }
          ],
          "parcoords": [
           {
            "line": {
             "colorbar": {
              "outlinewidth": 0,
              "ticks": ""
             }
            },
            "type": "parcoords"
           }
          ],
          "pie": [
           {
            "automargin": true,
            "type": "pie"
           }
          ],
          "scatter": [
           {
            "fillpattern": {
             "fillmode": "overlay",
             "size": 10,
             "solidity": 0.2
            },
            "type": "scatter"
           }
          ],
          "scatter3d": [
           {
            "line": {
             "colorbar": {
              "outlinewidth": 0,
              "ticks": ""
             }
            },
            "marker": {
             "colorbar": {
              "outlinewidth": 0,
              "ticks": ""
             }
            },
            "type": "scatter3d"
           }
          ],
          "scattercarpet": [
           {
            "marker": {
             "colorbar": {
              "outlinewidth": 0,
              "ticks": ""
             }
            },
            "type": "scattercarpet"
           }
          ],
          "scattergeo": [
           {
            "marker": {
             "colorbar": {
              "outlinewidth": 0,
              "ticks": ""
             }
            },
            "type": "scattergeo"
           }
          ],
          "scattergl": [
           {
            "marker": {
             "colorbar": {
              "outlinewidth": 0,
              "ticks": ""
             }
            },
            "type": "scattergl"
           }
          ],
          "scattermap": [
           {
            "marker": {
             "colorbar": {
              "outlinewidth": 0,
              "ticks": ""
             }
            },
            "type": "scattermap"
           }
          ],
          "scattermapbox": [
           {
            "marker": {
             "colorbar": {
              "outlinewidth": 0,
              "ticks": ""
             }
            },
            "type": "scattermapbox"
           }
          ],
          "scatterpolar": [
           {
            "marker": {
             "colorbar": {
              "outlinewidth": 0,
              "ticks": ""
             }
            },
            "type": "scatterpolar"
           }
          ],
          "scatterpolargl": [
           {
            "marker": {
             "colorbar": {
              "outlinewidth": 0,
              "ticks": ""
             }
            },
            "type": "scatterpolargl"
           }
          ],
          "scatterternary": [
           {
            "marker": {
             "colorbar": {
              "outlinewidth": 0,
              "ticks": ""
             }
            },
            "type": "scatterternary"
           }
          ],
          "surface": [
           {
            "colorbar": {
             "outlinewidth": 0,
             "ticks": ""
            },
            "colorscale": [
             [
              0,
              "#0d0887"
             ],
             [
              0.1111111111111111,
              "#46039f"
             ],
             [
              0.2222222222222222,
              "#7201a8"
             ],
             [
              0.3333333333333333,
              "#9c179e"
             ],
             [
              0.4444444444444444,
              "#bd3786"
             ],
             [
              0.5555555555555556,
              "#d8576b"
             ],
             [
              0.6666666666666666,
              "#ed7953"
             ],
             [
              0.7777777777777778,
              "#fb9f3a"
             ],
             [
              0.8888888888888888,
              "#fdca26"
             ],
             [
              1,
              "#f0f921"
             ]
            ],
            "type": "surface"
           }
          ],
          "table": [
           {
            "cells": {
             "fill": {
              "color": "#EBF0F8"
             },
             "line": {
              "color": "white"
             }
            },
            "header": {
             "fill": {
              "color": "#C8D4E3"
             },
             "line": {
              "color": "white"
             }
            },
            "type": "table"
           }
          ]
         },
         "layout": {
          "annotationdefaults": {
           "arrowcolor": "#2a3f5f",
           "arrowhead": 0,
           "arrowwidth": 1
          },
          "autotypenumbers": "strict",
          "coloraxis": {
           "colorbar": {
            "outlinewidth": 0,
            "ticks": ""
           }
          },
          "colorscale": {
           "diverging": [
            [
             0,
             "#8e0152"
            ],
            [
             0.1,
             "#c51b7d"
            ],
            [
             0.2,
             "#de77ae"
            ],
            [
             0.3,
             "#f1b6da"
            ],
            [
             0.4,
             "#fde0ef"
            ],
            [
             0.5,
             "#f7f7f7"
            ],
            [
             0.6,
             "#e6f5d0"
            ],
            [
             0.7,
             "#b8e186"
            ],
            [
             0.8,
             "#7fbc41"
            ],
            [
             0.9,
             "#4d9221"
            ],
            [
             1,
             "#276419"
            ]
           ],
           "sequential": [
            [
             0,
             "#0d0887"
            ],
            [
             0.1111111111111111,
             "#46039f"
            ],
            [
             0.2222222222222222,
             "#7201a8"
            ],
            [
             0.3333333333333333,
             "#9c179e"
            ],
            [
             0.4444444444444444,
             "#bd3786"
            ],
            [
             0.5555555555555556,
             "#d8576b"
            ],
            [
             0.6666666666666666,
             "#ed7953"
            ],
            [
             0.7777777777777778,
             "#fb9f3a"
            ],
            [
             0.8888888888888888,
             "#fdca26"
            ],
            [
             1,
             "#f0f921"
            ]
           ],
           "sequentialminus": [
            [
             0,
             "#0d0887"
            ],
            [
             0.1111111111111111,
             "#46039f"
            ],
            [
             0.2222222222222222,
             "#7201a8"
            ],
            [
             0.3333333333333333,
             "#9c179e"
            ],
            [
             0.4444444444444444,
             "#bd3786"
            ],
            [
             0.5555555555555556,
             "#d8576b"
            ],
            [
             0.6666666666666666,
             "#ed7953"
            ],
            [
             0.7777777777777778,
             "#fb9f3a"
            ],
            [
             0.8888888888888888,
             "#fdca26"
            ],
            [
             1,
             "#f0f921"
            ]
           ]
          },
          "colorway": [
           "#636efa",
           "#EF553B",
           "#00cc96",
           "#ab63fa",
           "#FFA15A",
           "#19d3f3",
           "#FF6692",
           "#B6E880",
           "#FF97FF",
           "#FECB52"
          ],
          "font": {
           "color": "#2a3f5f"
          },
          "geo": {
           "bgcolor": "white",
           "lakecolor": "white",
           "landcolor": "#E5ECF6",
           "showlakes": true,
           "showland": true,
           "subunitcolor": "white"
          },
          "hoverlabel": {
           "align": "left"
          },
          "hovermode": "closest",
          "mapbox": {
           "style": "light"
          },
          "paper_bgcolor": "white",
          "plot_bgcolor": "#E5ECF6",
          "polar": {
           "angularaxis": {
            "gridcolor": "white",
            "linecolor": "white",
            "ticks": ""
           },
           "bgcolor": "#E5ECF6",
           "radialaxis": {
            "gridcolor": "white",
            "linecolor": "white",
            "ticks": ""
           }
          },
          "scene": {
           "xaxis": {
            "backgroundcolor": "#E5ECF6",
            "gridcolor": "white",
            "gridwidth": 2,
            "linecolor": "white",
            "showbackground": true,
            "ticks": "",
            "zerolinecolor": "white"
           },
           "yaxis": {
            "backgroundcolor": "#E5ECF6",
            "gridcolor": "white",
            "gridwidth": 2,
            "linecolor": "white",
            "showbackground": true,
            "ticks": "",
            "zerolinecolor": "white"
           },
           "zaxis": {
            "backgroundcolor": "#E5ECF6",
            "gridcolor": "white",
            "gridwidth": 2,
            "linecolor": "white",
            "showbackground": true,
            "ticks": "",
            "zerolinecolor": "white"
           }
          },
          "shapedefaults": {
           "line": {
            "color": "#2a3f5f"
           }
          },
          "ternary": {
           "aaxis": {
            "gridcolor": "white",
            "linecolor": "white",
            "ticks": ""
           },
           "baxis": {
            "gridcolor": "white",
            "linecolor": "white",
            "ticks": ""
           },
           "bgcolor": "#E5ECF6",
           "caxis": {
            "gridcolor": "white",
            "linecolor": "white",
            "ticks": ""
           }
          },
          "title": {
           "x": 0.05
          },
          "xaxis": {
           "automargin": true,
           "gridcolor": "white",
           "linecolor": "white",
           "ticks": "",
           "title": {
            "standoff": 15
           },
           "zerolinecolor": "white",
           "zerolinewidth": 2
          },
          "yaxis": {
           "automargin": true,
           "gridcolor": "white",
           "linecolor": "white",
           "ticks": "",
           "title": {
            "standoff": 15
           },
           "zerolinecolor": "white",
           "zerolinewidth": 2
          }
         }
        },
        "title": {
         "text": "Distribution of BMI (Body Mass Index)"
        },
        "xaxis": {
         "anchor": "y",
         "domain": [
          0,
          1
         ],
         "title": {
          "text": "bmi"
         }
        },
        "xaxis2": {
         "anchor": "y2",
         "domain": [
          0,
          1
         ],
         "matches": "x",
         "showgrid": true,
         "showticklabels": false
        },
        "yaxis": {
         "anchor": "x",
         "domain": [
          0,
          0.8316
         ],
         "title": {
          "text": "count"
         }
        },
        "yaxis2": {
         "anchor": "x2",
         "domain": [
          0.8416,
          1
         ],
         "matches": "y2",
         "showgrid": false,
         "showline": false,
         "showticklabels": false,
         "ticks": ""
        }
       }
      },
      "image/png": "[encoded data removed]"
     },
     "metadata": {},
     "output_type": "display_data"
    }
   ],
   "source": [
    "fig = px.histogram(medical_df, \n",
    "                   x='bmi', \n",
    "                   marginal='box', \n",
    "                   color_discrete_sequence=['red'], \n",
    "                   title='Distribution of BMI (Body Mass Index)')\n",
    "fig.update_layout(bargap=0.1)\n",
    "fig.show()"
   ]
  },
  {
   "cell_type": "markdown",
   "id": "c25a8364-865f-4f10-a33a-050f151f7e4b",
   "metadata": {},
   "source": [
    "## Charges"
   ]
  },
  {
   "cell_type": "code",
   "execution_count": 19,
   "id": "3bd654bf-1c20-486e-a221-0d7a890e4fcc",
   "metadata": {},
   "outputs": [
    {
     "data": {
      "application/vnd.plotly.v1+json": {
       "config": {
        "plotlyServerURL": "https://plot.ly"
       },
       "data": [
        {
         "bingroup": "x",
         "hovertemplate": "smoker=yes<br>charges=%{x}<br>count=%{y}<extra></extra>",
         "legendgroup": "yes",
         "marker": {
          "color": "green",
          "pattern": {
           "shape": ""
          }
         },
         "name": "yes",
         "orientation": "v",
         "showlegend": true,
         "type": "histogram",
         "x": {
          "bdata": "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",
          "dtype": "f8"
         },
         "xaxis": "x",
         "yaxis": "y"
        },
        {
         "hovertemplate": "smoker=yes<br>charges=%{x}<extra></extra>",
         "legendgroup": "yes",
         "marker": {
          "color": "green"
         },
         "name": "yes",
         "notched": true,
         "showlegend": false,
         "type": "box",
         "x": {
          "bdata": "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",
          "dtype": "f8"
         },
         "xaxis": "x2",
         "yaxis": "y2"
        },
        {
         "bingroup": "x",
         "hovertemplate": "smoker=no<br>charges=%{x}<br>count=%{y}<extra></extra>",
         "legendgroup": "no",
         "marker": {
          "color": "grey",
          "pattern": {
           "shape": ""
          }
         },
         "name": "no",
         "orientation": "v",
         "showlegend": true,
         "type": "histogram",
         "x": {
          "bdata": "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",
          "dtype": "f8"
         },
         "xaxis": "x",
         "yaxis": "y"
        },
        {
         "hovertemplate": "smoker=no<br>charges=%{x}<extra></extra>",
         "legendgroup": "no",
         "marker": {
          "color": "grey"
         },
         "name": "no",
         "notched": true,
         "showlegend": false,
         "type": "box",
         "x": {
          "bdata": "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",
          "dtype": "f8"
         },
         "xaxis": "x2",
         "yaxis": "y2"
        }
       ],
       "layout": {
        "bargap": 0.1,
        "barmode": "relative",
        "legend": {
         "title": {
          "text": "smoker"
         },
         "tracegroupgap": 0
        },
        "template": {
         "data": {
          "bar": [
           {
            "error_x": {
             "color": "#2a3f5f"
            },
            "error_y": {
             "color": "#2a3f5f"
            },
            "marker": {
             "line": {
              "color": "#E5ECF6",
              "width": 0.5
             },
             "pattern": {
              "fillmode": "overlay",
              "size": 10,
              "solidity": 0.2
             }
            },
            "type": "bar"
           }
          ],
          "barpolar": [
           {
            "marker": {
             "line": {
              "color": "#E5ECF6",
              "width": 0.5
             },
             "pattern": {
              "fillmode": "overlay",
              "size": 10,
              "solidity": 0.2
             }
            },
            "type": "barpolar"
           }
          ],
          "carpet": [
           {
            "aaxis": {
             "endlinecolor": "#2a3f5f",
             "gridcolor": "white",
             "linecolor": "white",
             "minorgridcolor": "white",
             "startlinecolor": "#2a3f5f"
            },
            "baxis": {
             "endlinecolor": "#2a3f5f",
             "gridcolor": "white",
             "linecolor": "white",
             "minorgridcolor": "white",
             "startlinecolor": "#2a3f5f"
            },
            "type": "carpet"
           }
          ],
          "choropleth": [
           {
            "colorbar": {
             "outlinewidth": 0,
             "ticks": ""
            },
            "type": "choropleth"
           }
          ],
          "contour": [
           {
            "colorbar": {
             "outlinewidth": 0,
             "ticks": ""
            },
            "colorscale": [
             [
              0,
              "#0d0887"
             ],
             [
              0.1111111111111111,
              "#46039f"
             ],
             [
              0.2222222222222222,
              "#7201a8"
             ],
             [
              0.3333333333333333,
              "#9c179e"
             ],
             [
              0.4444444444444444,
              "#bd3786"
             ],
             [
              0.5555555555555556,
              "#d8576b"
             ],
             [
              0.6666666666666666,
              "#ed7953"
             ],
             [
              0.7777777777777778,
              "#fb9f3a"
             ],
             [
              0.8888888888888888,
              "#fdca26"
             ],
             [
              1,
              "#f0f921"
             ]
            ],
            "type": "contour"
           }
          ],
          "contourcarpet": [
           {
            "colorbar": {
             "outlinewidth": 0,
             "ticks": ""
            },
            "type": "contourcarpet"
           }
          ],
          "heatmap": [
           {
            "colorbar": {
             "outlinewidth": 0,
             "ticks": ""
            },
            "colorscale": [
             [
              0,
              "#0d0887"
             ],
             [
              0.1111111111111111,
              "#46039f"
             ],
             [
              0.2222222222222222,
              "#7201a8"
             ],
             [
              0.3333333333333333,
              "#9c179e"
             ],
             [
              0.4444444444444444,
              "#bd3786"
             ],
             [
              0.5555555555555556,
              "#d8576b"
             ],
             [
              0.6666666666666666,
              "#ed7953"
             ],
             [
              0.7777777777777778,
              "#fb9f3a"
             ],
             [
              0.8888888888888888,
              "#fdca26"
             ],
             [
              1,
              "#f0f921"
             ]
            ],
            "type": "heatmap"
           }
          ],
          "histogram": [
           {
            "marker": {
             "pattern": {
              "fillmode": "overlay",
              "size": 10,
              "solidity": 0.2
             }
            },
            "type": "histogram"
           }
          ],
          "histogram2d": [
           {
            "colorbar": {
             "outlinewidth": 0,
             "ticks": ""
            },
            "colorscale": [
             [
              0,
              "#0d0887"
             ],
             [
              0.1111111111111111,
              "#46039f"
             ],
             [
              0.2222222222222222,
              "#7201a8"
             ],
             [
              0.3333333333333333,
              "#9c179e"
             ],
             [
              0.4444444444444444,
              "#bd3786"
             ],
             [
              0.5555555555555556,
              "#d8576b"
             ],
             [
              0.6666666666666666,
              "#ed7953"
             ],
             [
              0.7777777777777778,
              "#fb9f3a"
             ],
             [
              0.8888888888888888,
              "#fdca26"
             ],
             [
              1,
              "#f0f921"
             ]
            ],
            "type": "histogram2d"
           }
          ],
          "histogram2dcontour": [
           {
            "colorbar": {
             "outlinewidth": 0,
             "ticks": ""
            },
            "colorscale": [
             [
              0,
              "#0d0887"
             ],
             [
              0.1111111111111111,
              "#46039f"
             ],
             [
              0.2222222222222222,
              "#7201a8"
             ],
             [
              0.3333333333333333,
              "#9c179e"
             ],
             [
              0.4444444444444444,
              "#bd3786"
             ],
             [
              0.5555555555555556,
              "#d8576b"
             ],
             [
              0.6666666666666666,
              "#ed7953"
             ],
             [
              0.7777777777777778,
              "#fb9f3a"
             ],
             [
              0.8888888888888888,
              "#fdca26"
             ],
             [
              1,
              "#f0f921"
             ]
            ],
            "type": "histogram2dcontour"
           }
          ],
          "mesh3d": [
           {
            "colorbar": {
             "outlinewidth": 0,
             "ticks": ""
            },
            "type": "mesh3d"
           }
          ],
          "parcoords": [
           {
            "line": {
             "colorbar": {
              "outlinewidth": 0,
              "ticks": ""
             }
            },
            "type": "parcoords"
           }
          ],
          "pie": [
           {
            "automargin": true,
            "type": "pie"
           }
          ],
          "scatter": [
           {
            "fillpattern": {
             "fillmode": "overlay",
             "size": 10,
             "solidity": 0.2
            },
            "type": "scatter"
           }
          ],
          "scatter3d": [
           {
            "line": {
             "colorbar": {
              "outlinewidth": 0,
              "ticks": ""
             }
            },
            "marker": {
             "colorbar": {
              "outlinewidth": 0,
              "ticks": ""
             }
            },
            "type": "scatter3d"
           }
          ],
          "scattercarpet": [
           {
            "marker": {
             "colorbar": {
              "outlinewidth": 0,
              "ticks": ""
             }
            },
            "type": "scattercarpet"
           }
          ],
          "scattergeo": [
           {
            "marker": {
             "colorbar": {
              "outlinewidth": 0,
              "ticks": ""
             }
            },
            "type": "scattergeo"
           }
          ],
          "scattergl": [
           {
            "marker": {
             "colorbar": {
              "outlinewidth": 0,
              "ticks": ""
             }
            },
            "type": "scattergl"
           }
          ],
          "scattermap": [
           {
            "marker": {
             "colorbar": {
              "outlinewidth": 0,
              "ticks": ""
             }
            },
            "type": "scattermap"
           }
          ],
          "scattermapbox": [
           {
            "marker": {
             "colorbar": {
              "outlinewidth": 0,
              "ticks": ""
             }
            },
            "type": "scattermapbox"
           }
          ],
          "scatterpolar": [
           {
            "marker": {
             "colorbar": {
              "outlinewidth": 0,
              "ticks": ""
             }
            },
            "type": "scatterpolar"
           }
          ],
          "scatterpolargl": [
           {
            "marker": {
             "colorbar": {
              "outlinewidth": 0,
              "ticks": ""
             }
            },
            "type": "scatterpolargl"
           }
          ],
          "scatterternary": [
           {
            "marker": {
             "colorbar": {
              "outlinewidth": 0,
              "ticks": ""
             }
            },
            "type": "scatterternary"
           }
          ],
          "surface": [
           {
            "colorbar": {
             "outlinewidth": 0,
             "ticks": ""
            },
            "colorscale": [
             [
              0,
              "#0d0887"
             ],
             [
              0.1111111111111111,
              "#46039f"
             ],
             [
              0.2222222222222222,
              "#7201a8"
             ],
             [
              0.3333333333333333,
              "#9c179e"
             ],
             [
              0.4444444444444444,
              "#bd3786"
             ],
             [
              0.5555555555555556,
              "#d8576b"
             ],
             [
              0.6666666666666666,
              "#ed7953"
             ],
             [
              0.7777777777777778,
              "#fb9f3a"
             ],
             [
              0.8888888888888888,
              "#fdca26"
             ],
             [
              1,
              "#f0f921"
             ]
            ],
            "type": "surface"
           }
          ],
          "table": [
           {
            "cells": {
             "fill": {
              "color": "#EBF0F8"
             },
             "line": {
              "color": "white"
             }
            },
            "header": {
             "fill": {
              "color": "#C8D4E3"
             },
             "line": {
              "color": "white"
             }
            },
            "type": "table"
           }
          ]
         },
         "layout": {
          "annotationdefaults": {
           "arrowcolor": "#2a3f5f",
           "arrowhead": 0,
           "arrowwidth": 1
          },
          "autotypenumbers": "strict",
          "coloraxis": {
           "colorbar": {
            "outlinewidth": 0,
            "ticks": ""
           }
          },
          "colorscale": {
           "diverging": [
            [
             0,
             "#8e0152"
            ],
            [
             0.1,
             "#c51b7d"
            ],
            [
             0.2,
             "#de77ae"
            ],
            [
             0.3,
             "#f1b6da"
            ],
            [
             0.4,
             "#fde0ef"
            ],
            [
             0.5,
             "#f7f7f7"
            ],
            [
             0.6,
             "#e6f5d0"
            ],
            [
             0.7,
             "#b8e186"
            ],
            [
             0.8,
             "#7fbc41"
            ],
            [
             0.9,
             "#4d9221"
            ],
            [
             1,
             "#276419"
            ]
           ],
           "sequential": [
            [
             0,
             "#0d0887"
            ],
            [
             0.1111111111111111,
             "#46039f"
            ],
            [
             0.2222222222222222,
             "#7201a8"
            ],
            [
             0.3333333333333333,
             "#9c179e"
            ],
            [
             0.4444444444444444,
             "#bd3786"
            ],
            [
             0.5555555555555556,
             "#d8576b"
            ],
            [
             0.6666666666666666,
             "#ed7953"
            ],
            [
             0.7777777777777778,
             "#fb9f3a"
            ],
            [
             0.8888888888888888,
             "#fdca26"
            ],
            [
             1,
             "#f0f921"
            ]
           ],
           "sequentialminus": [
            [
             0,
             "#0d0887"
            ],
            [
             0.1111111111111111,
             "#46039f"
            ],
            [
             0.2222222222222222,
             "#7201a8"
            ],
            [
             0.3333333333333333,
             "#9c179e"
            ],
            [
             0.4444444444444444,
             "#bd3786"
            ],
            [
             0.5555555555555556,
             "#d8576b"
            ],
            [
             0.6666666666666666,
             "#ed7953"
            ],
            [
             0.7777777777777778,
             "#fb9f3a"
            ],
            [
             0.8888888888888888,
             "#fdca26"
            ],
            [
             1,
             "#f0f921"
            ]
           ]
          },
          "colorway": [
           "#636efa",
           "#EF553B",
           "#00cc96",
           "#ab63fa",
           "#FFA15A",
           "#19d3f3",
           "#FF6692",
           "#B6E880",
           "#FF97FF",
           "#FECB52"
          ],
          "font": {
           "color": "#2a3f5f"
          },
          "geo": {
           "bgcolor": "white",
           "lakecolor": "white",
           "landcolor": "#E5ECF6",
           "showlakes": true,
           "showland": true,
           "subunitcolor": "white"
          },
          "hoverlabel": {
           "align": "left"
          },
          "hovermode": "closest",
          "mapbox": {
           "style": "light"
          },
          "paper_bgcolor": "white",
          "plot_bgcolor": "#E5ECF6",
          "polar": {
           "angularaxis": {
            "gridcolor": "white",
            "linecolor": "white",
            "ticks": ""
           },
           "bgcolor": "#E5ECF6",
           "radialaxis": {
            "gridcolor": "white",
            "linecolor": "white",
            "ticks": ""
           }
          },
          "scene": {
           "xaxis": {
            "backgroundcolor": "#E5ECF6",
            "gridcolor": "white",
            "gridwidth": 2,
            "linecolor": "white",
            "showbackground": true,
            "ticks": "",
            "zerolinecolor": "white"
           },
           "yaxis": {
            "backgroundcolor": "#E5ECF6",
            "gridcolor": "white",
            "gridwidth": 2,
            "linecolor": "white",
            "showbackground": true,
            "ticks": "",
            "zerolinecolor": "white"
           },
           "zaxis": {
            "backgroundcolor": "#E5ECF6",
            "gridcolor": "white",
            "gridwidth": 2,
            "linecolor": "white",
            "showbackground": true,
            "ticks": "",
            "zerolinecolor": "white"
           }
          },
          "shapedefaults": {
           "line": {
            "color": "#2a3f5f"
           }
          },
          "ternary": {
           "aaxis": {
            "gridcolor": "white",
            "linecolor": "white",
            "ticks": ""
           },
           "baxis": {
            "gridcolor": "white",
            "linecolor": "white",
            "ticks": ""
           },
           "bgcolor": "#E5ECF6",
           "caxis": {
            "gridcolor": "white",
            "linecolor": "white",
            "ticks": ""
           }
          },
          "title": {
           "x": 0.05
          },
          "xaxis": {
           "automargin": true,
           "gridcolor": "white",
           "linecolor": "white",
           "ticks": "",
           "title": {
            "standoff": 15
           },
           "zerolinecolor": "white",
           "zerolinewidth": 2
          },
          "yaxis": {
           "automargin": true,
           "gridcolor": "white",
           "linecolor": "white",
           "ticks": "",
           "title": {
            "standoff": 15
           },
           "zerolinecolor": "white",
           "zerolinewidth": 2
          }
         }
        },
        "title": {
         "text": "Annual Medical Charges"
        },
        "xaxis": {
         "anchor": "y",
         "domain": [
          0,
          1
         ],
         "title": {
          "text": "charges"
         }
        },
        "xaxis2": {
         "anchor": "y2",
         "domain": [
          0,
          1
         ],
         "matches": "x",
         "showgrid": true,
         "showticklabels": false
        },
        "yaxis": {
         "anchor": "x",
         "domain": [
          0,
          0.7326
         ],
         "title": {
          "text": "count"
         }
        },
        "yaxis2": {
         "anchor": "x2",
         "domain": [
          0.7426,
          1
         ],
         "matches": "y2",
         "showgrid": false,
         "showline": false,
         "showticklabels": false,
         "ticks": ""
        }
       }
      },
      "image/png": "[encoded data removed]"
     },
     "metadata": {},
     "output_type": "display_data"
    }
   ],
   "source": [
    "fig = px.histogram(medical_df, \n",
    "                   x='charges', \n",
    "                   marginal='box', \n",
    "                   color='smoker',  # We will color the people who are smookers\n",
    "                   color_discrete_sequence=['green', 'grey'], \n",
    "                   title='Annual Medical Charges')\n",
    "fig.update_layout(bargap=0.1)\n",
    "fig.show()"
   ]
  },
  {
   "cell_type": "code",
   "execution_count": 20,
   "id": "84854124-605a-4896-be9f-3bd097061582",
   "metadata": {},
   "outputs": [
    {
     "data": {
      "application/vnd.plotly.v1+json": {
       "config": {
        "plotlyServerURL": "https://plot.ly"
       },
       "data": [
        {
         "bingroup": "x",
         "hovertemplate": "sex=female<br>charges=%{x}<br>count=%{y}<extra></extra>",
         "legendgroup": "female",
         "marker": {
          "color": "green",
          "pattern": {
           "shape": ""
          }
         },
         "name": "female",
         "orientation": "v",
         "showlegend": true,
         "type": "histogram",
         "x": {
          "bdata": "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",
          "dtype": "f8"
         },
         "xaxis": "x",
         "yaxis": "y"
        },
        {
         "hovertemplate": "sex=female<br>charges=%{x}<extra></extra>",
         "legendgroup": "female",
         "marker": {
          "color": "green"
         },
         "name": "female",
         "notched": true,
         "showlegend": false,
         "type": "box",
         "x": {
          "bdata": "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",
          "dtype": "f8"
         },
         "xaxis": "x2",
         "yaxis": "y2"
        },
        {
         "bingroup": "x",
         "hovertemplate": "sex=male<br>charges=%{x}<br>count=%{y}<extra></extra>",
         "legendgroup": "male",
         "marker": {
          "color": "grey",
          "pattern": {
           "shape": ""
          }
         },
         "name": "male",
         "orientation": "v",
         "showlegend": true,
         "type": "histogram",
         "x": {
          "bdata": "U5YhjjX2mkDByqFFdmGxQMtneR4eeNVAFD/G3LU1rkB4nKIjaQa5QB3J5T+kQqVAHVpkO1+LnEAGEhQ/eFfjQJzEILDytJxAQs9m1Ve2okB7FK5HMbXEQOf7qfGu/OFABoGVQwvEkUArhxbZ5ju4QNobfGFirqVAAAAAAODm4kBQjZduMmDhQCS5/IcM5cpAvJF55FH/6ECPwvUovGWZQJqZmZmZ/KFA/Bhz18hr40A730+Nq4XnQKd5xyl6gLhARIts56u/t0CGIAclkiXUQIPAyqGl5uJAIbByaBEE10AKaCJs0m3iQHDOiNIPMedAfdCzWeW/4EATYcPTG8/AQN/gC5OpmLFAWOcYkKd13UDLEMe6YPW4QAWjkjrJP9FAke18P3WPukBIv30dUFXHQMl2vp/aLr5A9wZfmFQuxkC6awn54PGXQCSX/5A2WbFAY3/ZPaUl4kCWIY51o5rUQIqO5PI7et1Aqz5XWwFhtkDDZKpgJPnDQN0kBoEp49VA9P3UeFnmzkCGONbFLXqsQKrx0k0YJtFAnu+nxptKrkA0ETY8PWamQEaU9gbx+eZAf9k9eaAkxUCq8dJNwiayQDxO0ZEocMZATUpBt/+M3UAPC7WmqTrGQMHKoUVWPL5AaJHtfH+mmkD8qfHSj1DjQOF6FK5nwrdA6Ugu/0GCmUBU46WbxLWTQFYOLbK99p9AhV/q5/m72kB4nKIjGUWrQOF6FK4fh9JA001iEHi70UAeFmpNf0LUQA+cM6IR4uNAf2q8dBPKnEC/fR04NwW0QPYoXI+ibb5ACfmgZ7Mku0CppE5A67nUQI2XbhIXT85AHOviNsgK4kCyne+nRmnEQJjdk4clpLNALv8h/YpTxECEns2q59uyQNCzWfWxLspASOF6FK60v0AjSnuDL3uaQOVhodbcN7lANV66SQxixEDG3LWE8OvGQB+F61HYSq9AH/RsVm0zvkDkFB3JKl3lQCJseHrNhshAVcGopE6zoEC6awn54MWRQINRSZ1AnplAFK5H4Rrru0DByqFFpu/GQLraiv0FftRAX5hMFRzSuUDhehSuR/CeQMP1KFy34r9ALbKd72ejq0C28/3UeGejQBsv3SSGhbRA4XoUrnP74EDhC5Op4g7TQJjdk4eVacdA4JwRpf0CpUBZF7fRoATCQIts5/vpFshAGsBbIDE2ukBpAG+BNG+xQN4CCYor8tBAidLe4Kvwu0CiRbbz3Ry8QDRo6J8e59dAWKg1zbsLn0BMN4lBYKCcQPyp8dIdka9ANIC3QLoOyUDpSC7/l5zlQDm0yHa+pLBABFYOLSUR5ECJ0t7gJXLlQEGC4scMgMZAH/RsVsl64EBTliGOdUnYQEVHcvlsr+FAi2zn++OI5kAhsHJo4cbQQLByaJENEb1AOwFNhD0hwkD7XG3Fvt2aQEJg5dAa7eRAcT0K17NhvECeXinL1MjCQFg5tMhWtqNAB1+YTGXnpUDvycNCZUDJQCgPC7WltOdAT6+UZSCNsEAaUdobHD6+QC1b64s0YtlATGw+rnPN00DeAgmKB5DkQC/dJAZBhK5AbqMBvEWimkA1XrpJ7NTPQKpgVFKrdtVA2qz6XEvr4kBI4XoUvlq6QMl2vp+W/NJAMCqpE0xUx0AnMQisPH7AQPRsVn2QkeRAsAPnjGi8v0Aj2/l+Yv3CQIqw4emhQcFACKwcWohhxEBqTfOOmzuyQBTQRNjAHrNArkfhenRU4UBoImx4JpfGQN9PjZcuZKZAnKIjuTTIuUACvAUSEOHkQB+F61FI3MFAQs9m1WfS10BYObTIZv/KQLyWkA9Kt8dAZDvfT9U4y0B3vp8a43fkQBIUP8YMFMpAFNBE2OxOy0BaZDvf/xmzQCSX/5A6R8BA1xLyQe+OmUD1SlmGcDrIQAd8fhjDBthA48eYuw54wUBlqmBUKsrCQPjCZKogtZxAuB6F6xGPskCIhVrTRLS/QNv5fmq8M6tAukkMAqee4UCVZYhjHb6VQM/3U+PHneJAWfrQBT9e2kC+wRcm9qfkQJccd0pfS9RADeAtkEQ3wEAOLbKdb7eTQFPQ7SUpk91Af2q8dG/4xEDjNhrAB4LBQOXQItsRJcJAQj7o2bRmvUA5C3vanzLQQPCnxks3Rs1A3EYDeOuTv0AUrkfhug7EQM/3U+NleKlAINJvX4f8uUBkzF1L6NSvQGaIY11cVZlAarx0kxjYs0A/NV66edrBQOauJeQjKcxANxrAWyjl5kDcRgN448DmQIPAyqGqGuNATRWMSspOpUDXo3A9KoTBQM6qz9VuHsNAuXAgJL2K1kACK4cWuVG3QAFNhA2Xk7BA8IXJVOkvy0By+Q/pl52hQGq8dJPYJrdAg8DKoaWipkDyQc9mlfWRQDC7Jw9Vf9lAio7k8n/dyEBiEFg5VJqyQAisHFpEWL1AS8gHPXuAr0D6fmq8dMaeQKyL22ggpptA9dvXgWNOskC7uI0GQEnVQPp+ary0tMRAXrpJDAKg1UCWIY51tc7FQOxRuB4lgJlA4L4OnBOCo0C6SQwCk8nYQPRsVn0qMdxAk+NO6XAp4UCamZmZycyjQIcW2c43+ZdAHcnlPySBnECPwvUomGHOQIj029dZLMJAy6FFtoOtwkA5tMh2vpeTQNqs+lz9bsRAwcqhRQaPyEBYObTIhoXRQHo2qz4XvJ5AhxbZzvdbv0B9PzVetqzhQAmKH2NetbpAlIeFWoey1UASg8DKFcnfQEa28/3cjLpA9P3UeImmpECJQWDlMAqoQEi/fR2A+cZA7Z48LNSEo0ArGJXUqUjCQARWDi0yoZNA16NwPYqW1EA9CtejYDHGQK5H4XoSE9tANe84RbtuwED6fmq8hCOuQPZdEfyyrOJAH4XrUXRLwEDcaABvAbCaQCSX/5BwxOdAIbByaPE+yUAWTWcnrcPSQECk376OA8tAxSCwciCzt0CJXkaxgrTaQKMjufy/+8NA24r9Zc8/10BR2ht8sYmpQDvfT41HJ8pAd76fGo9OyUACK4cWWQ+uQNxGA3hLR8BAGlHaG1y+rkBd3EYDuLmZQAaBlUMLfKNAImx4el2xwUC94xQduVi8QOJYF7fAUOZAVHQkl/8DmkBxPQrXQ/7CQEaU9gb/OMlAg1FJnUCemUAHX5hMRdS4QCUGgZVDa5NANqs+V2sqrkDOiNLeCHbAQHQkl//wDKRAdk8eFipNtkBMN4lBgBG9QNqs+lwR68FASL99HRhTsUAbL90kLinjQLpJDAKjwtZA1XjpJrGWrEBaZDvfx57jQCzUmuY65+BAa5p3nM6wx0BlGeJYl1y6QHIz3IBbH8ZA5dAi2/kyxkA1XrpJ7LLDQPYoXI9C555AMuauJVwFvEA1XrpJrFfCQE2EDU93JcxA+MJkqlSt00DmriXkk0rJQO58PzU+CrpAie/ErG4C4ED5oGez7qvJQCNnYU+JXdJA3GgAb5HOw0D3deCckeu3QMUgsHLowJpAEhQ/xmy1r0CEns2qnyO5QBdIUPyYwZFAhjjWxQ3I5EB9PzVeuv/AQA8LtabGUeZAduCcEZXlskBg5dAiuy+xQHsUrkfJNrxAK4cW2VCG5kB1kxgExiXIQNejcD0KaZNArkfhevyU40AgQfFjvEPDQO5aQj4w9sVAZDvfT6UxvkBvgQTFvz61QIv9ZffO/uBAvJaQDzpwoEDD9ShcL4S/QEymCkZ1dKJAn6ut2O9hokCyne+nNKrjQH9qvHQfcMVA+Q/ptyeQwkDImLuWOAzEQFyPwvUo/ppAGw3gLdABn0A1XrpJfLnHQE8eFmpNnMlAke18P0UAxkD8qfHSrVnJQNEi2/n+vJNAsVBrmq8IukDQ1Vbsf+jSQKAaL920qMNA9P3UeKk4q0DAWyBBo6vhQKeufJYuxeVAW0I+6D3OwEDLoUW2n9HRQKyt2F/NHuVAt9EA3po9wUDFA8qm7OzGQAWjkjohbZlAYhBYOQTtp0ArhxbZbsmdQCV1AppEwctAXwzlRBu60ECjkjoBRaezQE0VjEq6NLVADXGsi3m64UBcj8L16OGiQNNNYhA4mNJAjSjtDZ79p0AlBoGVw36/QL/xtWdSSdtAVg4tsr1dvEC5jQbwPqDEQFCNl26ySrtAOGdEaWcYvUAFo5I6YS63QJwzorTnRsNA/Knx0s3U0UD5D+m3L+uRQGx4eqUUVcJA3GgAb5XiyEAwTKYKRvWdQEp7gy+UWbRA46WbxKCRk0AIrBxa9LLUQGiR7Xyv4dFArWnecSqqsEBX7C+7IXzRQFyPwvUobqBARPrt64BfnECdgCbCBq6RQJ/Nqs+V26lAAwmKH9uCxUDBOSNK40yxQGPuWkJO0LVA1XjpJjEbrEC6SQwC6xW9QDBMpgrm8aRATx4Was11yEDiWBe3u2TlQARWDi1oSdRAXkvIB61V40DfT42XfuW3QOOlm8TgKMpAmbuWkPfvxkAcfGEydQG1QN5xio5U+LtA+FPjpTsysUBoke18P9mXQIcW2c73EchA097gCwesw0B6pSxDHAyjQHNoke3QtMRAw/UoXM+Ty0DV52or/uTOQAIrhxa5asVA6SYxCDwnwUDb+X5qXMi5QMxdS8jH1ZFAPQrXoxCcxkBjf9k9zaTJQBBYObTohMBAeHqlLONOt0Cyne+nBsG6QOXQItuRXcFAoImw4cn9uUCPwvUoPIq4QOOlm8Qg5qpAlWWIYx3KpUC+wRcm+w2zQCL99nXsQdNAi2zn+5uU2kDZzvdTY0qaQBdIUPyQVMdA8IXJVHVbxEAVjErqVJXlQOAtkKCAecpAdCSX/yBboUAW+8vubfjAQKCJsOExxOdANs07Tkk1skC28/3UyL2/QGpN847r7rJAtvP91AihzUD/If32FZ6kQEVHcvmVeOBAAd4CCYKJtED2XRH8qx/hQI2XbhJDcLVAkDF3LWngsEDD9Shcb2q4QLMkQE1VvdhAwFsgQcGRuEAawFsgId6mQI/C9Sh8uMNAfh04Z2RBskDJk6RrKlvfQBrAWyABAKJAC0YlddKHwkDmP6TffoeRQL8OnDPicZlA6Gor9m9byUDTTWIQGPi7QOxRuB7pEONA+1xtxcbWuEBkO99PXXfTQG3F/rJvh8ZAVOOlm9ws50D0/dR40QrjQMe6uI1oitNA/Yf023dHrkA9Ctej8IHkQHMR34nxoMhA63O1FUcJ5ECtUQ/ROs3bQH3Qs1lJjsJAZ2FPO8bY2UDTTWIQWIqyQK8l5IPYZ9dA9GxWfQZevUDi6ZWyvJ+pQE7RkVw+JaJA9bnaimGFz0ACK4cWKXy+QKabxCDQraZAdsO2RUfr2EArhxbZVpSxQNv5fmr8v9JAqmBUUg8zs0DpSC7/BW3AQFK4HoXTprFAbAn5oHdstUBeS8gHcfTQQP7UeOka1eBAzczMzMzTnkDY2CWqC7zUQO/Jw0LF2cBAqaROQGNRsUDEsS5uQ1axQNUJaCLOVNhAvhOzXl6y1kBmiGNd3HLDQJEPejbvU9JAWmQ7358ewUBGlPYGf67HQESLbOdLL8FACmgibGSc5EAijnVxG7yaQO/Jw0K5ENBA5nlwd9gW1UDwp8ZLNz3DQFUwKqnv2cpAveMUHQlLyUDDZKpgjk3iQD2bVZ+rlaFAybCKN2r31UAtIR/0zKKaQL7BFyZ6WOBAIEHxYwhBxkAp7Q2+rLrlQPhT46XzZeNAOGdEaUcdzEBn1edqAyTCQPCnxktft9hAqFfKMkCxxEBBguLHuG6xQCv2l91T9p5Asb/snhyRxkDQ1VbsR+nnQBb7y+4xlLlAP1dbsReJwUCI9NvXaX22QNqs+lztBsxAUiegifZ340DZX3ZPOkvLQBpR2hsc1p1AgSbChodsoEA/xty1BO7gQH4dOGfEnM1An5PeNwY2x0C8BRIUZ2axQKRwPQrn37ZAObTIdv7Yr0C28/3ULBbFQEku/yGdLMZA3nGKjnQKw0Bg5dAii6jEQPcGX5iCWeRAKVyPwvUOrEALtaZ5hyqaQM/3U+O1+sVA4lgXt9Eeq0AdyeU/pDHGQOLplbIm8dNAGQRWDi2wpkDByqFFrs7AQJ/Nqs+ne+RAXwfOGTG4okAGEhQ/vhvFQK+UZYgzA8JANxrAW5Kj4UCLbOf7V7HiQF5LyAeVTcBAIbByaFHzw0DSGK2jLgvMQGDl0CLb2qxAsyRATUE51ECSrpl8VTbTQN0kBoG18KxAl/+QfgOswUCUh4VaE8K4QEJg5dAyz8JAi2zn+40MxkC05VyK2q3pQBSuR+H6E8VAYOXQIrtbt0CJ0t7gV2XjQMGopE4wBLRAYr68AMuE0kC+MJkqQHPFQHE9CtejPrJAswxxrKvG0EBy+Q/p1zm5QGgibHjqUbFA4L4OnJfl0kDD0ytl6c3AQAAAAAArS+JAZmZmZtZDtkDF/rJ7mvm4QCL99nXANrhATmIQWJ0OwUDx9EpZpg6gQOF6FK4HdsNA6+I2GoD8s0BKDAIr78HiQHWTGASWHchAke18P139tEC21hcJwQLXQHrHKTrSmZpAT0ATYQctyUAdOGdEqSe1QCKOdXE7tK9Aj+TyH4LBuUA3iUFgVX3AQCnLEMd6yrpAOiNKe4vwuUADCYofA/q7QFvTvOMcscRAtTf4wiBRx0DDu1zErE7tQFCNl27CKMZAXW3F/iIXpUC1pnnHgUm7QNnO91O7FOdAHHxhMjU16EBkXdxGw7+RQDm0yHZe77VANV66SSyrt0BDHOvi8FziQC7/If0aNtJA9ihcj0Jmk0Db+X5qbLTPQOwvuyflW91AUI2XblKaqUBE+u3roEvaQCgPC7XBueBAZmZmZqbTwECSy39ID7mpQGPuWkIqR8xA9bnaig2LskC3Yn/Z1aTQQNejcD2qZ8VAzczMzILv1UBhMlUwauGaQI/C9Sh8JedAMQisHBK54kCMuWsJeeu7QHNoke2UAeFAkDF3LWGtl0Csrdhf8irCQOkmMQiQTcdAhetRuB6znkAX2c73s7OaQBsN4C14jbRAj3Ba8BuQ7kBiEFg5xc/mQHh6pSy3eOJAYTJVMNjC1EBVwaikHvjUQHWTGAT227pARPrt6+gcu0Cq8dJNQrixQBzO/GoqBMZAcF8HztktkkCRm+EGLgrTQF3+Q/oFMbVAfPKwUFVx20AdyeU/rFrJQMbctYTkj7BAGeJYF6uryUBYqDXN81DCQH0/NV6aKsRAM8SxLka0xEA=",
          "dtype": "f8"
         },
         "xaxis": "x",
         "yaxis": "y"
        },
        {
         "hovertemplate": "sex=male<br>charges=%{x}<extra></extra>",
         "legendgroup": "male",
         "marker": {
          "color": "grey"
         },
         "name": "male",
         "notched": true,
         "showlegend": false,
         "type": "box",
         "x": {
          "bdata": "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",
          "dtype": "f8"
         },
         "xaxis": "x2",
         "yaxis": "y2"
        }
       ],
       "layout": {
        "bargap": 0.1,
        "barmode": "relative",
        "legend": {
         "title": {
          "text": "sex"
         },
         "tracegroupgap": 0
        },
        "template": {
         "data": {
          "bar": [
           {
            "error_x": {
             "color": "#2a3f5f"
            },
            "error_y": {
             "color": "#2a3f5f"
            },
            "marker": {
             "line": {
              "color": "#E5ECF6",
              "width": 0.5
             },
             "pattern": {
              "fillmode": "overlay",
              "size": 10,
              "solidity": 0.2
             }
            },
            "type": "bar"
           }
          ],
          "barpolar": [
           {
            "marker": {
             "line": {
              "color": "#E5ECF6",
              "width": 0.5
             },
             "pattern": {
              "fillmode": "overlay",
              "size": 10,
              "solidity": 0.2
             }
            },
            "type": "barpolar"
           }
          ],
          "carpet": [
           {
            "aaxis": {
             "endlinecolor": "#2a3f5f",
             "gridcolor": "white",
             "linecolor": "white",
             "minorgridcolor": "white",
             "startlinecolor": "#2a3f5f"
            },
            "baxis": {
             "endlinecolor": "#2a3f5f",
             "gridcolor": "white",
             "linecolor": "white",
             "minorgridcolor": "white",
             "startlinecolor": "#2a3f5f"
            },
            "type": "carpet"
           }
          ],
          "choropleth": [
           {
            "colorbar": {
             "outlinewidth": 0,
             "ticks": ""
            },
            "type": "choropleth"
           }
          ],
          "contour": [
           {
            "colorbar": {
             "outlinewidth": 0,
             "ticks": ""
            },
            "colorscale": [
             [
              0,
              "#0d0887"
             ],
             [
              0.1111111111111111,
              "#46039f"
             ],
             [
              0.2222222222222222,
              "#7201a8"
             ],
             [
              0.3333333333333333,
              "#9c179e"
             ],
             [
              0.4444444444444444,
              "#bd3786"
             ],
             [
              0.5555555555555556,
              "#d8576b"
             ],
             [
              0.6666666666666666,
              "#ed7953"
             ],
             [
              0.7777777777777778,
              "#fb9f3a"
             ],
             [
              0.8888888888888888,
              "#fdca26"
             ],
             [
              1,
              "#f0f921"
             ]
            ],
            "type": "contour"
           }
          ],
          "contourcarpet": [
           {
            "colorbar": {
             "outlinewidth": 0,
             "ticks": ""
            },
            "type": "contourcarpet"
           }
          ],
          "heatmap": [
           {
            "colorbar": {
             "outlinewidth": 0,
             "ticks": ""
            },
            "colorscale": [
             [
              0,
              "#0d0887"
             ],
             [
              0.1111111111111111,
              "#46039f"
             ],
             [
              0.2222222222222222,
              "#7201a8"
             ],
             [
              0.3333333333333333,
              "#9c179e"
             ],
             [
              0.4444444444444444,
              "#bd3786"
             ],
             [
              0.5555555555555556,
              "#d8576b"
             ],
             [
              0.6666666666666666,
              "#ed7953"
             ],
             [
              0.7777777777777778,
              "#fb9f3a"
             ],
             [
              0.8888888888888888,
              "#fdca26"
             ],
             [
              1,
              "#f0f921"
             ]
            ],
            "type": "heatmap"
           }
          ],
          "histogram": [
           {
            "marker": {
             "pattern": {
              "fillmode": "overlay",
              "size": 10,
              "solidity": 0.2
             }
            },
            "type": "histogram"
           }
          ],
          "histogram2d": [
           {
            "colorbar": {
             "outlinewidth": 0,
             "ticks": ""
            },
            "colorscale": [
             [
              0,
              "#0d0887"
             ],
             [
              0.1111111111111111,
              "#46039f"
             ],
             [
              0.2222222222222222,
              "#7201a8"
             ],
             [
              0.3333333333333333,
              "#9c179e"
             ],
             [
              0.4444444444444444,
              "#bd3786"
             ],
             [
              0.5555555555555556,
              "#d8576b"
             ],
             [
              0.6666666666666666,
              "#ed7953"
             ],
             [
              0.7777777777777778,
              "#fb9f3a"
             ],
             [
              0.8888888888888888,
              "#fdca26"
             ],
             [
              1,
              "#f0f921"
             ]
            ],
            "type": "histogram2d"
           }
          ],
          "histogram2dcontour": [
           {
            "colorbar": {
             "outlinewidth": 0,
             "ticks": ""
            },
            "colorscale": [
             [
              0,
              "#0d0887"
             ],
             [
              0.1111111111111111,
              "#46039f"
             ],
             [
              0.2222222222222222,
              "#7201a8"
             ],
             [
              0.3333333333333333,
              "#9c179e"
             ],
             [
              0.4444444444444444,
              "#bd3786"
             ],
             [
              0.5555555555555556,
              "#d8576b"
             ],
             [
              0.6666666666666666,
              "#ed7953"
             ],
             [
              0.7777777777777778,
              "#fb9f3a"
             ],
             [
              0.8888888888888888,
              "#fdca26"
             ],
             [
              1,
              "#f0f921"
             ]
            ],
            "type": "histogram2dcontour"
           }
          ],
          "mesh3d": [
           {
            "colorbar": {
             "outlinewidth": 0,
             "ticks": ""
            },
            "type": "mesh3d"
           }
          ],
          "parcoords": [
           {
            "line": {
             "colorbar": {
              "outlinewidth": 0,
              "ticks": ""
             }
            },
            "type": "parcoords"
           }
          ],
          "pie": [
           {
            "automargin": true,
            "type": "pie"
           }
          ],
          "scatter": [
           {
            "fillpattern": {
             "fillmode": "overlay",
             "size": 10,
             "solidity": 0.2
            },
            "type": "scatter"
           }
          ],
          "scatter3d": [
           {
            "line": {
             "colorbar": {
              "outlinewidth": 0,
              "ticks": ""
             }
            },
            "marker": {
             "colorbar": {
              "outlinewidth": 0,
              "ticks": ""
             }
            },
            "type": "scatter3d"
           }
          ],
          "scattercarpet": [
           {
            "marker": {
             "colorbar": {
              "outlinewidth": 0,
              "ticks": ""
             }
            },
            "type": "scattercarpet"
           }
          ],
          "scattergeo": [
           {
            "marker": {
             "colorbar": {
              "outlinewidth": 0,
              "ticks": ""
             }
            },
            "type": "scattergeo"
           }
          ],
          "scattergl": [
           {
            "marker": {
             "colorbar": {
              "outlinewidth": 0,
              "ticks": ""
             }
            },
            "type": "scattergl"
           }
          ],
          "scattermap": [
           {
            "marker": {
             "colorbar": {
              "outlinewidth": 0,
              "ticks": ""
             }
            },
            "type": "scattermap"
           }
          ],
          "scattermapbox": [
           {
            "marker": {
             "colorbar": {
              "outlinewidth": 0,
              "ticks": ""
             }
            },
            "type": "scattermapbox"
           }
          ],
          "scatterpolar": [
           {
            "marker": {
             "colorbar": {
              "outlinewidth": 0,
              "ticks": ""
             }
            },
            "type": "scatterpolar"
           }
          ],
          "scatterpolargl": [
           {
            "marker": {
             "colorbar": {
              "outlinewidth": 0,
              "ticks": ""
             }
            },
            "type": "scatterpolargl"
           }
          ],
          "scatterternary": [
           {
            "marker": {
             "colorbar": {
              "outlinewidth": 0,
              "ticks": ""
             }
            },
            "type": "scatterternary"
           }
          ],
          "surface": [
           {
            "colorbar": {
             "outlinewidth": 0,
             "ticks": ""
            },
            "colorscale": [
             [
              0,
              "#0d0887"
             ],
             [
              0.1111111111111111,
              "#46039f"
             ],
             [
              0.2222222222222222,
              "#7201a8"
             ],
             [
              0.3333333333333333,
              "#9c179e"
             ],
             [
              0.4444444444444444,
              "#bd3786"
             ],
             [
              0.5555555555555556,
              "#d8576b"
             ],
             [
              0.6666666666666666,
              "#ed7953"
             ],
             [
              0.7777777777777778,
              "#fb9f3a"
             ],
             [
              0.8888888888888888,
              "#fdca26"
             ],
             [
              1,
              "#f0f921"
             ]
            ],
            "type": "surface"
           }
          ],
          "table": [
           {
            "cells": {
             "fill": {
              "color": "#EBF0F8"
             },
             "line": {
              "color": "white"
             }
            },
            "header": {
             "fill": {
              "color": "#C8D4E3"
             },
             "line": {
              "color": "white"
             }
            },
            "type": "table"
           }
          ]
         },
         "layout": {
          "annotationdefaults": {
           "arrowcolor": "#2a3f5f",
           "arrowhead": 0,
           "arrowwidth": 1
          },
          "autotypenumbers": "strict",
          "coloraxis": {
           "colorbar": {
            "outlinewidth": 0,
            "ticks": ""
           }
          },
          "colorscale": {
           "diverging": [
            [
             0,
             "#8e0152"
            ],
            [
             0.1,
             "#c51b7d"
            ],
            [
             0.2,
             "#de77ae"
            ],
            [
             0.3,
             "#f1b6da"
            ],
            [
             0.4,
             "#fde0ef"
            ],
            [
             0.5,
             "#f7f7f7"
            ],
            [
             0.6,
             "#e6f5d0"
            ],
            [
             0.7,
             "#b8e186"
            ],
            [
             0.8,
             "#7fbc41"
            ],
            [
             0.9,
             "#4d9221"
            ],
            [
             1,
             "#276419"
            ]
           ],
           "sequential": [
            [
             0,
             "#0d0887"
            ],
            [
             0.1111111111111111,
             "#46039f"
            ],
            [
             0.2222222222222222,
             "#7201a8"
            ],
            [
             0.3333333333333333,
             "#9c179e"
            ],
            [
             0.4444444444444444,
             "#bd3786"
            ],
            [
             0.5555555555555556,
             "#d8576b"
            ],
            [
             0.6666666666666666,
             "#ed7953"
            ],
            [
             0.7777777777777778,
             "#fb9f3a"
            ],
            [
             0.8888888888888888,
             "#fdca26"
            ],
            [
             1,
             "#f0f921"
            ]
           ],
           "sequentialminus": [
            [
             0,
             "#0d0887"
            ],
            [
             0.1111111111111111,
             "#46039f"
            ],
            [
             0.2222222222222222,
             "#7201a8"
            ],
            [
             0.3333333333333333,
             "#9c179e"
            ],
            [
             0.4444444444444444,
             "#bd3786"
            ],
            [
             0.5555555555555556,
             "#d8576b"
            ],
            [
             0.6666666666666666,
             "#ed7953"
            ],
            [
             0.7777777777777778,
             "#fb9f3a"
            ],
            [
             0.8888888888888888,
             "#fdca26"
            ],
            [
             1,
             "#f0f921"
            ]
           ]
          },
          "colorway": [
           "#636efa",
           "#EF553B",
           "#00cc96",
           "#ab63fa",
           "#FFA15A",
           "#19d3f3",
           "#FF6692",
           "#B6E880",
           "#FF97FF",
           "#FECB52"
          ],
          "font": {
           "color": "#2a3f5f"
          },
          "geo": {
           "bgcolor": "white",
           "lakecolor": "white",
           "landcolor": "#E5ECF6",
           "showlakes": true,
           "showland": true,
           "subunitcolor": "white"
          },
          "hoverlabel": {
           "align": "left"
          },
          "hovermode": "closest",
          "mapbox": {
           "style": "light"
          },
          "paper_bgcolor": "white",
          "plot_bgcolor": "#E5ECF6",
          "polar": {
           "angularaxis": {
            "gridcolor": "white",
            "linecolor": "white",
            "ticks": ""
           },
           "bgcolor": "#E5ECF6",
           "radialaxis": {
            "gridcolor": "white",
            "linecolor": "white",
            "ticks": ""
           }
          },
          "scene": {
           "xaxis": {
            "backgroundcolor": "#E5ECF6",
            "gridcolor": "white",
            "gridwidth": 2,
            "linecolor": "white",
            "showbackground": true,
            "ticks": "",
            "zerolinecolor": "white"
           },
           "yaxis": {
            "backgroundcolor": "#E5ECF6",
            "gridcolor": "white",
            "gridwidth": 2,
            "linecolor": "white",
            "showbackground": true,
            "ticks": "",
            "zerolinecolor": "white"
           },
           "zaxis": {
            "backgroundcolor": "#E5ECF6",
            "gridcolor": "white",
            "gridwidth": 2,
            "linecolor": "white",
            "showbackground": true,
            "ticks": "",
            "zerolinecolor": "white"
           }
          },
          "shapedefaults": {
           "line": {
            "color": "#2a3f5f"
           }
          },
          "ternary": {
           "aaxis": {
            "gridcolor": "white",
            "linecolor": "white",
            "ticks": ""
           },
           "baxis": {
            "gridcolor": "white",
            "linecolor": "white",
            "ticks": ""
           },
           "bgcolor": "#E5ECF6",
           "caxis": {
            "gridcolor": "white",
            "linecolor": "white",
            "ticks": ""
           }
          },
          "title": {
           "x": 0.05
          },
          "xaxis": {
           "automargin": true,
           "gridcolor": "white",
           "linecolor": "white",
           "ticks": "",
           "title": {
            "standoff": 15
           },
           "zerolinecolor": "white",
           "zerolinewidth": 2
          },
          "yaxis": {
           "automargin": true,
           "gridcolor": "white",
           "linecolor": "white",
           "ticks": "",
           "title": {
            "standoff": 15
           },
           "zerolinecolor": "white",
           "zerolinewidth": 2
          }
         }
        },
        "title": {
         "text": "Annual Medical Charges"
        },
        "xaxis": {
         "anchor": "y",
         "domain": [
          0,
          1
         ],
         "title": {
          "text": "charges"
         }
        },
        "xaxis2": {
         "anchor": "y2",
         "domain": [
          0,
          1
         ],
         "matches": "x",
         "showgrid": true,
         "showticklabels": false
        },
        "yaxis": {
         "anchor": "x",
         "domain": [
          0,
          0.7326
         ],
         "title": {
          "text": "count"
         }
        },
        "yaxis2": {
         "anchor": "x2",
         "domain": [
          0.7426,
          1
         ],
         "matches": "y2",
         "showgrid": false,
         "showline": false,
         "showticklabels": false,
         "ticks": ""
        }
       }
      },
      "image/png": "[encoded data removed]"
     },
     "metadata": {},
     "output_type": "display_data"
    }
   ],
   "source": [
    "fig = px.histogram(medical_df, \n",
    "                   x='charges', \n",
    "                   marginal='box', \n",
    "                   color='sex',  # We will color the people who are smookers\n",
    "                   color_discrete_sequence=['green', 'grey'], \n",
    "                   title='Annual Medical Charges')\n",
    "fig.update_layout(bargap=0.1)\n",
    "fig.show()"
   ]
  },
  {
   "cell_type": "code",
   "execution_count": 21,
   "id": "e039cf92-b6e6-4984-93fd-e04931a8809c",
   "metadata": {},
   "outputs": [
    {
     "data": {
      "application/vnd.plotly.v1+json": {
       "config": {
        "plotlyServerURL": "https://plot.ly"
       },
       "data": [
        {
         "bingroup": "x",
         "hovertemplate": "region=southwest<br>charges=%{x}<br>count=%{y}<extra></extra>",
         "legendgroup": "southwest",
         "marker": {
          "color": "green",
          "pattern": {
           "shape": ""
          }
         },
         "name": "southwest",
         "orientation": "v",
         "showlegend": true,
         "type": "histogram",
         "x": {
          "bdata": "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",
          "dtype": "f8"
         },
         "xaxis": "x",
         "yaxis": "y"
        },
        {
         "hovertemplate": "region=southwest<br>charges=%{x}<extra></extra>",
         "legendgroup": "southwest",
         "marker": {
          "color": "green"
         },
         "name": "southwest",
         "notched": true,
         "showlegend": false,
         "type": "box",
         "x": {
          "bdata": "YOXQIjt90EAdWmQ7X4ucQJzEILDytJxAexSuRzG1xEDn+6nxrvzhQNv5fmq8NbBAAAAAAODm4kBQjZduMmDhQOkmMQjMT7JAvJF55FH/6ECamZmZmfyhQDvfT42rhedAhiAHJZIl1EAhsHJoEQTXQGDl0CLbPJtAqMZLN4nNy0BzaJHt3O7GQMl2vp/aLr5AVOOlm5Bz40AMAiuHlqDFQClcj8JhF+dAXI/C9aikx0D0/dR4WebOQJhuEoMgKrhAfT81XtqLs0A/NV66CTeiQPyp8dKtNMdAqvHSTcImskDByqFFVjy+QOxRuB5FrtBAoBov3UTRwkDhehSuZ8K3QBBYObTIzcVAVOOlm8S1k0BYObTIdu2gQH9qvHQTypxAsp3vp0ZpxECq8dJNIiC0QHsUrkeh3rJASOF6FK60v0DpJjEIDH60QGZmZmYO1+dANV66SQxixEDLoUW2ozvBQLKd76emzbRAdZMYBPZ3ukBWDi2y3ROzQKRwPQq3EbZAFK5H4Rrru0D0/dR4eRzLQOF6FK5H8J5A2c73UwOkwECDwMqhxcu8QGq8dJN4lLNAGy/dJIaFtEDhehSuc/vgQHE9Ctcj/5pAi2zn++kWyEChvmVOBCvhQKJFtvPdHLxATDeJQWCgnEApXI/CKRnnQDm0yHa+pLBArkfhepQex0CwcmiRDRG9QEJg5dAa7eRAppvEIPDMoEApXI/C9czCQKjGSzcJyKhAL90kBkGErkA1XrpJ7NTPQCPb+X4as8hAVz7L82q000AnMQisPH7AQC/dJAaBJZtALbKd79sC4UCuR+F6dFThQN9PjZcuZKZAXI/C9QBn50AfhetRSNzBQFg5tMhm/8pAZOlDF86C0kBvEoPACnLBQC2yne9nxKtAB3x+GMMG2EC4HoXrEY+yQOOlm8RACstAK4cW2Y5LpEC6SQwCp57hQA4tsp1vt5NA8tJNYgClwEDwp8ZLN0bNQHWTGARmGMJAz/dT42V4qUDP91Pj1a3AQGq8dJMY2LNA46WbxBAs0kDXo3A9KoTBQLlwICS9itZAAiuHFrlRt0Bcj8L1GK/IQGq8dJPYJrdARIts5+sa4kDdJAaBFbG8QG3n+6nxFrdAYhBYOVSaskAIrBxaRFi9QPp+arx0xp5Au7iNBkBJ1UD6fmq8tLTEQF66SQwCoNVAEFg5tFjUyUCPwvUo3EGbQLpJDAKTydhAEFg5tAhMw0DLoUW2g63CQDm0yHa+l5NAarx0kxhTm0DByqFFBo/IQFg5tMiGhdFAg8DKoaVDs0CHFtnO91u/QEjhehRuT8pAfT81Xras4UBxPQrXo1/GQARWDi0yoZNA16NwPYqW1EA9CtejYDHGQHE9CtfDeLRAMzMzM4NCw0DjpZvEYFS3QLpJDAKLPMFAnMQgsHI0uEDP91PjNYnGQDvfT41HJ8pAd76fGo9OyUACK4cWWQ+uQAaBlUMLfKNAy6FFtnOQxkDdJAaBlWKtQHE9CtdD/sJAJQaBlUNrk0BqvHSTOCHHQEw3iUGAEb1ArkfhekSfxUAbL90kLinjQAaBlUOLq7lAukkMAqPC1kBQjZdu0uzEQNV46SaxlqxAWmQ738ee40ApXI/CFe/BQOXQItv5MsZANV66Seyyw0D2KFyPQueeQDVeukmsV8JA7nw/NT4KukDP91PjpaSqQH0/NV66/8BAdZMYBMYlyEA/NV66iTKkQNejcD0KaZNArkfhevyU40CDwMqhBZ6yQKp9Oh4ln9lAw/UoXC+Ev0Boke18//OrQD81XroJ/7RAL90kBgEzo0A1XrpJfLnHQJHtfD9FAMZA/Knx0q1ZyUDRItv5/ryTQKAaL920qMNAZDvfT+2KsEDb+X5qnFvLQPT91HipOKtAp658li7F5UDFA8qm7OzGQLx0kxh0tsBAXI/C9ejhokDTTWIQOJjSQCUGgZXDfr9ACKwcWqSKu0AX2c73g/fLQL/xtWdSSdtAcT0K12PHxUD8qfHSzdTRQIlBYOUQ8tdAsHJokS0OuUDjpZvEoJGTQF66SQwSJMdAXI/C9ShuoEApXI/CdWPCQNV46SYxG6xAukkMAusVvUDjpZvE4CjKQPhT46U7MrFAaJHtfD/Zl0A/NV66WUjDQJhuEoNAPKdATDeJQWBNnUACK4cWuWrFQAisHFowhOZAO99PjRfvu0DpJjEIPCfBQNv5fmpcyLlAPQrXoxCcxkD+1HjppiexQBBYObTohMBAsp3vpwbBukAwuycPF4fZQI/C9Sg8irhAy6FFtvOnuEDjpZvEIOaqQNnO91NjSppAL90kBvGDyUCsHFpkS7LIQLbz/dQIoc1AJQaBlRMW0UDufD81/sq9QM/3U+P1eMlADi2ynY9FykD2KFyPQkvKQI2XbhJDcLVAw/UoXG9quEDZzvdTI8OmQD81XropgMdANV66SUxeuECPwvUofLjDQAisHFoktLxAi2zn++nkx0A9CtejEM3GQNNNYhAY+LtAZDvfT11300D0/dR40QrjQCGwcmiRMqpA001iEFiKskAxCKwcWn2bQNv5fmr8v9JAexSuR6HIvUC4HoXr0WWqQMHKoUU2w8NAg8DKoYX6vED+1HjpGtXgQM3MzMzM055A2Nglqgu81ECDwMqhhSbAQKjGSzeJB7VAMQisHNonr0BEi2znSy/BQJHtfD+1kJ9A8KfGSzc9w0C+nxovPZ/HQMUgsHLosqhA+FPjpfNl40Dwp8ZLX7fYQOf7qfHCKsBAokW2891MtkC0yHa+f4W7QNv5fmqss8BAObTIdv7Yr0A9Ctej0JPSQGDl0CKLqMRAKVyPwvUOrEBEi2znqxHGQM/3U+O1+sVA4umVsibx00AZBFYOLbCmQPp+arzIruBAIbByaFHzw0DSGK2jLgvMQAwCK4eWA5tAYOXQItvarEBU46WbhMe9QAisHFqEEr9AQmDl0DLPwkC05VyK2q3pQBSuR+H6E8VAYOXQIrtbt0DfT42XriuvQDEIrBx6sbFAcT0K16M+skBmZmZmpvPVQLbz/dS41KBAQmDl0OJguUBEi2zn+5GkQFZ9rrZWo8lArkfherRGs0CgVPt00wXiQEoMAivvweJAdZMYBJYdyECsHFpkaxvFQAaBlUOzV+RAHvmDgdWx00BQjZduwijGQDm0yHZe77VAGy/dJObGwUA1XrpJLKu3QPYoXI9CZpNA2/l+amy0z0AS2nIuaerOQNnO91MDSrlAUI2XblKaqUBoke18v6m8QI/C9Sg86MRAnMQgsPJhnUBmZmZmptPAQNejcD2qZ8VAj8L1KHwl50Dn+6nxcmC1QDEIrBwSueJAc2iR7ZQB4UCF61G4HrOeQOf7qfGSEalAeHqlLLd44kCJQWDllI3gQHWTGAT227pAqvHSTUK4sUBQjZdussXhQJHtfD+1DptAfT81XpoqxEDI72369xXFQOF6FK7XScZA4XoUrsdfn0A=",
          "dtype": "f8"
         },
         "xaxis": "x2",
         "yaxis": "y2"
        },
        {
         "bingroup": "x",
         "hovertemplate": "region=southeast<br>charges=%{x}<br>count=%{y}<extra></extra>",
         "legendgroup": "southeast",
         "marker": {
          "color": "grey",
          "pattern": {
           "shape": ""
          }
         },
         "name": "southeast",
         "orientation": "v",
         "showlegend": true,
         "type": "histogram",
         "x": {
          "bdata": "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",
          "dtype": "f8"
         },
         "xaxis": "x",
         "yaxis": "y"
        },
        {
         "hovertemplate": "region=southeast<br>charges=%{x}<extra></extra>",
         "legendgroup": "southeast",
         "marker": {
          "color": "grey"
         },
         "name": "southeast",
         "notched": true,
         "showlegend": false,
         "type": "box",
         "x": {
          "bdata": "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",
          "dtype": "f8"
         },
         "xaxis": "x2",
         "yaxis": "y2"
        },
        {
         "bingroup": "x",
         "hovertemplate": "region=northwest<br>charges=%{x}<br>count=%{y}<extra></extra>",
         "legendgroup": "northwest",
         "marker": {
          "color": "green",
          "pattern": {
           "shape": ""
          }
         },
         "name": "northwest",
         "orientation": "v",
         "showlegend": true,
         "type": "histogram",
         "x": {
          "bdata": "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",
          "dtype": "f8"
         },
         "xaxis": "x",
         "yaxis": "y"
        },
        {
         "hovertemplate": "region=northwest<br>charges=%{x}<extra></extra>",
         "legendgroup": "northwest",
         "marker": {
          "color": "green"
         },
         "name": "northwest",
         "notched": true,
         "showlegend": false,
         "type": "box",
         "x": {
          "bdata": "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",
          "dtype": "f8"
         },
         "xaxis": "x2",
         "yaxis": "y2"
        },
        {
         "bingroup": "x",
         "hovertemplate": "region=northeast<br>charges=%{x}<br>count=%{y}<extra></extra>",
         "legendgroup": "northeast",
         "marker": {
          "color": "grey",
          "pattern": {
           "shape": ""
          }
         },
         "name": "northeast",
         "orientation": "v",
         "showlegend": true,
         "type": "histogram",
         "x": {
          "bdata": "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",
          "dtype": "f8"
         },
         "xaxis": "x",
         "yaxis": "y"
        },
        {
         "hovertemplate": "region=northeast<br>charges=%{x}<extra></extra>",
         "legendgroup": "northeast",
         "marker": {
          "color": "grey"
         },
         "name": "northeast",
         "notched": true,
         "showlegend": false,
         "type": "box",
         "x": {
          "bdata": "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",
          "dtype": "f8"
         },
         "xaxis": "x2",
         "yaxis": "y2"
        }
       ],
       "layout": {
        "bargap": 0.1,
        "barmode": "relative",
        "legend": {
         "title": {
          "text": "region"
         },
         "tracegroupgap": 0
        },
        "template": {
         "data": {
          "bar": [
           {
            "error_x": {
             "color": "#2a3f5f"
            },
            "error_y": {
             "color": "#2a3f5f"
            },
            "marker": {
             "line": {
              "color": "#E5ECF6",
              "width": 0.5
             },
             "pattern": {
              "fillmode": "overlay",
              "size": 10,
              "solidity": 0.2
             }
            },
            "type": "bar"
           }
          ],
          "barpolar": [
           {
            "marker": {
             "line": {
              "color": "#E5ECF6",
              "width": 0.5
             },
             "pattern": {
              "fillmode": "overlay",
              "size": 10,
              "solidity": 0.2
             }
            },
            "type": "barpolar"
           }
          ],
          "carpet": [
           {
            "aaxis": {
             "endlinecolor": "#2a3f5f",
             "gridcolor": "white",
             "linecolor": "white",
             "minorgridcolor": "white",
             "startlinecolor": "#2a3f5f"
            },
            "baxis": {
             "endlinecolor": "#2a3f5f",
             "gridcolor": "white",
             "linecolor": "white",
             "minorgridcolor": "white",
             "startlinecolor": "#2a3f5f"
            },
            "type": "carpet"
           }
          ],
          "choropleth": [
           {
            "colorbar": {
             "outlinewidth": 0,
             "ticks": ""
            },
            "type": "choropleth"
           }
          ],
          "contour": [
           {
            "colorbar": {
             "outlinewidth": 0,
             "ticks": ""
            },
            "colorscale": [
             [
              0,
              "#0d0887"
             ],
             [
              0.1111111111111111,
              "#46039f"
             ],
             [
              0.2222222222222222,
              "#7201a8"
             ],
             [
              0.3333333333333333,
              "#9c179e"
             ],
             [
              0.4444444444444444,
              "#bd3786"
             ],
             [
              0.5555555555555556,
              "#d8576b"
             ],
             [
              0.6666666666666666,
              "#ed7953"
             ],
             [
              0.7777777777777778,
              "#fb9f3a"
             ],
             [
              0.8888888888888888,
              "#fdca26"
             ],
             [
              1,
              "#f0f921"
             ]
            ],
            "type": "contour"
           }
          ],
          "contourcarpet": [
           {
            "colorbar": {
             "outlinewidth": 0,
             "ticks": ""
            },
            "type": "contourcarpet"
           }
          ],
          "heatmap": [
           {
            "colorbar": {
             "outlinewidth": 0,
             "ticks": ""
            },
            "colorscale": [
             [
              0,
              "#0d0887"
             ],
             [
              0.1111111111111111,
              "#46039f"
             ],
             [
              0.2222222222222222,
              "#7201a8"
             ],
             [
              0.3333333333333333,
              "#9c179e"
             ],
             [
              0.4444444444444444,
              "#bd3786"
             ],
             [
              0.5555555555555556,
              "#d8576b"
             ],
             [
              0.6666666666666666,
              "#ed7953"
             ],
             [
              0.7777777777777778,
              "#fb9f3a"
             ],
             [
              0.8888888888888888,
              "#fdca26"
             ],
             [
              1,
              "#f0f921"
             ]
            ],
            "type": "heatmap"
           }
          ],
          "histogram": [
           {
            "marker": {
             "pattern": {
              "fillmode": "overlay",
              "size": 10,
              "solidity": 0.2
             }
            },
            "type": "histogram"
           }
          ],
          "histogram2d": [
           {
            "colorbar": {
             "outlinewidth": 0,
             "ticks": ""
            },
            "colorscale": [
             [
              0,
              "#0d0887"
             ],
             [
              0.1111111111111111,
              "#46039f"
             ],
             [
              0.2222222222222222,
              "#7201a8"
             ],
             [
              0.3333333333333333,
              "#9c179e"
             ],
             [
              0.4444444444444444,
              "#bd3786"
             ],
             [
              0.5555555555555556,
              "#d8576b"
             ],
             [
              0.6666666666666666,
              "#ed7953"
             ],
             [
              0.7777777777777778,
              "#fb9f3a"
             ],
             [
              0.8888888888888888,
              "#fdca26"
             ],
             [
              1,
              "#f0f921"
             ]
            ],
            "type": "histogram2d"
           }
          ],
          "histogram2dcontour": [
           {
            "colorbar": {
             "outlinewidth": 0,
             "ticks": ""
            },
            "colorscale": [
             [
              0,
              "#0d0887"
             ],
             [
              0.1111111111111111,
              "#46039f"
             ],
             [
              0.2222222222222222,
              "#7201a8"
             ],
             [
              0.3333333333333333,
              "#9c179e"
             ],
             [
              0.4444444444444444,
              "#bd3786"
             ],
             [
              0.5555555555555556,
              "#d8576b"
             ],
             [
              0.6666666666666666,
              "#ed7953"
             ],
             [
              0.7777777777777778,
              "#fb9f3a"
             ],
             [
              0.8888888888888888,
              "#fdca26"
             ],
             [
              1,
              "#f0f921"
             ]
            ],
            "type": "histogram2dcontour"
           }
          ],
          "mesh3d": [
           {
            "colorbar": {
             "outlinewidth": 0,
             "ticks": ""
            },
            "type": "mesh3d"
           }
          ],
          "parcoords": [
           {
            "line": {
             "colorbar": {
              "outlinewidth": 0,
              "ticks": ""
             }
            },
            "type": "parcoords"
           }
          ],
          "pie": [
           {
            "automargin": true,
            "type": "pie"
           }
          ],
          "scatter": [
           {
            "fillpattern": {
             "fillmode": "overlay",
             "size": 10,
             "solidity": 0.2
            },
            "type": "scatter"
           }
          ],
          "scatter3d": [
           {
            "line": {
             "colorbar": {
              "outlinewidth": 0,
              "ticks": ""
             }
            },
            "marker": {
             "colorbar": {
              "outlinewidth": 0,
              "ticks": ""
             }
            },
            "type": "scatter3d"
           }
          ],
          "scattercarpet": [
           {
            "marker": {
             "colorbar": {
              "outlinewidth": 0,
              "ticks": ""
             }
            },
            "type": "scattercarpet"
           }
          ],
          "scattergeo": [
           {
            "marker": {
             "colorbar": {
              "outlinewidth": 0,
              "ticks": ""
             }
            },
            "type": "scattergeo"
           }
          ],
          "scattergl": [
           {
            "marker": {
             "colorbar": {
              "outlinewidth": 0,
              "ticks": ""
             }
            },
            "type": "scattergl"
           }
          ],
          "scattermap": [
           {
            "marker": {
             "colorbar": {
              "outlinewidth": 0,
              "ticks": ""
             }
            },
            "type": "scattermap"
           }
          ],
          "scattermapbox": [
           {
            "marker": {
             "colorbar": {
              "outlinewidth": 0,
              "ticks": ""
             }
            },
            "type": "scattermapbox"
           }
          ],
          "scatterpolar": [
           {
            "marker": {
             "colorbar": {
              "outlinewidth": 0,
              "ticks": ""
             }
            },
            "type": "scatterpolar"
           }
          ],
          "scatterpolargl": [
           {
            "marker": {
             "colorbar": {
              "outlinewidth": 0,
              "ticks": ""
             }
            },
            "type": "scatterpolargl"
           }
          ],
          "scatterternary": [
           {
            "marker": {
             "colorbar": {
              "outlinewidth": 0,
              "ticks": ""
             }
            },
            "type": "scatterternary"
           }
          ],
          "surface": [
           {
            "colorbar": {
             "outlinewidth": 0,
             "ticks": ""
            },
            "colorscale": [
             [
              0,
              "#0d0887"
             ],
             [
              0.1111111111111111,
              "#46039f"
             ],
             [
              0.2222222222222222,
              "#7201a8"
             ],
             [
              0.3333333333333333,
              "#9c179e"
             ],
             [
              0.4444444444444444,
              "#bd3786"
             ],
             [
              0.5555555555555556,
              "#d8576b"
             ],
             [
              0.6666666666666666,
              "#ed7953"
             ],
             [
              0.7777777777777778,
              "#fb9f3a"
             ],
             [
              0.8888888888888888,
              "#fdca26"
             ],
             [
              1,
              "#f0f921"
             ]
            ],
            "type": "surface"
           }
          ],
          "table": [
           {
            "cells": {
             "fill": {
              "color": "#EBF0F8"
             },
             "line": {
              "color": "white"
             }
            },
            "header": {
             "fill": {
              "color": "#C8D4E3"
             },
             "line": {
              "color": "white"
             }
            },
            "type": "table"
           }
          ]
         },
         "layout": {
          "annotationdefaults": {
           "arrowcolor": "#2a3f5f",
           "arrowhead": 0,
           "arrowwidth": 1
          },
          "autotypenumbers": "strict",
          "coloraxis": {
           "colorbar": {
            "outlinewidth": 0,
            "ticks": ""
           }
          },
          "colorscale": {
           "diverging": [
            [
             0,
             "#8e0152"
            ],
            [
             0.1,
             "#c51b7d"
            ],
            [
             0.2,
             "#de77ae"
            ],
            [
             0.3,
             "#f1b6da"
            ],
            [
             0.4,
             "#fde0ef"
            ],
            [
             0.5,
             "#f7f7f7"
            ],
            [
             0.6,
             "#e6f5d0"
            ],
            [
             0.7,
             "#b8e186"
            ],
            [
             0.8,
             "#7fbc41"
            ],
            [
             0.9,
             "#4d9221"
            ],
            [
             1,
             "#276419"
            ]
           ],
           "sequential": [
            [
             0,
             "#0d0887"
            ],
            [
             0.1111111111111111,
             "#46039f"
            ],
            [
             0.2222222222222222,
             "#7201a8"
            ],
            [
             0.3333333333333333,
             "#9c179e"
            ],
            [
             0.4444444444444444,
             "#bd3786"
            ],
            [
             0.5555555555555556,
             "#d8576b"
            ],
            [
             0.6666666666666666,
             "#ed7953"
            ],
            [
             0.7777777777777778,
             "#fb9f3a"
            ],
            [
             0.8888888888888888,
             "#fdca26"
            ],
            [
             1,
             "#f0f921"
            ]
           ],
           "sequentialminus": [
            [
             0,
             "#0d0887"
            ],
            [
             0.1111111111111111,
             "#46039f"
            ],
            [
             0.2222222222222222,
             "#7201a8"
            ],
            [
             0.3333333333333333,
             "#9c179e"
            ],
            [
             0.4444444444444444,
             "#bd3786"
            ],
            [
             0.5555555555555556,
             "#d8576b"
            ],
            [
             0.6666666666666666,
             "#ed7953"
            ],
            [
             0.7777777777777778,
             "#fb9f3a"
            ],
            [
             0.8888888888888888,
             "#fdca26"
            ],
            [
             1,
             "#f0f921"
            ]
           ]
          },
          "colorway": [
           "#636efa",
           "#EF553B",
           "#00cc96",
           "#ab63fa",
           "#FFA15A",
           "#19d3f3",
           "#FF6692",
           "#B6E880",
           "#FF97FF",
           "#FECB52"
          ],
          "font": {
           "color": "#2a3f5f"
          },
          "geo": {
           "bgcolor": "white",
           "lakecolor": "white",
           "landcolor": "#E5ECF6",
           "showlakes": true,
           "showland": true,
           "subunitcolor": "white"
          },
          "hoverlabel": {
           "align": "left"
          },
          "hovermode": "closest",
          "mapbox": {
           "style": "light"
          },
          "paper_bgcolor": "white",
          "plot_bgcolor": "#E5ECF6",
          "polar": {
           "angularaxis": {
            "gridcolor": "white",
            "linecolor": "white",
            "ticks": ""
           },
           "bgcolor": "#E5ECF6",
           "radialaxis": {
            "gridcolor": "white",
            "linecolor": "white",
            "ticks": ""
           }
          },
          "scene": {
           "xaxis": {
            "backgroundcolor": "#E5ECF6",
            "gridcolor": "white",
            "gridwidth": 2,
            "linecolor": "white",
            "showbackground": true,
            "ticks": "",
            "zerolinecolor": "white"
           },
           "yaxis": {
            "backgroundcolor": "#E5ECF6",
            "gridcolor": "white",
            "gridwidth": 2,
            "linecolor": "white",
            "showbackground": true,
            "ticks": "",
            "zerolinecolor": "white"
           },
           "zaxis": {
            "backgroundcolor": "#E5ECF6",
            "gridcolor": "white",
            "gridwidth": 2,
            "linecolor": "white",
            "showbackground": true,
            "ticks": "",
            "zerolinecolor": "white"
           }
          },
          "shapedefaults": {
           "line": {
            "color": "#2a3f5f"
           }
          },
          "ternary": {
           "aaxis": {
            "gridcolor": "white",
            "linecolor": "white",
            "ticks": ""
           },
           "baxis": {
            "gridcolor": "white",
            "linecolor": "white",
            "ticks": ""
           },
           "bgcolor": "#E5ECF6",
           "caxis": {
            "gridcolor": "white",
            "linecolor": "white",
            "ticks": ""
           }
          },
          "title": {
           "x": 0.05
          },
          "xaxis": {
           "automargin": true,
           "gridcolor": "white",
           "linecolor": "white",
           "ticks": "",
           "title": {
            "standoff": 15
           },
           "zerolinecolor": "white",
           "zerolinewidth": 2
          },
          "yaxis": {
           "automargin": true,
           "gridcolor": "white",
           "linecolor": "white",
           "ticks": "",
           "title": {
            "standoff": 15
           },
           "zerolinecolor": "white",
           "zerolinewidth": 2
          }
         }
        },
        "title": {
         "text": "Annual Medical Charges"
        },
        "xaxis": {
         "anchor": "y",
         "domain": [
          0,
          1
         ],
         "title": {
          "text": "charges"
         }
        },
        "xaxis2": {
         "anchor": "y2",
         "domain": [
          0,
          1
         ],
         "matches": "x",
         "showgrid": true,
         "showticklabels": false
        },
        "yaxis": {
         "anchor": "x",
         "domain": [
          0,
          0.7326
         ],
         "title": {
          "text": "count"
         }
        },
        "yaxis2": {
         "anchor": "x2",
         "domain": [
          0.7426,
          1
         ],
         "matches": "y2",
         "showgrid": false,
         "showline": false,
         "showticklabels": false,
         "ticks": ""
        }
       }
      },
      "image/png": "[encoded data removed]"
     },
     "metadata": {},
     "output_type": "display_data"
    }
   ],
   "source": [
    "fig = px.histogram(medical_df, \n",
    "                   x='charges', \n",
    "                   marginal='box', \n",
    "                   color='region',  # We will color the people who are smookers\n",
    "                   color_discrete_sequence=['green', 'grey'], \n",
    "                   title='Annual Medical Charges')\n",
    "fig.update_layout(bargap=0.1)\n",
    "fig.show()"
   ]
  },
  {
   "cell_type": "code",
   "execution_count": 18,
   "id": "54918f94-f605-4164-bad7-08e97f6c50b9",
   "metadata": {},
   "outputs": [
    {
     "data": {
      "application/vnd.plotly.v1+json": {
       "config": {
        "plotlyServerURL": "https://plot.ly"
       },
       "data": [
        {
         "bingroup": "x",
         "hovertemplate": "sex=female<br>charges=%{x}<br>count=%{y}<extra></extra>",
         "legendgroup": "female",
         "marker": {
          "color": "green",
          "pattern": {
           "shape": ""
          }
         },
         "name": "female",
         "orientation": "v",
         "showlegend": true,
         "type": "histogram",
         "x": {
          "bdata": "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",
          "dtype": "f8"
         },
         "xaxis": "x",
         "yaxis": "y"
        },
        {
         "hovertemplate": "sex=female<br>charges=%{x}<extra></extra>",
         "legendgroup": "female",
         "marker": {
          "color": "green"
         },
         "name": "female",
         "notched": true,
         "showlegend": false,
         "type": "box",
         "x": {
          "bdata": "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",
          "dtype": "f8"
         },
         "xaxis": "x2",
         "yaxis": "y2"
        },
        {
         "bingroup": "x",
         "hovertemplate": "sex=male<br>charges=%{x}<br>count=%{y}<extra></extra>",
         "legendgroup": "male",
         "marker": {
          "color": "grey",
          "pattern": {
           "shape": ""
          }
         },
         "name": "male",
         "orientation": "v",
         "showlegend": true,
         "type": "histogram",
         "x": {
          "bdata": "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",
          "dtype": "f8"
         },
         "xaxis": "x",
         "yaxis": "y"
        },
        {
         "hovertemplate": "sex=male<br>charges=%{x}<extra></extra>",
         "legendgroup": "male",
         "marker": {
          "color": "grey"
         },
         "name": "male",
         "notched": true,
         "showlegend": false,
         "type": "box",
         "x": {
          "bdata": "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",
          "dtype": "f8"
         },
         "xaxis": "x2",
         "yaxis": "y2"
        }
       ],
       "layout": {
        "bargap": 0.1,
        "barmode": "relative",
        "legend": {
         "title": {
          "text": "sex"
         },
         "tracegroupgap": 0
        },
        "template": {
         "data": {
          "bar": [
           {
            "error_x": {
             "color": "#2a3f5f"
            },
            "error_y": {
             "color": "#2a3f5f"
            },
            "marker": {
             "line": {
              "color": "#E5ECF6",
              "width": 0.5
             },
             "pattern": {
              "fillmode": "overlay",
              "size": 10,
              "solidity": 0.2
             }
            },
            "type": "bar"
           }
          ],
          "barpolar": [
           {
            "marker": {
             "line": {
              "color": "#E5ECF6",
              "width": 0.5
             },
             "pattern": {
              "fillmode": "overlay",
              "size": 10,
              "solidity": 0.2
             }
            },
            "type": "barpolar"
           }
          ],
          "carpet": [
           {
            "aaxis": {
             "endlinecolor": "#2a3f5f",
             "gridcolor": "white",
             "linecolor": "white",
             "minorgridcolor": "white",
             "startlinecolor": "#2a3f5f"
            },
            "baxis": {
             "endlinecolor": "#2a3f5f",
             "gridcolor": "white",
             "linecolor": "white",
             "minorgridcolor": "white",
             "startlinecolor": "#2a3f5f"
            },
            "type": "carpet"
           }
          ],
          "choropleth": [
           {
            "colorbar": {
             "outlinewidth": 0,
             "ticks": ""
            },
            "type": "choropleth"
           }
          ],
          "contour": [
           {
            "colorbar": {
             "outlinewidth": 0,
             "ticks": ""
            },
            "colorscale": [
             [
              0,
              "#0d0887"
             ],
             [
              0.1111111111111111,
              "#46039f"
             ],
             [
              0.2222222222222222,
              "#7201a8"
             ],
             [
              0.3333333333333333,
              "#9c179e"
             ],
             [
              0.4444444444444444,
              "#bd3786"
             ],
             [
              0.5555555555555556,
              "#d8576b"
             ],
             [
              0.6666666666666666,
              "#ed7953"
             ],
             [
              0.7777777777777778,
              "#fb9f3a"
             ],
             [
              0.8888888888888888,
              "#fdca26"
             ],
             [
              1,
              "#f0f921"
             ]
            ],
            "type": "contour"
           }
          ],
          "contourcarpet": [
           {
            "colorbar": {
             "outlinewidth": 0,
             "ticks": ""
            },
            "type": "contourcarpet"
           }
          ],
          "heatmap": [
           {
            "colorbar": {
             "outlinewidth": 0,
             "ticks": ""
            },
            "colorscale": [
             [
              0,
              "#0d0887"
             ],
             [
              0.1111111111111111,
              "#46039f"
             ],
             [
              0.2222222222222222,
              "#7201a8"
             ],
             [
              0.3333333333333333,
              "#9c179e"
             ],
             [
              0.4444444444444444,
              "#bd3786"
             ],
             [
              0.5555555555555556,
              "#d8576b"
             ],
             [
              0.6666666666666666,
              "#ed7953"
             ],
             [
              0.7777777777777778,
              "#fb9f3a"
             ],
             [
              0.8888888888888888,
              "#fdca26"
             ],
             [
              1,
              "#f0f921"
             ]
            ],
            "type": "heatmap"
           }
          ],
          "histogram": [
           {
            "marker": {
             "pattern": {
              "fillmode": "overlay",
              "size": 10,
              "solidity": 0.2
             }
            },
            "type": "histogram"
           }
          ],
          "histogram2d": [
           {
            "colorbar": {
             "outlinewidth": 0,
             "ticks": ""
            },
            "colorscale": [
             [
              0,
              "#0d0887"
             ],
             [
              0.1111111111111111,
              "#46039f"
             ],
             [
              0.2222222222222222,
              "#7201a8"
             ],
             [
              0.3333333333333333,
              "#9c179e"
             ],
             [
              0.4444444444444444,
              "#bd3786"
             ],
             [
              0.5555555555555556,
              "#d8576b"
             ],
             [
              0.6666666666666666,
              "#ed7953"
             ],
             [
              0.7777777777777778,
              "#fb9f3a"
             ],
             [
              0.8888888888888888,
              "#fdca26"
             ],
             [
              1,
              "#f0f921"
             ]
            ],
            "type": "histogram2d"
           }
          ],
          "histogram2dcontour": [
           {
            "colorbar": {
             "outlinewidth": 0,
             "ticks": ""
            },
            "colorscale": [
             [
              0,
              "#0d0887"
             ],
             [
              0.1111111111111111,
              "#46039f"
             ],
             [
              0.2222222222222222,
              "#7201a8"
             ],
             [
              0.3333333333333333,
              "#9c179e"
             ],
             [
              0.4444444444444444,
              "#bd3786"
             ],
             [
              0.5555555555555556,
              "#d8576b"
             ],
             [
              0.6666666666666666,
              "#ed7953"
             ],
             [
              0.7777777777777778,
              "#fb9f3a"
             ],
             [
              0.8888888888888888,
              "#fdca26"
             ],
             [
              1,
              "#f0f921"
             ]
            ],
            "type": "histogram2dcontour"
           }
          ],
          "mesh3d": [
           {
            "colorbar": {
             "outlinewidth": 0,
             "ticks": ""
            },
            "type": "mesh3d"
           }
          ],
          "parcoords": [
           {
            "line": {
             "colorbar": {
              "outlinewidth": 0,
              "ticks": ""
             }
            },
            "type": "parcoords"
           }
          ],
          "pie": [
           {
            "automargin": true,
            "type": "pie"
           }
          ],
          "scatter": [
           {
            "fillpattern": {
             "fillmode": "overlay",
             "size": 10,
             "solidity": 0.2
            },
            "type": "scatter"
           }
          ],
          "scatter3d": [
           {
            "line": {
             "colorbar": {
              "outlinewidth": 0,
              "ticks": ""
             }
            },
            "marker": {
             "colorbar": {
              "outlinewidth": 0,
              "ticks": ""
             }
            },
            "type": "scatter3d"
           }
          ],
          "scattercarpet": [
           {
            "marker": {
             "colorbar": {
              "outlinewidth": 0,
              "ticks": ""
             }
            },
            "type": "scattercarpet"
           }
          ],
          "scattergeo": [
           {
            "marker": {
             "colorbar": {
              "outlinewidth": 0,
              "ticks": ""
             }
            },
            "type": "scattergeo"
           }
          ],
          "scattergl": [
           {
            "marker": {
             "colorbar": {
              "outlinewidth": 0,
              "ticks": ""
             }
            },
            "type": "scattergl"
           }
          ],
          "scattermap": [
           {
            "marker": {
             "colorbar": {
              "outlinewidth": 0,
              "ticks": ""
             }
            },
            "type": "scattermap"
           }
          ],
          "scattermapbox": [
           {
            "marker": {
             "colorbar": {
              "outlinewidth": 0,
              "ticks": ""
             }
            },
            "type": "scattermapbox"
           }
          ],
          "scatterpolar": [
           {
            "marker": {
             "colorbar": {
              "outlinewidth": 0,
              "ticks": ""
             }
            },
            "type": "scatterpolar"
           }
          ],
          "scatterpolargl": [
           {
            "marker": {
             "colorbar": {
              "outlinewidth": 0,
              "ticks": ""
             }
            },
            "type": "scatterpolargl"
           }
          ],
          "scatterternary": [
           {
            "marker": {
             "colorbar": {
              "outlinewidth": 0,
              "ticks": ""
             }
            },
            "type": "scatterternary"
           }
          ],
          "surface": [
           {
            "colorbar": {
             "outlinewidth": 0,
             "ticks": ""
            },
            "colorscale": [
             [
              0,
              "#0d0887"
             ],
             [
              0.1111111111111111,
              "#46039f"
             ],
             [
              0.2222222222222222,
              "#7201a8"
             ],
             [
              0.3333333333333333,
              "#9c179e"
             ],
             [
              0.4444444444444444,
              "#bd3786"
             ],
             [
              0.5555555555555556,
              "#d8576b"
             ],
             [
              0.6666666666666666,
              "#ed7953"
             ],
             [
              0.7777777777777778,
              "#fb9f3a"
             ],
             [
              0.8888888888888888,
              "#fdca26"
             ],
             [
              1,
              "#f0f921"
             ]
            ],
            "type": "surface"
           }
          ],
          "table": [
           {
            "cells": {
             "fill": {
              "color": "#EBF0F8"
             },
             "line": {
              "color": "white"
             }
            },
            "header": {
             "fill": {
              "color": "#C8D4E3"
             },
             "line": {
              "color": "white"
             }
            },
            "type": "table"
           }
          ]
         },
         "layout": {
          "annotationdefaults": {
           "arrowcolor": "#2a3f5f",
           "arrowhead": 0,
           "arrowwidth": 1
          },
          "autotypenumbers": "strict",
          "coloraxis": {
           "colorbar": {
            "outlinewidth": 0,
            "ticks": ""
           }
          },
          "colorscale": {
           "diverging": [
            [
             0,
             "#8e0152"
            ],
            [
             0.1,
             "#c51b7d"
            ],
            [
             0.2,
             "#de77ae"
            ],
            [
             0.3,
             "#f1b6da"
            ],
            [
             0.4,
             "#fde0ef"
            ],
            [
             0.5,
             "#f7f7f7"
            ],
            [
             0.6,
             "#e6f5d0"
            ],
            [
             0.7,
             "#b8e186"
            ],
            [
             0.8,
             "#7fbc41"
            ],
            [
             0.9,
             "#4d9221"
            ],
            [
             1,
             "#276419"
            ]
           ],
           "sequential": [
            [
             0,
             "#0d0887"
            ],
            [
             0.1111111111111111,
             "#46039f"
            ],
            [
             0.2222222222222222,
             "#7201a8"
            ],
            [
             0.3333333333333333,
             "#9c179e"
            ],
            [
             0.4444444444444444,
             "#bd3786"
            ],
            [
             0.5555555555555556,
             "#d8576b"
            ],
            [
             0.6666666666666666,
             "#ed7953"
            ],
            [
             0.7777777777777778,
             "#fb9f3a"
            ],
            [
             0.8888888888888888,
             "#fdca26"
            ],
            [
             1,
             "#f0f921"
            ]
           ],
           "sequentialminus": [
            [
             0,
             "#0d0887"
            ],
            [
             0.1111111111111111,
             "#46039f"
            ],
            [
             0.2222222222222222,
             "#7201a8"
            ],
            [
             0.3333333333333333,
             "#9c179e"
            ],
            [
             0.4444444444444444,
             "#bd3786"
            ],
            [
             0.5555555555555556,
             "#d8576b"
            ],
            [
             0.6666666666666666,
             "#ed7953"
            ],
            [
             0.7777777777777778,
             "#fb9f3a"
            ],
            [
             0.8888888888888888,
             "#fdca26"
            ],
            [
             1,
             "#f0f921"
            ]
           ]
          },
          "colorway": [
           "#636efa",
           "#EF553B",
           "#00cc96",
           "#ab63fa",
           "#FFA15A",
           "#19d3f3",
           "#FF6692",
           "#B6E880",
           "#FF97FF",
           "#FECB52"
          ],
          "font": {
           "color": "#2a3f5f"
          },
          "geo": {
           "bgcolor": "white",
           "lakecolor": "white",
           "landcolor": "#E5ECF6",
           "showlakes": true,
           "showland": true,
           "subunitcolor": "white"
          },
          "hoverlabel": {
           "align": "left"
          },
          "hovermode": "closest",
          "mapbox": {
           "style": "light"
          },
          "paper_bgcolor": "white",
          "plot_bgcolor": "#E5ECF6",
          "polar": {
           "angularaxis": {
            "gridcolor": "white",
            "linecolor": "white",
            "ticks": ""
           },
           "bgcolor": "#E5ECF6",
           "radialaxis": {
            "gridcolor": "white",
            "linecolor": "white",
            "ticks": ""
           }
          },
          "scene": {
           "xaxis": {
            "backgroundcolor": "#E5ECF6",
            "gridcolor": "white",
            "gridwidth": 2,
            "linecolor": "white",
            "showbackground": true,
            "ticks": "",
            "zerolinecolor": "white"
           },
           "yaxis": {
            "backgroundcolor": "#E5ECF6",
            "gridcolor": "white",
            "gridwidth": 2,
            "linecolor": "white",
            "showbackground": true,
            "ticks": "",
            "zerolinecolor": "white"
           },
           "zaxis": {
            "backgroundcolor": "#E5ECF6",
            "gridcolor": "white",
            "gridwidth": 2,
            "linecolor": "white",
            "showbackground": true,
            "ticks": "",
            "zerolinecolor": "white"
           }
          },
          "shapedefaults": {
           "line": {
            "color": "#2a3f5f"
           }
          },
          "ternary": {
           "aaxis": {
            "gridcolor": "white",
            "linecolor": "white",
            "ticks": ""
           },
           "baxis": {
            "gridcolor": "white",
            "linecolor": "white",
            "ticks": ""
           },
           "bgcolor": "#E5ECF6",
           "caxis": {
            "gridcolor": "white",
            "linecolor": "white",
            "ticks": ""
           }
          },
          "title": {
           "x": 0.05
          },
          "xaxis": {
           "automargin": true,
           "gridcolor": "white",
           "linecolor": "white",
           "ticks": "",
           "title": {
            "standoff": 15
           },
           "zerolinecolor": "white",
           "zerolinewidth": 2
          },
          "yaxis": {
           "automargin": true,
           "gridcolor": "white",
           "linecolor": "white",
           "ticks": "",
           "title": {
            "standoff": 15
           },
           "zerolinecolor": "white",
           "zerolinewidth": 2
          }
         }
        },
        "title": {
         "text": "Annual Medical Charges"
        },
        "xaxis": {
         "anchor": "y",
         "domain": [
          0,
          1
         ],
         "title": {
          "text": "charges"
         }
        },
        "xaxis2": {
         "anchor": "y2",
         "domain": [
          0,
          1
         ],
         "matches": "x",
         "showgrid": true,
         "showticklabels": false
        },
        "yaxis": {
         "anchor": "x",
         "domain": [
          0,
          0.7326
         ],
         "title": {
          "text": "count"
         }
        },
        "yaxis2": {
         "anchor": "x2",
         "domain": [
          0.7426,
          1
         ],
         "matches": "y2",
         "showgrid": false,
         "showline": false,
         "showticklabels": false,
         "ticks": ""
        }
       }
      },
      "image/png": "[encoded data removed]"
     },
     "metadata": {},
     "output_type": "display_data"
    }
   ],
   "source": []
  },
  {
   "cell_type": "code",
   "execution_count": null,
   "id": "634a307e-adaa-4008-ab61-2e9fd628a260",
   "metadata": {},
   "outputs": [],
   "source": []
  }
 ],
 "metadata": {
  "kernelspec": {
   "display_name": "Python 3 (ipykernel)",
   "language": "python",
   "name": "python3"
  },
  "language_info": {
   "codemirror_mode": {
    "name": "ipython",
    "version": 3
   },
   "file_extension": ".py",
   "mimetype": "text/x-python",
   "name": "python",
   "nbconvert_exporter": "python",
   "pygments_lexer": "ipython3",
   "version": "3.11.8"
  }
 },
 "nbformat": 4,
 "nbformat_minor": 5
}

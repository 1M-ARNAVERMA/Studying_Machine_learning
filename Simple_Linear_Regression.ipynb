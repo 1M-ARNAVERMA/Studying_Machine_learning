{
 "cells": [
  {
   "cell_type": "raw",
   "id": "20c91019-7b0e-4b4a-b3a0-1bde36113fd3",
   "metadata": {},
   "source": [
    "-> Help in finding the graph line which will give us the least value for -> Value ( Observed ) - Value ( Predict )\n",
    "-> Fits a linear model with coedfficients to maximize the residual sum of squares between the observed targets in the dataset, and the targets predicted    by the linear approximation\n",
    "-> No such real world applications as it has very less number of independent variables, and any real world application would be depenedent on atleast       more than 1 variable"
   ]
  },
  {
   "cell_type": "code",
   "execution_count": 7,
   "id": "f44eb579-1dd1-46c9-ae01-9dddcfc8c4b4",
   "metadata": {},
   "outputs": [],
   "source": [
    "import numpy as np\n",
    "import matplotlib.pyplot as plt\n",
    "import pandas as pd"
   ]
  },
  {
   "cell_type": "code",
   "execution_count": 14,
   "id": "039bb013-a16a-45ef-8521-618558778c70",
   "metadata": {},
   "outputs": [],
   "source": [
    "data_set = pd.read_csv('Salary_Data.csv')\n",
    "x = data_set.iloc[ : , :-1].values\n",
    "y = data_set.iloc[ : , -1 ].values"
   ]
  },
  {
   "cell_type": "code",
   "execution_count": 15,
   "id": "f62ce06f-cfbb-4591-9cf5-d11ddc1eec60",
   "metadata": {},
   "outputs": [
    {
     "name": "stdout",
     "output_type": "stream",
     "text": [
      "[[1. ]\n",
      " [1.2]\n",
      " [1.6]\n",
      " [2. ]\n",
      " [2.3]\n",
      " [2.8]\n",
      " [3. ]\n",
      " [3.3]\n",
      " [3.6]\n",
      " [3.6]\n",
      " [4. ]\n",
      " [4.1]\n",
      " [4.4]\n",
      " [4.5]\n",
      " [4.9]\n",
      " [5.1]\n",
      " [5.3]\n",
      " [5.9]\n",
      " [6.1]\n",
      " [6.7]\n",
      " [6.9]\n",
      " [7.1]\n",
      " [7.3]\n",
      " [7.5]\n",
      " [7.7]]\n"
     ]
    }
   ],
   "source": [
    "print(x)"
   ]
  },
  {
   "cell_type": "code",
   "execution_count": 17,
   "id": "92d18061-b6d7-42cb-9672-f01a7da0ca61",
   "metadata": {},
   "outputs": [],
   "source": [
    "from sklearn.model_selection import train_test_split\n",
    "x_train, x_test, y_train, y_test = train_test_split( x , y , test_size = .3 , random_state = 42 )"
   ]
  },
  {
   "cell_type": "code",
   "execution_count": null,
   "id": "6298d50f-543e-4361-bfde-fd407f7ff6bd",
   "metadata": {},
   "outputs": [],
   "source": []
  }
 ],
 "metadata": {
  "kernelspec": {
   "display_name": "Python 3 (ipykernel)",
   "language": "python",
   "name": "python3"
  },
  "language_info": {
   "codemirror_mode": {
    "name": "ipython",
    "version": 3
   },
   "file_extension": ".py",
   "mimetype": "text/x-python",
   "name": "python",
   "nbconvert_exporter": "python",
   "pygments_lexer": "ipython3",
   "version": "3.11.8"
  }
 },
 "nbformat": 4,
 "nbformat_minor": 5
}

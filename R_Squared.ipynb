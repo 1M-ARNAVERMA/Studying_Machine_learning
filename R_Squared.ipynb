{
 "cells": [
  {
   "cell_type": "raw",
   "id": "c12c0a9d-5a0f-41fa-b3b4-e280ce1b4aef",
   "metadata": {},
   "source": [
    "-> Which model works the best for a given problem is given by R squared [ Model Selection ]"
   ]
  }
 ],
 "metadata": {
  "kernelspec": {
   "display_name": "Python 3 (ipykernel)",
   "language": "python",
   "name": "python3"
  },
  "language_info": {
   "codemirror_mode": {
    "name": "ipython",
    "version": 3
   },
   "file_extension": ".py",
   "mimetype": "text/x-python",
   "name": "python",
   "nbconvert_exporter": "python",
   "pygments_lexer": "ipython3",
   "version": "3.11.8"
  }
 },
 "nbformat": 4,
 "nbformat_minor": 5
}

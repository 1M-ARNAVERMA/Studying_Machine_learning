{
 "cells": [
  {
   "cell_type": "code",
   "execution_count": 1,
   "id": "cd9c37c1-6f2a-4e8c-a702-59b02a323754",
   "metadata": {},
   "outputs": [],
   "source": [
    "import numpy as np\n",
    "import matplotlib.pyplot as plt\n",
    "import pandas as pd"
   ]
  },
  {
   "cell_type": "code",
   "execution_count": 3,
   "id": "0167bd06-01b7-4d7d-bdfc-06388217cfc6",
   "metadata": {},
   "outputs": [],
   "source": [
    "data_set = pd.read_csv('Covid_data.csv')\n",
    "X = data_set.iloc[:,:-1].values\n",
    "y = data_set.iloc[:, -1].values"
   ]
  },
  {
   "cell_type": "code",
   "execution_count": 5,
   "id": "5e2edb1c-d2dc-425a-b553-6294a3e1a727",
   "metadata": {},
   "outputs": [
    {
     "name": "stdout",
     "output_type": "stream",
     "text": [
      "[[10.0 'Normal' 'no' 'no' 97.0]\n",
      " [12.0 'Normal' 'no' 'no' 97.0]\n",
      " [15.0 'Normal' 'no' 'no' 94.0]\n",
      " [10.0 'Normal' 'no' 'no' 97.0]\n",
      " [13.0 'Moderate' 'no' 'no' 94.0]\n",
      " [12.0 'Moderate' 'no' 'no' 97.0]\n",
      " [13.0 'Moderate' 'no' 'no' 93.0]\n",
      " [15.0 'Moderate' 'no' 'no' 92.0]\n",
      " [18.0 'Moderate' 'no' 'no' 66.0]\n",
      " [19.0 'Normal' 'no' 'no' 92.0]\n",
      " [20.0 'Normal' 'no' 'no' 93.0]\n",
      " [17.0 'Normal' 'no' 'no' 93.0]\n",
      " [16.0 'Normal' 'no' 'no' 92.0]\n",
      " [18.0 'Normal' 'no' 'no' 93.0]\n",
      " [20.0 'Normal' 'no' 'no' 92.0]\n",
      " [25.0 'Moderate' 'no' 'no' 93.0]\n",
      " [24.0 'Moderate' 'no' 'no' 92.0]\n",
      " [26.0 'High' 'no' 'no' 94.0]\n",
      " [28.0 'Normal' 'no' 'no' 99.0]\n",
      " [29.0 'Normal' 'no' 'no' 93.0]\n",
      " [30.0 'Moderate' 'no' 'no' 62.0]\n",
      " [19.0 'Normal' 'no' 'no' 89.0]\n",
      " [25.0 'Normal' 'no' 'yes' 86.0]\n",
      " [26.0 'Normal' 'no' 'no' nan]\n",
      " [28.0 'Normal' 'no' 'no' 89.0]\n",
      " [30.0 'Moderate' 'yes' 'no' 86.0]\n",
      " [35.0 'Moderate' 'no' 'no' 89.0]\n",
      " [32.0 'Moderate' 'no' 'yes' 84.0]\n",
      " [nan 'Moderate' 'yes' 'no' 90.0]\n",
      " [32.0 'Moderate' 'no' 'no' 89.0]\n",
      " [35.0 'Moderate' 'no' 'yes' 92.0]\n",
      " [38.0 'High' 'no' 'no' 75.0]\n",
      " [40.0 'Moderate' 'no' 'yes' 90.0]\n",
      " [46.0 'High' 'yes' 'no' 91.0]\n",
      " [48.0 'Moderate' 'no' 'yes' 93.0]\n",
      " [42.0 'High' 'no' 'no' 92.0]\n",
      " [40.0 'High' 'no' 'no' 92.0]\n",
      " [49.0 'Moderate' 'no' 'no' 80.0]\n",
      " [50.0 'High' 'yes' 'yes' 77.0]\n",
      " [36.0 'High' 'yes' 'no' 90.0]\n",
      " [52.0 'High' 'yes' 'yes' 80.0]\n",
      " [56.0 'High' 'yes' 'yes' 77.0]\n",
      " [58.0 'High' 'no' 'no' 70.0]\n",
      " [59.0 'High' 'no' 'yes' 69.0]\n",
      " [60.0 'High' 'yes' 'yes' 68.0]\n",
      " [53.0 'High' 'yes' 'no' 55.0]\n",
      " [54.0 'High' 'yes' 'yes' 70.0]\n",
      " [62.0 'High' 'yes' 'yes' 68.0]\n",
      " [63.0 'High' 'yes' 'yes' 66.0]\n",
      " [68.0 'High' 'yes' 'no' 67.0]\n",
      " [69.0 'High' 'no' 'yes' 53.0]\n",
      " [64.0 'High' 'yes' 'yes' 73.0]\n",
      " [61.0 'High' 'yes' 'yes' 76.0]\n",
      " [70.0 'Normal' 'no' 'yes' 88.0]\n",
      " [59.0 'High' 'yes' 'no' 68.0]\n",
      " [62.0 'High' 'yes' 'yes' 69.0]\n",
      " [78.0 'High' 'yes' 'yes' 71.0]\n",
      " [74.0 'High' 'yes' 'yes' 75.0]\n",
      " [75.0 'High' 'no' 'yes' 72.0]\n",
      " [56.0 'High' 'yes' 'no' 76.0]\n",
      " [80.0 'High' 'no' 'yes' 92.0]\n",
      " [82.0 'High' 'yes' 'yes' 73.0]\n",
      " [86.0 'High' 'yes' 'yes' 71.0]\n",
      " [90.0 'High' 'yes' 'yes' 67.0]\n",
      " [84.0 'High' 'yes' 'yes' 75.0]\n",
      " [86.0 'High' 'no' 'yes' 76.0]\n",
      " [61.0 'Moderate' 'no' 'yes' 90.0]\n",
      " [94.0 'High' 'yes' 'yes' 64.0]\n",
      " [81.0 'High' 'yes' 'yes' 75.0]\n",
      " [76.0 'High' 'yes' 'yes' 80.0]]\n"
     ]
    }
   ],
   "source": [
    "print(X)"
   ]
  },
  {
   "cell_type": "code",
   "execution_count": 6,
   "id": "ca51b87f-c547-43f7-9145-f58546718cbf",
   "metadata": {},
   "outputs": [
    {
     "name": "stdout",
     "output_type": "stream",
     "text": [
      "['No' 'No' 'No' 'No' 'No' 'No' 'No' 'No' 'Yes' 'No' 'No' 'No' 'No' 'No'\n",
      " 'No' 'No' 'No' 'No' 'No' 'No' 'Yes' 'No' 'No' 'No' 'No' 'No' 'No' 'No'\n",
      " 'No' 'No' 'No' 'Yes' 'No' 'No' 'No' 'No' 'No' 'Yes' 'Yes' 'No' 'Yes'\n",
      " 'Yes' 'Yes' 'Yes' 'Yes' 'Yes' 'Yes' 'Yes' 'Yes' 'Yes' 'Yes' 'Yes' 'Yes'\n",
      " 'No' 'Yes' 'Yes' 'Yes' 'Yes' 'Yes' 'Yes' 'No' 'Yes' 'Yes' 'Yes' 'Yes'\n",
      " 'Yes' 'No' 'Yes' 'Yes' 'Yes']\n"
     ]
    }
   ],
   "source": [
    "print(y)"
   ]
  },
  {
   "cell_type": "markdown",
   "id": "fbbdccf9-3e80-4802-ae72-abe698f224ac",
   "metadata": {},
   "source": [
    "# Handling Missing Data"
   ]
  },
  {
   "cell_type": "code",
   "execution_count": 14,
   "id": "40d6358b-8528-436e-a1b2-dd7b3cde8c6a",
   "metadata": {},
   "outputs": [],
   "source": [
    "from sklearn.impute import SimpleImputer   # Imputer is a transformer for completing missing values\n",
    "imputer = SimpleImputer(missing_values = np.nan, strategy = 'mean') # strategy = 'mean' -> We just want to fill up all the data , so approximation also works, therefore 'mean' is the method of approximation\n",
    "\n",
    "imputer.fit(X[:,0:1])  # We cannot apply mean to every column, because columns 2 3 4 are sting values, so no mean can be calculated\n",
    "X[: , 0:1] = imputer.transform(X[:,0:1])"
   ]
  },
  {
   "cell_type": "code",
   "execution_count": 15,
   "id": "76bb2646-6441-4bcc-b697-7b5031f01085",
   "metadata": {},
   "outputs": [
    {
     "name": "stdout",
     "output_type": "stream",
     "text": [
      "[[10.0 'Normal' 'no' 'no' 97.0]\n",
      " [12.0 'Normal' 'no' 'no' 97.0]\n",
      " [15.0 'Normal' 'no' 'no' 94.0]\n",
      " [10.0 'Normal' 'no' 'no' 97.0]\n",
      " [13.0 'Moderate' 'no' 'no' 94.0]\n",
      " [12.0 'Moderate' 'no' 'no' 97.0]\n",
      " [13.0 'Moderate' 'no' 'no' 93.0]\n",
      " [15.0 'Moderate' 'no' 'no' 92.0]\n",
      " [18.0 'Moderate' 'no' 'no' 66.0]\n",
      " [19.0 'Normal' 'no' 'no' 92.0]\n",
      " [20.0 'Normal' 'no' 'no' 93.0]\n",
      " [17.0 'Normal' 'no' 'no' 93.0]\n",
      " [16.0 'Normal' 'no' 'no' 92.0]\n",
      " [18.0 'Normal' 'no' 'no' 93.0]\n",
      " [20.0 'Normal' 'no' 'no' 92.0]\n",
      " [25.0 'Moderate' 'no' 'no' 93.0]\n",
      " [24.0 'Moderate' 'no' 'no' 92.0]\n",
      " [26.0 'High' 'no' 'no' 94.0]\n",
      " [28.0 'Normal' 'no' 'no' 99.0]\n",
      " [29.0 'Normal' 'no' 'no' 93.0]\n",
      " [30.0 'Moderate' 'no' 'no' 62.0]\n",
      " [19.0 'Normal' 'no' 'no' 89.0]\n",
      " [25.0 'Normal' 'no' 'yes' 86.0]\n",
      " [26.0 'Normal' 'no' 'no' nan]\n",
      " [28.0 'Normal' 'no' 'no' 89.0]\n",
      " [30.0 'Moderate' 'yes' 'no' 86.0]\n",
      " [35.0 'Moderate' 'no' 'no' 89.0]\n",
      " [32.0 'Moderate' 'no' 'yes' 84.0]\n",
      " [45.130434782608695 'Moderate' 'yes' 'no' 90.0]\n",
      " [32.0 'Moderate' 'no' 'no' 89.0]\n",
      " [35.0 'Moderate' 'no' 'yes' 92.0]\n",
      " [38.0 'High' 'no' 'no' 75.0]\n",
      " [40.0 'Moderate' 'no' 'yes' 90.0]\n",
      " [46.0 'High' 'yes' 'no' 91.0]\n",
      " [48.0 'Moderate' 'no' 'yes' 93.0]\n",
      " [42.0 'High' 'no' 'no' 92.0]\n",
      " [40.0 'High' 'no' 'no' 92.0]\n",
      " [49.0 'Moderate' 'no' 'no' 80.0]\n",
      " [50.0 'High' 'yes' 'yes' 77.0]\n",
      " [36.0 'High' 'yes' 'no' 90.0]\n",
      " [52.0 'High' 'yes' 'yes' 80.0]\n",
      " [56.0 'High' 'yes' 'yes' 77.0]\n",
      " [58.0 'High' 'no' 'no' 70.0]\n",
      " [59.0 'High' 'no' 'yes' 69.0]\n",
      " [60.0 'High' 'yes' 'yes' 68.0]\n",
      " [53.0 'High' 'yes' 'no' 55.0]\n",
      " [54.0 'High' 'yes' 'yes' 70.0]\n",
      " [62.0 'High' 'yes' 'yes' 68.0]\n",
      " [63.0 'High' 'yes' 'yes' 66.0]\n",
      " [68.0 'High' 'yes' 'no' 67.0]\n",
      " [69.0 'High' 'no' 'yes' 53.0]\n",
      " [64.0 'High' 'yes' 'yes' 73.0]\n",
      " [61.0 'High' 'yes' 'yes' 76.0]\n",
      " [70.0 'Normal' 'no' 'yes' 88.0]\n",
      " [59.0 'High' 'yes' 'no' 68.0]\n",
      " [62.0 'High' 'yes' 'yes' 69.0]\n",
      " [78.0 'High' 'yes' 'yes' 71.0]\n",
      " [74.0 'High' 'yes' 'yes' 75.0]\n",
      " [75.0 'High' 'no' 'yes' 72.0]\n",
      " [56.0 'High' 'yes' 'no' 76.0]\n",
      " [80.0 'High' 'no' 'yes' 92.0]\n",
      " [82.0 'High' 'yes' 'yes' 73.0]\n",
      " [86.0 'High' 'yes' 'yes' 71.0]\n",
      " [90.0 'High' 'yes' 'yes' 67.0]\n",
      " [84.0 'High' 'yes' 'yes' 75.0]\n",
      " [86.0 'High' 'no' 'yes' 76.0]\n",
      " [61.0 'Moderate' 'no' 'yes' 90.0]\n",
      " [94.0 'High' 'yes' 'yes' 64.0]\n",
      " [81.0 'High' 'yes' 'yes' 75.0]\n",
      " [76.0 'High' 'yes' 'yes' 80.0]]\n"
     ]
    }
   ],
   "source": [
    "print(X)"
   ]
  },
  {
   "cell_type": "code",
   "execution_count": 19,
   "id": "81be54db-6f4a-44b7-a3f1-8e45ef4335e5",
   "metadata": {},
   "outputs": [],
   "source": [
    "imputer.fit(X[:,4:5]) # This will take the mean of the last columns\n",
    "X[:,4:5] = imputer.transform(X[:,4:5])"
   ]
  },
  {
   "cell_type": "code",
   "execution_count": 20,
   "id": "4940d84a-87e1-4aff-b306-db0a5fe15489",
   "metadata": {},
   "outputs": [
    {
     "name": "stdout",
     "output_type": "stream",
     "text": [
      "[[10.0 'Normal' 'no' 'no' 97.0]\n",
      " [12.0 'Normal' 'no' 'no' 97.0]\n",
      " [15.0 'Normal' 'no' 'no' 94.0]\n",
      " [10.0 'Normal' 'no' 'no' 97.0]\n",
      " [13.0 'Moderate' 'no' 'no' 94.0]\n",
      " [12.0 'Moderate' 'no' 'no' 97.0]\n",
      " [13.0 'Moderate' 'no' 'no' 93.0]\n",
      " [15.0 'Moderate' 'no' 'no' 92.0]\n",
      " [18.0 'Moderate' 'no' 'no' 66.0]\n",
      " [19.0 'Normal' 'no' 'no' 92.0]\n",
      " [20.0 'Normal' 'no' 'no' 93.0]\n",
      " [17.0 'Normal' 'no' 'no' 93.0]\n",
      " [16.0 'Normal' 'no' 'no' 92.0]\n",
      " [18.0 'Normal' 'no' 'no' 93.0]\n",
      " [20.0 'Normal' 'no' 'no' 92.0]\n",
      " [25.0 'Moderate' 'no' 'no' 93.0]\n",
      " [24.0 'Moderate' 'no' 'no' 92.0]\n",
      " [26.0 'High' 'no' 'no' 94.0]\n",
      " [28.0 'Normal' 'no' 'no' 99.0]\n",
      " [29.0 'Normal' 'no' 'no' 93.0]\n",
      " [30.0 'Moderate' 'no' 'no' 62.0]\n",
      " [19.0 'Normal' 'no' 'no' 89.0]\n",
      " [25.0 'Normal' 'no' 'yes' 86.0]\n",
      " [26.0 'Normal' 'no' 'no' 82.07246376811594]\n",
      " [28.0 'Normal' 'no' 'no' 89.0]\n",
      " [30.0 'Moderate' 'yes' 'no' 86.0]\n",
      " [35.0 'Moderate' 'no' 'no' 89.0]\n",
      " [32.0 'Moderate' 'no' 'yes' 84.0]\n",
      " [45.130434782608695 'Moderate' 'yes' 'no' 90.0]\n",
      " [32.0 'Moderate' 'no' 'no' 89.0]\n",
      " [35.0 'Moderate' 'no' 'yes' 92.0]\n",
      " [38.0 'High' 'no' 'no' 75.0]\n",
      " [40.0 'Moderate' 'no' 'yes' 90.0]\n",
      " [46.0 'High' 'yes' 'no' 91.0]\n",
      " [48.0 'Moderate' 'no' 'yes' 93.0]\n",
      " [42.0 'High' 'no' 'no' 92.0]\n",
      " [40.0 'High' 'no' 'no' 92.0]\n",
      " [49.0 'Moderate' 'no' 'no' 80.0]\n",
      " [50.0 'High' 'yes' 'yes' 77.0]\n",
      " [36.0 'High' 'yes' 'no' 90.0]\n",
      " [52.0 'High' 'yes' 'yes' 80.0]\n",
      " [56.0 'High' 'yes' 'yes' 77.0]\n",
      " [58.0 'High' 'no' 'no' 70.0]\n",
      " [59.0 'High' 'no' 'yes' 69.0]\n",
      " [60.0 'High' 'yes' 'yes' 68.0]\n",
      " [53.0 'High' 'yes' 'no' 55.0]\n",
      " [54.0 'High' 'yes' 'yes' 70.0]\n",
      " [62.0 'High' 'yes' 'yes' 68.0]\n",
      " [63.0 'High' 'yes' 'yes' 66.0]\n",
      " [68.0 'High' 'yes' 'no' 67.0]\n",
      " [69.0 'High' 'no' 'yes' 53.0]\n",
      " [64.0 'High' 'yes' 'yes' 73.0]\n",
      " [61.0 'High' 'yes' 'yes' 76.0]\n",
      " [70.0 'Normal' 'no' 'yes' 88.0]\n",
      " [59.0 'High' 'yes' 'no' 68.0]\n",
      " [62.0 'High' 'yes' 'yes' 69.0]\n",
      " [78.0 'High' 'yes' 'yes' 71.0]\n",
      " [74.0 'High' 'yes' 'yes' 75.0]\n",
      " [75.0 'High' 'no' 'yes' 72.0]\n",
      " [56.0 'High' 'yes' 'no' 76.0]\n",
      " [80.0 'High' 'no' 'yes' 92.0]\n",
      " [82.0 'High' 'yes' 'yes' 73.0]\n",
      " [86.0 'High' 'yes' 'yes' 71.0]\n",
      " [90.0 'High' 'yes' 'yes' 67.0]\n",
      " [84.0 'High' 'yes' 'yes' 75.0]\n",
      " [86.0 'High' 'no' 'yes' 76.0]\n",
      " [61.0 'Moderate' 'no' 'yes' 90.0]\n",
      " [94.0 'High' 'yes' 'yes' 64.0]\n",
      " [81.0 'High' 'yes' 'yes' 75.0]\n",
      " [76.0 'High' 'yes' 'yes' 80.0]]\n"
     ]
    }
   ],
   "source": [
    "print(X)"
   ]
  },
  {
   "cell_type": "markdown",
   "id": "4a0848c3-5e01-4b1b-b318-2052a06d5fc5",
   "metadata": {},
   "source": [
    "## Encoding Categorical Data"
   ]
  },
  {
   "cell_type": "code",
   "execution_count": 21,
   "id": "43201e7d-89a9-4ff1-aa9d-a6672e1d62e2",
   "metadata": {},
   "outputs": [],
   "source": [
    " # For Encoding Categorical data like High , Medium and Low to -> ( 0 0 1 ) , ( 0 1 0) , ( 1 0 0 )"
   ]
  },
  {
   "cell_type": "code",
   "execution_count": 23,
   "id": "fc10d144-ffac-4c25-bbd4-2e268e9e9b4d",
   "metadata": {},
   "outputs": [],
   "source": [
    "# Enconding Independent Variable \n",
    "from sklearn.compose import ColumnTransformer  \n",
    "from sklearn.preprocessing import OneHotEncoder  # It would transform our columns into encodings"
   ]
  },
  {
   "cell_type": "code",
   "execution_count": 33,
   "id": "13eee63a-09fe-4979-985f-84b46867a102",
   "metadata": {},
   "outputs": [],
   "source": [
    "ct = ColumnTransformer(transformers=  [('encoder', OneHotEncoder(), [1])], remainder='passthrough')\n",
    "# If we dont specify remainder = 'passthrough' then it will give back 1 column but all the other columns will not be returned back in our variable, which will disrupt our data\n",
    "X = np.array(ct.fit_transform(X))"
   ]
  },
  {
   "cell_type": "code",
   "execution_count": 35,
   "id": "d9445313-0720-4fad-b9d5-e221eb73684a",
   "metadata": {},
   "outputs": [
    {
     "name": "stdout",
     "output_type": "stream",
     "text": [
      "[[0.0 0.0 1.0 10.0 'no' 'no' 97.0]\n",
      " [0.0 0.0 1.0 12.0 'no' 'no' 97.0]\n",
      " [0.0 0.0 1.0 15.0 'no' 'no' 94.0]\n",
      " [0.0 0.0 1.0 10.0 'no' 'no' 97.0]\n",
      " [0.0 1.0 0.0 13.0 'no' 'no' 94.0]\n",
      " [0.0 1.0 0.0 12.0 'no' 'no' 97.0]\n",
      " [0.0 1.0 0.0 13.0 'no' 'no' 93.0]\n",
      " [0.0 1.0 0.0 15.0 'no' 'no' 92.0]\n",
      " [0.0 1.0 0.0 18.0 'no' 'no' 66.0]\n",
      " [0.0 0.0 1.0 19.0 'no' 'no' 92.0]\n",
      " [0.0 0.0 1.0 20.0 'no' 'no' 93.0]\n",
      " [0.0 0.0 1.0 17.0 'no' 'no' 93.0]\n",
      " [0.0 0.0 1.0 16.0 'no' 'no' 92.0]\n",
      " [0.0 0.0 1.0 18.0 'no' 'no' 93.0]\n",
      " [0.0 0.0 1.0 20.0 'no' 'no' 92.0]\n",
      " [0.0 1.0 0.0 25.0 'no' 'no' 93.0]\n",
      " [0.0 1.0 0.0 24.0 'no' 'no' 92.0]\n",
      " [1.0 0.0 0.0 26.0 'no' 'no' 94.0]\n",
      " [0.0 0.0 1.0 28.0 'no' 'no' 99.0]\n",
      " [0.0 0.0 1.0 29.0 'no' 'no' 93.0]\n",
      " [0.0 1.0 0.0 30.0 'no' 'no' 62.0]\n",
      " [0.0 0.0 1.0 19.0 'no' 'no' 89.0]\n",
      " [0.0 0.0 1.0 25.0 'no' 'yes' 86.0]\n",
      " [0.0 0.0 1.0 26.0 'no' 'no' 82.07246376811594]\n",
      " [0.0 0.0 1.0 28.0 'no' 'no' 89.0]\n",
      " [0.0 1.0 0.0 30.0 'yes' 'no' 86.0]\n",
      " [0.0 1.0 0.0 35.0 'no' 'no' 89.0]\n",
      " [0.0 1.0 0.0 32.0 'no' 'yes' 84.0]\n",
      " [0.0 1.0 0.0 45.130434782608695 'yes' 'no' 90.0]\n",
      " [0.0 1.0 0.0 32.0 'no' 'no' 89.0]\n",
      " [0.0 1.0 0.0 35.0 'no' 'yes' 92.0]\n",
      " [1.0 0.0 0.0 38.0 'no' 'no' 75.0]\n",
      " [0.0 1.0 0.0 40.0 'no' 'yes' 90.0]\n",
      " [1.0 0.0 0.0 46.0 'yes' 'no' 91.0]\n",
      " [0.0 1.0 0.0 48.0 'no' 'yes' 93.0]\n",
      " [1.0 0.0 0.0 42.0 'no' 'no' 92.0]\n",
      " [1.0 0.0 0.0 40.0 'no' 'no' 92.0]\n",
      " [0.0 1.0 0.0 49.0 'no' 'no' 80.0]\n",
      " [1.0 0.0 0.0 50.0 'yes' 'yes' 77.0]\n",
      " [1.0 0.0 0.0 36.0 'yes' 'no' 90.0]\n",
      " [1.0 0.0 0.0 52.0 'yes' 'yes' 80.0]\n",
      " [1.0 0.0 0.0 56.0 'yes' 'yes' 77.0]\n",
      " [1.0 0.0 0.0 58.0 'no' 'no' 70.0]\n",
      " [1.0 0.0 0.0 59.0 'no' 'yes' 69.0]\n",
      " [1.0 0.0 0.0 60.0 'yes' 'yes' 68.0]\n",
      " [1.0 0.0 0.0 53.0 'yes' 'no' 55.0]\n",
      " [1.0 0.0 0.0 54.0 'yes' 'yes' 70.0]\n",
      " [1.0 0.0 0.0 62.0 'yes' 'yes' 68.0]\n",
      " [1.0 0.0 0.0 63.0 'yes' 'yes' 66.0]\n",
      " [1.0 0.0 0.0 68.0 'yes' 'no' 67.0]\n",
      " [1.0 0.0 0.0 69.0 'no' 'yes' 53.0]\n",
      " [1.0 0.0 0.0 64.0 'yes' 'yes' 73.0]\n",
      " [1.0 0.0 0.0 61.0 'yes' 'yes' 76.0]\n",
      " [0.0 0.0 1.0 70.0 'no' 'yes' 88.0]\n",
      " [1.0 0.0 0.0 59.0 'yes' 'no' 68.0]\n",
      " [1.0 0.0 0.0 62.0 'yes' 'yes' 69.0]\n",
      " [1.0 0.0 0.0 78.0 'yes' 'yes' 71.0]\n",
      " [1.0 0.0 0.0 74.0 'yes' 'yes' 75.0]\n",
      " [1.0 0.0 0.0 75.0 'no' 'yes' 72.0]\n",
      " [1.0 0.0 0.0 56.0 'yes' 'no' 76.0]\n",
      " [1.0 0.0 0.0 80.0 'no' 'yes' 92.0]\n",
      " [1.0 0.0 0.0 82.0 'yes' 'yes' 73.0]\n",
      " [1.0 0.0 0.0 86.0 'yes' 'yes' 71.0]\n",
      " [1.0 0.0 0.0 90.0 'yes' 'yes' 67.0]\n",
      " [1.0 0.0 0.0 84.0 'yes' 'yes' 75.0]\n",
      " [1.0 0.0 0.0 86.0 'no' 'yes' 76.0]\n",
      " [0.0 1.0 0.0 61.0 'no' 'yes' 90.0]\n",
      " [1.0 0.0 0.0 94.0 'yes' 'yes' 64.0]\n",
      " [1.0 0.0 0.0 81.0 'yes' 'yes' 75.0]\n",
      " [1.0 0.0 0.0 76.0 'yes' 'yes' 80.0]]\n"
     ]
    }
   ],
   "source": [
    "print(X)"
   ]
  },
  {
   "cell_type": "code",
   "execution_count": 40,
   "id": "06fa4ed9-e98d-49a0-9fdf-e5e6286f8ad7",
   "metadata": {},
   "outputs": [],
   "source": [
    "# Encoding dependent variables \n",
    "from sklearn.preprocessing import LabelEncoder   # Converting Yes or NO to 1 or 0\n",
    "le = LabelEncoder()\n",
    "y = le.fit_transform(y)"
   ]
  },
  {
   "cell_type": "code",
   "execution_count": 41,
   "id": "08f12222-b156-4ce2-9680-5500abd6f931",
   "metadata": {},
   "outputs": [
    {
     "name": "stdout",
     "output_type": "stream",
     "text": [
      "[0 0 0 0 0 0 0 0 1 0 0 0 0 0 0 0 0 0 0 0 1 0 0 0 0 0 0 0 0 0 0 1 0 0 0 0 0\n",
      " 1 1 0 1 1 1 1 1 1 1 1 1 1 1 1 1 0 1 1 1 1 1 1 0 1 1 1 1 1 0 1 1 1]\n"
     ]
    }
   ],
   "source": [
    "print(y)"
   ]
  },
  {
   "cell_type": "code",
   "execution_count": null,
   "id": "cf7e9043-e722-4f7d-b003-ddf5f0c508cd",
   "metadata": {},
   "outputs": [],
   "source": [
    "Splitting Data into test"
   ]
  }
 ],
 "metadata": {
  "kernelspec": {
   "display_name": "Python 3 (ipykernel)",
   "language": "python",
   "name": "python3"
  },
  "language_info": {
   "codemirror_mode": {
    "name": "ipython",
    "version": 3
   },
   "file_extension": ".py",
   "mimetype": "text/x-python",
   "name": "python",
   "nbconvert_exporter": "python",
   "pygments_lexer": "ipython3",
   "version": "3.11.8"
  }
 },
 "nbformat": 4,
 "nbformat_minor": 5
}
